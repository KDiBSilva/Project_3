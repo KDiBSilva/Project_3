{
 "cells": [
  {
   "cell_type": "code",
   "execution_count": 1,
   "id": "a11f48bb",
   "metadata": {},
   "outputs": [],
   "source": [
    "# Imports\n",
    "\n",
    "#Numpy\n",
    "import numpy as np\n",
    "#Pandas\n",
    "import pandas as pd\n",
    "#Matplotib\n",
    "import matplotlib.pyplot as plt\n",
    "# Seaborn\n",
    "import seaborn as sns\n",
    "# Hypothesis Testing \n",
    "import scipy.stats as stats\n",
    "\n",
    "from statsmodels.stats.multicomp import pairwise_tukeyhsd\n",
    "\n",
    "\n",
    "## Filter ALL warnings\n",
    "import warnings\n",
    "warnings.filterwarnings('ignore')"
   ]
  },
  {
   "cell_type": "markdown",
   "id": "c52dfcaf",
   "metadata": {},
   "source": [
    "# Load & Clean"
   ]
  },
  {
   "cell_type": "code",
   "execution_count": 2,
   "id": "5189e748",
   "metadata": {},
   "outputs": [
    {
     "data": {
      "text/html": [
       "<div>\n",
       "<style scoped>\n",
       "    .dataframe tbody tr th:only-of-type {\n",
       "        vertical-align: middle;\n",
       "    }\n",
       "\n",
       "    .dataframe tbody tr th {\n",
       "        vertical-align: top;\n",
       "    }\n",
       "\n",
       "    .dataframe thead th {\n",
       "        text-align: right;\n",
       "    }\n",
       "</style>\n",
       "<table border=\"1\" class=\"dataframe\">\n",
       "  <thead>\n",
       "    <tr style=\"text-align: right;\">\n",
       "      <th></th>\n",
       "      <th>imdb_id</th>\n",
       "      <th>adult</th>\n",
       "      <th>backdrop_path</th>\n",
       "      <th>belongs_to_collection</th>\n",
       "      <th>budget</th>\n",
       "      <th>genres</th>\n",
       "      <th>homepage</th>\n",
       "      <th>id</th>\n",
       "      <th>original_language</th>\n",
       "      <th>original_title</th>\n",
       "      <th>...</th>\n",
       "      <th>revenue</th>\n",
       "      <th>runtime</th>\n",
       "      <th>spoken_languages</th>\n",
       "      <th>status</th>\n",
       "      <th>tagline</th>\n",
       "      <th>title</th>\n",
       "      <th>video</th>\n",
       "      <th>vote_average</th>\n",
       "      <th>vote_count</th>\n",
       "      <th>certification</th>\n",
       "    </tr>\n",
       "  </thead>\n",
       "  <tbody>\n",
       "    <tr>\n",
       "      <th>0</th>\n",
       "      <td>tt0113026</td>\n",
       "      <td>0.0</td>\n",
       "      <td>/vMFs7nw6P0bIV1jDsQpxAieAVnH.jpg</td>\n",
       "      <td>NaN</td>\n",
       "      <td>10000000.0</td>\n",
       "      <td>[{'id': 35, 'name': 'Comedy'}, {'id': 10402, '...</td>\n",
       "      <td>NaN</td>\n",
       "      <td>62127.0</td>\n",
       "      <td>en</td>\n",
       "      <td>The Fantasticks</td>\n",
       "      <td>...</td>\n",
       "      <td>0.0</td>\n",
       "      <td>86.0</td>\n",
       "      <td>[{'english_name': 'English', 'iso_639_1': 'en'...</td>\n",
       "      <td>Released</td>\n",
       "      <td>Try to remember the first time magic happened</td>\n",
       "      <td>The Fantasticks</td>\n",
       "      <td>0.0</td>\n",
       "      <td>5.500</td>\n",
       "      <td>22.0</td>\n",
       "      <td>NaN</td>\n",
       "    </tr>\n",
       "    <tr>\n",
       "      <th>1</th>\n",
       "      <td>tt0113092</td>\n",
       "      <td>0.0</td>\n",
       "      <td>NaN</td>\n",
       "      <td>NaN</td>\n",
       "      <td>0.0</td>\n",
       "      <td>[{'id': 878, 'name': 'Science Fiction'}]</td>\n",
       "      <td>NaN</td>\n",
       "      <td>110977.0</td>\n",
       "      <td>en</td>\n",
       "      <td>For the Cause</td>\n",
       "      <td>...</td>\n",
       "      <td>0.0</td>\n",
       "      <td>100.0</td>\n",
       "      <td>[{'english_name': 'English', 'iso_639_1': 'en'...</td>\n",
       "      <td>Released</td>\n",
       "      <td>The ultimate showdown on a forbidden planet.</td>\n",
       "      <td>For the Cause</td>\n",
       "      <td>0.0</td>\n",
       "      <td>5.100</td>\n",
       "      <td>8.0</td>\n",
       "      <td>NaN</td>\n",
       "    </tr>\n",
       "    <tr>\n",
       "      <th>2</th>\n",
       "      <td>tt0116391</td>\n",
       "      <td>0.0</td>\n",
       "      <td>NaN</td>\n",
       "      <td>NaN</td>\n",
       "      <td>0.0</td>\n",
       "      <td>[{'id': 18, 'name': 'Drama'}, {'id': 28, 'name...</td>\n",
       "      <td>NaN</td>\n",
       "      <td>442869.0</td>\n",
       "      <td>hi</td>\n",
       "      <td>Gang</td>\n",
       "      <td>...</td>\n",
       "      <td>0.0</td>\n",
       "      <td>152.0</td>\n",
       "      <td>[{'english_name': 'Hindi', 'iso_639_1': 'hi', ...</td>\n",
       "      <td>Released</td>\n",
       "      <td>NaN</td>\n",
       "      <td>Gang</td>\n",
       "      <td>0.0</td>\n",
       "      <td>4.000</td>\n",
       "      <td>1.0</td>\n",
       "      <td>NaN</td>\n",
       "    </tr>\n",
       "    <tr>\n",
       "      <th>3</th>\n",
       "      <td>tt0118694</td>\n",
       "      <td>0.0</td>\n",
       "      <td>/n4GJFGzsc7NinI1VeGDXIcQjtU2.jpg</td>\n",
       "      <td>{'id': 1131062, 'name': 'Wong Kar-Wai’s Love T...</td>\n",
       "      <td>150000.0</td>\n",
       "      <td>[{'id': 18, 'name': 'Drama'}, {'id': 10749, 'n...</td>\n",
       "      <td>NaN</td>\n",
       "      <td>843.0</td>\n",
       "      <td>cn</td>\n",
       "      <td>花樣年華</td>\n",
       "      <td>...</td>\n",
       "      <td>14204632.0</td>\n",
       "      <td>99.0</td>\n",
       "      <td>[{'english_name': 'Cantonese', 'iso_639_1': 'c...</td>\n",
       "      <td>Released</td>\n",
       "      <td>Feel the heat, keep the feeling burning, let t...</td>\n",
       "      <td>In the Mood for Love</td>\n",
       "      <td>0.0</td>\n",
       "      <td>8.112</td>\n",
       "      <td>2245.0</td>\n",
       "      <td>PG</td>\n",
       "    </tr>\n",
       "    <tr>\n",
       "      <th>4</th>\n",
       "      <td>tt0118852</td>\n",
       "      <td>0.0</td>\n",
       "      <td>/vceiGZ3uavAEHlTA7v0GjQsGVKe.jpg</td>\n",
       "      <td>NaN</td>\n",
       "      <td>0.0</td>\n",
       "      <td>[{'id': 18, 'name': 'Drama'}]</td>\n",
       "      <td>NaN</td>\n",
       "      <td>49511.0</td>\n",
       "      <td>en</td>\n",
       "      <td>Chinese Coffee</td>\n",
       "      <td>...</td>\n",
       "      <td>0.0</td>\n",
       "      <td>99.0</td>\n",
       "      <td>[{'english_name': 'English', 'iso_639_1': 'en'...</td>\n",
       "      <td>Released</td>\n",
       "      <td>There's a fine line between friendship and bet...</td>\n",
       "      <td>Chinese Coffee</td>\n",
       "      <td>0.0</td>\n",
       "      <td>6.800</td>\n",
       "      <td>50.0</td>\n",
       "      <td>R</td>\n",
       "    </tr>\n",
       "  </tbody>\n",
       "</table>\n",
       "<p>5 rows × 26 columns</p>\n",
       "</div>"
      ],
      "text/plain": [
       "     imdb_id  adult                     backdrop_path  \\\n",
       "0  tt0113026    0.0  /vMFs7nw6P0bIV1jDsQpxAieAVnH.jpg   \n",
       "1  tt0113092    0.0                               NaN   \n",
       "2  tt0116391    0.0                               NaN   \n",
       "3  tt0118694    0.0  /n4GJFGzsc7NinI1VeGDXIcQjtU2.jpg   \n",
       "4  tt0118852    0.0  /vceiGZ3uavAEHlTA7v0GjQsGVKe.jpg   \n",
       "\n",
       "                               belongs_to_collection      budget  \\\n",
       "0                                                NaN  10000000.0   \n",
       "1                                                NaN         0.0   \n",
       "2                                                NaN         0.0   \n",
       "3  {'id': 1131062, 'name': 'Wong Kar-Wai’s Love T...    150000.0   \n",
       "4                                                NaN         0.0   \n",
       "\n",
       "                                              genres homepage        id  \\\n",
       "0  [{'id': 35, 'name': 'Comedy'}, {'id': 10402, '...      NaN   62127.0   \n",
       "1           [{'id': 878, 'name': 'Science Fiction'}]      NaN  110977.0   \n",
       "2  [{'id': 18, 'name': 'Drama'}, {'id': 28, 'name...      NaN  442869.0   \n",
       "3  [{'id': 18, 'name': 'Drama'}, {'id': 10749, 'n...      NaN     843.0   \n",
       "4                      [{'id': 18, 'name': 'Drama'}]      NaN   49511.0   \n",
       "\n",
       "  original_language   original_title  ...     revenue  runtime  \\\n",
       "0                en  The Fantasticks  ...         0.0     86.0   \n",
       "1                en    For the Cause  ...         0.0    100.0   \n",
       "2                hi             Gang  ...         0.0    152.0   \n",
       "3                cn             花樣年華  ...  14204632.0     99.0   \n",
       "4                en   Chinese Coffee  ...         0.0     99.0   \n",
       "\n",
       "                                    spoken_languages    status  \\\n",
       "0  [{'english_name': 'English', 'iso_639_1': 'en'...  Released   \n",
       "1  [{'english_name': 'English', 'iso_639_1': 'en'...  Released   \n",
       "2  [{'english_name': 'Hindi', 'iso_639_1': 'hi', ...  Released   \n",
       "3  [{'english_name': 'Cantonese', 'iso_639_1': 'c...  Released   \n",
       "4  [{'english_name': 'English', 'iso_639_1': 'en'...  Released   \n",
       "\n",
       "                                             tagline                 title  \\\n",
       "0      Try to remember the first time magic happened       The Fantasticks   \n",
       "1       The ultimate showdown on a forbidden planet.         For the Cause   \n",
       "2                                                NaN                  Gang   \n",
       "3  Feel the heat, keep the feeling burning, let t...  In the Mood for Love   \n",
       "4  There's a fine line between friendship and bet...        Chinese Coffee   \n",
       "\n",
       "   video  vote_average vote_count certification  \n",
       "0    0.0         5.500       22.0           NaN  \n",
       "1    0.0         5.100        8.0           NaN  \n",
       "2    0.0         4.000        1.0           NaN  \n",
       "3    0.0         8.112     2245.0            PG  \n",
       "4    0.0         6.800       50.0             R  \n",
       "\n",
       "[5 rows x 26 columns]"
      ]
     },
     "execution_count": 2,
     "metadata": {},
     "output_type": "execute_result"
    }
   ],
   "source": [
    "df = pd.read_csv('Data/combined_tmdb_data.csv.gz',lineterminator='\\n')\n",
    "df.head()"
   ]
  },
  {
   "cell_type": "markdown",
   "id": "1477f8a3",
   "metadata": {},
   "source": [
    "## Dropping Unnecessary Columns"
   ]
  },
  {
   "cell_type": "code",
   "execution_count": 3,
   "id": "deac108a",
   "metadata": {},
   "outputs": [
    {
     "data": {
      "text/html": [
       "<div>\n",
       "<style scoped>\n",
       "    .dataframe tbody tr th:only-of-type {\n",
       "        vertical-align: middle;\n",
       "    }\n",
       "\n",
       "    .dataframe tbody tr th {\n",
       "        vertical-align: top;\n",
       "    }\n",
       "\n",
       "    .dataframe thead th {\n",
       "        text-align: right;\n",
       "    }\n",
       "</style>\n",
       "<table border=\"1\" class=\"dataframe\">\n",
       "  <thead>\n",
       "    <tr style=\"text-align: right;\">\n",
       "      <th></th>\n",
       "      <th>imdb_id</th>\n",
       "      <th>adult</th>\n",
       "      <th>belongs_to_collection</th>\n",
       "      <th>budget</th>\n",
       "      <th>genres</th>\n",
       "      <th>popularity</th>\n",
       "      <th>release_date</th>\n",
       "      <th>revenue</th>\n",
       "      <th>runtime</th>\n",
       "      <th>title</th>\n",
       "      <th>vote_average</th>\n",
       "      <th>vote_count</th>\n",
       "      <th>certification</th>\n",
       "    </tr>\n",
       "  </thead>\n",
       "  <tbody>\n",
       "    <tr>\n",
       "      <th>0</th>\n",
       "      <td>tt0113026</td>\n",
       "      <td>0.0</td>\n",
       "      <td>NaN</td>\n",
       "      <td>10000000.0</td>\n",
       "      <td>[{'id': 35, 'name': 'Comedy'}, {'id': 10402, '...</td>\n",
       "      <td>3.004</td>\n",
       "      <td>2000-09-22</td>\n",
       "      <td>0.0</td>\n",
       "      <td>86.0</td>\n",
       "      <td>The Fantasticks</td>\n",
       "      <td>5.500</td>\n",
       "      <td>22.0</td>\n",
       "      <td>NaN</td>\n",
       "    </tr>\n",
       "    <tr>\n",
       "      <th>1</th>\n",
       "      <td>tt0113092</td>\n",
       "      <td>0.0</td>\n",
       "      <td>NaN</td>\n",
       "      <td>0.0</td>\n",
       "      <td>[{'id': 878, 'name': 'Science Fiction'}]</td>\n",
       "      <td>1.678</td>\n",
       "      <td>2000-11-15</td>\n",
       "      <td>0.0</td>\n",
       "      <td>100.0</td>\n",
       "      <td>For the Cause</td>\n",
       "      <td>5.100</td>\n",
       "      <td>8.0</td>\n",
       "      <td>NaN</td>\n",
       "    </tr>\n",
       "    <tr>\n",
       "      <th>2</th>\n",
       "      <td>tt0116391</td>\n",
       "      <td>0.0</td>\n",
       "      <td>NaN</td>\n",
       "      <td>0.0</td>\n",
       "      <td>[{'id': 18, 'name': 'Drama'}, {'id': 28, 'name...</td>\n",
       "      <td>0.930</td>\n",
       "      <td>2000-04-14</td>\n",
       "      <td>0.0</td>\n",
       "      <td>152.0</td>\n",
       "      <td>Gang</td>\n",
       "      <td>4.000</td>\n",
       "      <td>1.0</td>\n",
       "      <td>NaN</td>\n",
       "    </tr>\n",
       "    <tr>\n",
       "      <th>3</th>\n",
       "      <td>tt0118694</td>\n",
       "      <td>0.0</td>\n",
       "      <td>{'id': 1131062, 'name': 'Wong Kar-Wai’s Love T...</td>\n",
       "      <td>150000.0</td>\n",
       "      <td>[{'id': 18, 'name': 'Drama'}, {'id': 10749, 'n...</td>\n",
       "      <td>24.758</td>\n",
       "      <td>2000-09-29</td>\n",
       "      <td>14204632.0</td>\n",
       "      <td>99.0</td>\n",
       "      <td>In the Mood for Love</td>\n",
       "      <td>8.112</td>\n",
       "      <td>2245.0</td>\n",
       "      <td>PG</td>\n",
       "    </tr>\n",
       "    <tr>\n",
       "      <th>4</th>\n",
       "      <td>tt0118852</td>\n",
       "      <td>0.0</td>\n",
       "      <td>NaN</td>\n",
       "      <td>0.0</td>\n",
       "      <td>[{'id': 18, 'name': 'Drama'}]</td>\n",
       "      <td>4.001</td>\n",
       "      <td>2000-09-02</td>\n",
       "      <td>0.0</td>\n",
       "      <td>99.0</td>\n",
       "      <td>Chinese Coffee</td>\n",
       "      <td>6.800</td>\n",
       "      <td>50.0</td>\n",
       "      <td>R</td>\n",
       "    </tr>\n",
       "  </tbody>\n",
       "</table>\n",
       "</div>"
      ],
      "text/plain": [
       "     imdb_id  adult                              belongs_to_collection  \\\n",
       "0  tt0113026    0.0                                                NaN   \n",
       "1  tt0113092    0.0                                                NaN   \n",
       "2  tt0116391    0.0                                                NaN   \n",
       "3  tt0118694    0.0  {'id': 1131062, 'name': 'Wong Kar-Wai’s Love T...   \n",
       "4  tt0118852    0.0                                                NaN   \n",
       "\n",
       "       budget                                             genres  popularity  \\\n",
       "0  10000000.0  [{'id': 35, 'name': 'Comedy'}, {'id': 10402, '...       3.004   \n",
       "1         0.0           [{'id': 878, 'name': 'Science Fiction'}]       1.678   \n",
       "2         0.0  [{'id': 18, 'name': 'Drama'}, {'id': 28, 'name...       0.930   \n",
       "3    150000.0  [{'id': 18, 'name': 'Drama'}, {'id': 10749, 'n...      24.758   \n",
       "4         0.0                      [{'id': 18, 'name': 'Drama'}]       4.001   \n",
       "\n",
       "  release_date     revenue  runtime                 title  vote_average  \\\n",
       "0   2000-09-22         0.0     86.0       The Fantasticks         5.500   \n",
       "1   2000-11-15         0.0    100.0         For the Cause         5.100   \n",
       "2   2000-04-14         0.0    152.0                  Gang         4.000   \n",
       "3   2000-09-29  14204632.0     99.0  In the Mood for Love         8.112   \n",
       "4   2000-09-02         0.0     99.0        Chinese Coffee         6.800   \n",
       "\n",
       "   vote_count certification  \n",
       "0        22.0           NaN  \n",
       "1         8.0           NaN  \n",
       "2         1.0           NaN  \n",
       "3      2245.0            PG  \n",
       "4        50.0             R  "
      ]
     },
     "execution_count": 3,
     "metadata": {},
     "output_type": "execute_result"
    }
   ],
   "source": [
    "## Columns to exclude\n",
    "drop_cols = ['backdrop_path','backdrop_path','original_title','overview',\n",
    "                 'poster_path','status','tagline','id','homepage',\n",
    "                 'production_countries','video','production_companies','spoken_languages',\n",
    "            'original_language']\n",
    "df = df.drop(columns=drop_cols)\n",
    "df.head()"
   ]
  },
  {
   "cell_type": "markdown",
   "id": "e3a1dbef",
   "metadata": {},
   "source": [
    "## Cleaning 'belongs_to_collection' column"
   ]
  },
  {
   "cell_type": "code",
   "execution_count": 4,
   "id": "07eae5f0",
   "metadata": {},
   "outputs": [
    {
     "data": {
      "text/plain": [
       "{'id': 148065, 'name': 'Doraemon Collection', 'poster_path': '/4TLSP1KD1uAlp2q1rTrc6SFlktX.jpg', 'backdrop_path': '/rc6OFcSasL5YxBRPUQVwxmVF6h5.jpg'}             16\n",
       "{'id': 39199, 'name': 'Detective Conan Collection', 'poster_path': '/1wBfr532NOQK68wlo5ApjCmiQIB.jpg', 'backdrop_path': '/9bogrpii4e61SR6a9qLHow7I46U.jpg'}       16\n",
       "{'id': 403643, 'name': 'Troublesome Night Collection', 'poster_path': '/bPTx3TP4UJTHQfcLx4qIub9LXmi.jpg', 'backdrop_path': '/n3a7zF5GuxM2X8oPF6pKXqYS6ER.jpg'}    15\n",
       "{'id': 534673, 'name': 'Madea - Collection', 'poster_path': '/bO9NvwpSElW8lp33fGyy8VaS5s9.jpg', 'backdrop_path': '/qxLbjNPrMKTgYrMhIIDzj4zgYjf.jpg'}              11\n",
       "{'id': 23616, 'name': 'Naruto Collection', 'poster_path': '/q9rrfRgPUFkFqDF74jlvNYp3RpN.jpg', 'backdrop_path': '/prLI2SNNkd9wcQkFh9iWXzQtR5D.jpg'}                11\n",
       "                                                                                                                                                                  ..\n",
       "{'id': 94602, 'name': 'Puss in Boots Collection', 'poster_path': '/anHwj9IupRoRZZ98WTBvHpTiE6A.jpg', 'backdrop_path': '/feU1DWV5zMWxXUHJyAIk3dHRQ9c.jpg'}          1\n",
       "{'id': 716198, 'name': 'Pelevin by Ginzburg Series', 'poster_path': None, 'backdrop_path': None}                                                                   1\n",
       "{'id': 479888, 'name': 'The Thing Collection', 'poster_path': '/vnfxRM89Qav5d0fMluIwx1hKadc.jpg', 'backdrop_path': '/eJ5Atu6k56vShNymq2RQ6VExXfA.jpg'}             1\n",
       "{'id': 2602, 'name': 'Scream Collection', 'poster_path': '/p3EjClFy20jjT0u06dzBs4lvvhi.jpg', 'backdrop_path': '/dZqsivuEhuHMYgLiMjtMXLImRzE.jpg'}                  1\n",
       "{'id': 848922, 'name': 'The Tomorrow War Collection', 'poster_path': '/3YylRW8holkhX6IkOUxAy93DWWs.jpg', 'backdrop_path': '/yKSNSOwHOeiZv2DxwHAlpiEXBB4.jpg'}      1\n",
       "Name: belongs_to_collection, Length: 1914, dtype: int64"
      ]
     },
     "execution_count": 4,
     "metadata": {},
     "output_type": "execute_result"
    }
   ],
   "source": [
    "df['belongs_to_collection'].value_counts()"
   ]
  },
  {
   "cell_type": "code",
   "execution_count": 5,
   "id": "dfe6302f",
   "metadata": {},
   "outputs": [
    {
     "data": {
      "text/plain": [
       "False    56488\n",
       "True      3756\n",
       "Name: belongs_to_collection, dtype: int64"
      ]
     },
     "execution_count": 5,
     "metadata": {},
     "output_type": "execute_result"
    }
   ],
   "source": [
    "# Use .notna() to get True if it belongs to a collection\n",
    "df['belongs_to_collection'] = df['belongs_to_collection'].notna()\n",
    "df['belongs_to_collection'].value_counts()"
   ]
  },
  {
   "cell_type": "markdown",
   "id": "d5c9a64b",
   "metadata": {},
   "source": [
    "## Cleaning/Expanding 'genres' column "
   ]
  },
  {
   "cell_type": "code",
   "execution_count": 6,
   "id": "72d846a8",
   "metadata": {},
   "outputs": [],
   "source": [
    "## Function to get just the genre names as a list \n",
    "import json\n",
    "def get_genre_name(x):\n",
    "    x = x.replace(\"'\",'\"')\n",
    "    x = json.loads(x)\n",
    "    \n",
    "    genres = []\n",
    "    for genre in x:\n",
    "        genres.append(genre['name'])\n",
    "    return genres"
   ]
  },
  {
   "cell_type": "code",
   "execution_count": 7,
   "id": "9653524e",
   "metadata": {},
   "outputs": [
    {
     "data": {
      "text/plain": [
       "['Comedy', 'Music', 'Romance']"
      ]
     },
     "execution_count": 7,
     "metadata": {},
     "output_type": "execute_result"
    }
   ],
   "source": [
    "# Use our function on our test case\n",
    "get_genre_name(df.loc[0,'genres'])"
   ]
  },
  {
   "cell_type": "code",
   "execution_count": 8,
   "id": "3370e83f",
   "metadata": {},
   "outputs": [
    {
     "data": {
      "text/html": [
       "<div>\n",
       "<style scoped>\n",
       "    .dataframe tbody tr th:only-of-type {\n",
       "        vertical-align: middle;\n",
       "    }\n",
       "\n",
       "    .dataframe tbody tr th {\n",
       "        vertical-align: top;\n",
       "    }\n",
       "\n",
       "    .dataframe thead th {\n",
       "        text-align: right;\n",
       "    }\n",
       "</style>\n",
       "<table border=\"1\" class=\"dataframe\">\n",
       "  <thead>\n",
       "    <tr style=\"text-align: right;\">\n",
       "      <th></th>\n",
       "      <th>imdb_id</th>\n",
       "      <th>adult</th>\n",
       "      <th>belongs_to_collection</th>\n",
       "      <th>budget</th>\n",
       "      <th>genres</th>\n",
       "      <th>popularity</th>\n",
       "      <th>release_date</th>\n",
       "      <th>revenue</th>\n",
       "      <th>runtime</th>\n",
       "      <th>title</th>\n",
       "      <th>vote_average</th>\n",
       "      <th>vote_count</th>\n",
       "      <th>certification</th>\n",
       "      <th>genres_list</th>\n",
       "    </tr>\n",
       "  </thead>\n",
       "  <tbody>\n",
       "    <tr>\n",
       "      <th>0</th>\n",
       "      <td>tt0113026</td>\n",
       "      <td>0.0</td>\n",
       "      <td>False</td>\n",
       "      <td>10000000.0</td>\n",
       "      <td>[{'id': 35, 'name': 'Comedy'}, {'id': 10402, '...</td>\n",
       "      <td>3.004</td>\n",
       "      <td>2000-09-22</td>\n",
       "      <td>0.0</td>\n",
       "      <td>86.0</td>\n",
       "      <td>The Fantasticks</td>\n",
       "      <td>5.5</td>\n",
       "      <td>22.0</td>\n",
       "      <td>NaN</td>\n",
       "      <td>Comedy</td>\n",
       "    </tr>\n",
       "    <tr>\n",
       "      <th>0</th>\n",
       "      <td>tt0113026</td>\n",
       "      <td>0.0</td>\n",
       "      <td>False</td>\n",
       "      <td>10000000.0</td>\n",
       "      <td>[{'id': 35, 'name': 'Comedy'}, {'id': 10402, '...</td>\n",
       "      <td>3.004</td>\n",
       "      <td>2000-09-22</td>\n",
       "      <td>0.0</td>\n",
       "      <td>86.0</td>\n",
       "      <td>The Fantasticks</td>\n",
       "      <td>5.5</td>\n",
       "      <td>22.0</td>\n",
       "      <td>NaN</td>\n",
       "      <td>Music</td>\n",
       "    </tr>\n",
       "    <tr>\n",
       "      <th>0</th>\n",
       "      <td>tt0113026</td>\n",
       "      <td>0.0</td>\n",
       "      <td>False</td>\n",
       "      <td>10000000.0</td>\n",
       "      <td>[{'id': 35, 'name': 'Comedy'}, {'id': 10402, '...</td>\n",
       "      <td>3.004</td>\n",
       "      <td>2000-09-22</td>\n",
       "      <td>0.0</td>\n",
       "      <td>86.0</td>\n",
       "      <td>The Fantasticks</td>\n",
       "      <td>5.5</td>\n",
       "      <td>22.0</td>\n",
       "      <td>NaN</td>\n",
       "      <td>Romance</td>\n",
       "    </tr>\n",
       "    <tr>\n",
       "      <th>1</th>\n",
       "      <td>tt0113092</td>\n",
       "      <td>0.0</td>\n",
       "      <td>False</td>\n",
       "      <td>0.0</td>\n",
       "      <td>[{'id': 878, 'name': 'Science Fiction'}]</td>\n",
       "      <td>1.678</td>\n",
       "      <td>2000-11-15</td>\n",
       "      <td>0.0</td>\n",
       "      <td>100.0</td>\n",
       "      <td>For the Cause</td>\n",
       "      <td>5.1</td>\n",
       "      <td>8.0</td>\n",
       "      <td>NaN</td>\n",
       "      <td>Science Fiction</td>\n",
       "    </tr>\n",
       "    <tr>\n",
       "      <th>2</th>\n",
       "      <td>tt0116391</td>\n",
       "      <td>0.0</td>\n",
       "      <td>False</td>\n",
       "      <td>0.0</td>\n",
       "      <td>[{'id': 18, 'name': 'Drama'}, {'id': 28, 'name...</td>\n",
       "      <td>0.930</td>\n",
       "      <td>2000-04-14</td>\n",
       "      <td>0.0</td>\n",
       "      <td>152.0</td>\n",
       "      <td>Gang</td>\n",
       "      <td>4.0</td>\n",
       "      <td>1.0</td>\n",
       "      <td>NaN</td>\n",
       "      <td>Drama</td>\n",
       "    </tr>\n",
       "  </tbody>\n",
       "</table>\n",
       "</div>"
      ],
      "text/plain": [
       "     imdb_id  adult  belongs_to_collection      budget  \\\n",
       "0  tt0113026    0.0                  False  10000000.0   \n",
       "0  tt0113026    0.0                  False  10000000.0   \n",
       "0  tt0113026    0.0                  False  10000000.0   \n",
       "1  tt0113092    0.0                  False         0.0   \n",
       "2  tt0116391    0.0                  False         0.0   \n",
       "\n",
       "                                              genres  popularity release_date  \\\n",
       "0  [{'id': 35, 'name': 'Comedy'}, {'id': 10402, '...       3.004   2000-09-22   \n",
       "0  [{'id': 35, 'name': 'Comedy'}, {'id': 10402, '...       3.004   2000-09-22   \n",
       "0  [{'id': 35, 'name': 'Comedy'}, {'id': 10402, '...       3.004   2000-09-22   \n",
       "1           [{'id': 878, 'name': 'Science Fiction'}]       1.678   2000-11-15   \n",
       "2  [{'id': 18, 'name': 'Drama'}, {'id': 28, 'name...       0.930   2000-04-14   \n",
       "\n",
       "   revenue  runtime            title  vote_average  vote_count certification  \\\n",
       "0      0.0     86.0  The Fantasticks           5.5        22.0           NaN   \n",
       "0      0.0     86.0  The Fantasticks           5.5        22.0           NaN   \n",
       "0      0.0     86.0  The Fantasticks           5.5        22.0           NaN   \n",
       "1      0.0    100.0    For the Cause           5.1         8.0           NaN   \n",
       "2      0.0    152.0             Gang           4.0         1.0           NaN   \n",
       "\n",
       "       genres_list  \n",
       "0           Comedy  \n",
       "0            Music  \n",
       "0          Romance  \n",
       "1  Science Fiction  \n",
       "2            Drama  "
      ]
     },
     "execution_count": 8,
     "metadata": {},
     "output_type": "execute_result"
    }
   ],
   "source": [
    "## Use our function and exploding the new column\n",
    "df['genres_list'] = df['genres'].apply(get_genre_name)\n",
    "df_explode = df.explode('genres_list')\n",
    "df_explode.head()"
   ]
  },
  {
   "cell_type": "code",
   "execution_count": 9,
   "id": "a3609c25",
   "metadata": {},
   "outputs": [
    {
     "data": {
      "text/plain": [
       "array(['Comedy', 'Music', 'Romance', 'Science Fiction', 'Drama', 'Action',\n",
       "       'Crime', 'Adventure', 'Animation', 'Fantasy', 'Horror', 'Thriller',\n",
       "       'History', 'Family', 'Mystery', 'Western', 'War', 'TV Movie',\n",
       "       'Documentary'], dtype=object)"
      ]
     },
     "execution_count": 9,
     "metadata": {},
     "output_type": "execute_result"
    }
   ],
   "source": [
    "# save unique genres\n",
    "unique_genres = df_explode['genres_list'].dropna().unique()\n",
    "unique_genres"
   ]
  },
  {
   "cell_type": "code",
   "execution_count": 10,
   "id": "9dba0449",
   "metadata": {},
   "outputs": [
    {
     "data": {
      "text/html": [
       "<div>\n",
       "<style scoped>\n",
       "    .dataframe tbody tr th:only-of-type {\n",
       "        vertical-align: middle;\n",
       "    }\n",
       "\n",
       "    .dataframe tbody tr th {\n",
       "        vertical-align: top;\n",
       "    }\n",
       "\n",
       "    .dataframe thead th {\n",
       "        text-align: right;\n",
       "    }\n",
       "</style>\n",
       "<table border=\"1\" class=\"dataframe\">\n",
       "  <thead>\n",
       "    <tr style=\"text-align: right;\">\n",
       "      <th></th>\n",
       "      <th>imdb_id</th>\n",
       "      <th>adult</th>\n",
       "      <th>belongs_to_collection</th>\n",
       "      <th>budget</th>\n",
       "      <th>genres</th>\n",
       "      <th>popularity</th>\n",
       "      <th>release_date</th>\n",
       "      <th>revenue</th>\n",
       "      <th>runtime</th>\n",
       "      <th>title</th>\n",
       "      <th>...</th>\n",
       "      <th>Genre_Fantasy</th>\n",
       "      <th>Genre_Horror</th>\n",
       "      <th>Genre_Thriller</th>\n",
       "      <th>Genre_History</th>\n",
       "      <th>Genre_Family</th>\n",
       "      <th>Genre_Mystery</th>\n",
       "      <th>Genre_Western</th>\n",
       "      <th>Genre_War</th>\n",
       "      <th>Genre_TV Movie</th>\n",
       "      <th>Genre_Documentary</th>\n",
       "    </tr>\n",
       "  </thead>\n",
       "  <tbody>\n",
       "    <tr>\n",
       "      <th>0</th>\n",
       "      <td>tt0113026</td>\n",
       "      <td>0.0</td>\n",
       "      <td>False</td>\n",
       "      <td>10000000.0</td>\n",
       "      <td>[{'id': 35, 'name': 'Comedy'}, {'id': 10402, '...</td>\n",
       "      <td>3.004</td>\n",
       "      <td>2000-09-22</td>\n",
       "      <td>0.0</td>\n",
       "      <td>86.0</td>\n",
       "      <td>The Fantasticks</td>\n",
       "      <td>...</td>\n",
       "      <td>False</td>\n",
       "      <td>False</td>\n",
       "      <td>False</td>\n",
       "      <td>False</td>\n",
       "      <td>False</td>\n",
       "      <td>False</td>\n",
       "      <td>False</td>\n",
       "      <td>False</td>\n",
       "      <td>False</td>\n",
       "      <td>False</td>\n",
       "    </tr>\n",
       "    <tr>\n",
       "      <th>1</th>\n",
       "      <td>tt0113092</td>\n",
       "      <td>0.0</td>\n",
       "      <td>False</td>\n",
       "      <td>0.0</td>\n",
       "      <td>[{'id': 878, 'name': 'Science Fiction'}]</td>\n",
       "      <td>1.678</td>\n",
       "      <td>2000-11-15</td>\n",
       "      <td>0.0</td>\n",
       "      <td>100.0</td>\n",
       "      <td>For the Cause</td>\n",
       "      <td>...</td>\n",
       "      <td>False</td>\n",
       "      <td>False</td>\n",
       "      <td>False</td>\n",
       "      <td>False</td>\n",
       "      <td>False</td>\n",
       "      <td>False</td>\n",
       "      <td>False</td>\n",
       "      <td>False</td>\n",
       "      <td>False</td>\n",
       "      <td>False</td>\n",
       "    </tr>\n",
       "    <tr>\n",
       "      <th>2</th>\n",
       "      <td>tt0116391</td>\n",
       "      <td>0.0</td>\n",
       "      <td>False</td>\n",
       "      <td>0.0</td>\n",
       "      <td>[{'id': 18, 'name': 'Drama'}, {'id': 28, 'name...</td>\n",
       "      <td>0.930</td>\n",
       "      <td>2000-04-14</td>\n",
       "      <td>0.0</td>\n",
       "      <td>152.0</td>\n",
       "      <td>Gang</td>\n",
       "      <td>...</td>\n",
       "      <td>False</td>\n",
       "      <td>False</td>\n",
       "      <td>False</td>\n",
       "      <td>False</td>\n",
       "      <td>False</td>\n",
       "      <td>False</td>\n",
       "      <td>False</td>\n",
       "      <td>False</td>\n",
       "      <td>False</td>\n",
       "      <td>False</td>\n",
       "    </tr>\n",
       "    <tr>\n",
       "      <th>3</th>\n",
       "      <td>tt0118694</td>\n",
       "      <td>0.0</td>\n",
       "      <td>True</td>\n",
       "      <td>150000.0</td>\n",
       "      <td>[{'id': 18, 'name': 'Drama'}, {'id': 10749, 'n...</td>\n",
       "      <td>24.758</td>\n",
       "      <td>2000-09-29</td>\n",
       "      <td>14204632.0</td>\n",
       "      <td>99.0</td>\n",
       "      <td>In the Mood for Love</td>\n",
       "      <td>...</td>\n",
       "      <td>False</td>\n",
       "      <td>False</td>\n",
       "      <td>False</td>\n",
       "      <td>False</td>\n",
       "      <td>False</td>\n",
       "      <td>False</td>\n",
       "      <td>False</td>\n",
       "      <td>False</td>\n",
       "      <td>False</td>\n",
       "      <td>False</td>\n",
       "    </tr>\n",
       "    <tr>\n",
       "      <th>4</th>\n",
       "      <td>tt0118852</td>\n",
       "      <td>0.0</td>\n",
       "      <td>False</td>\n",
       "      <td>0.0</td>\n",
       "      <td>[{'id': 18, 'name': 'Drama'}]</td>\n",
       "      <td>4.001</td>\n",
       "      <td>2000-09-02</td>\n",
       "      <td>0.0</td>\n",
       "      <td>99.0</td>\n",
       "      <td>Chinese Coffee</td>\n",
       "      <td>...</td>\n",
       "      <td>False</td>\n",
       "      <td>False</td>\n",
       "      <td>False</td>\n",
       "      <td>False</td>\n",
       "      <td>False</td>\n",
       "      <td>False</td>\n",
       "      <td>False</td>\n",
       "      <td>False</td>\n",
       "      <td>False</td>\n",
       "      <td>False</td>\n",
       "    </tr>\n",
       "  </tbody>\n",
       "</table>\n",
       "<p>5 rows × 33 columns</p>\n",
       "</div>"
      ],
      "text/plain": [
       "     imdb_id  adult  belongs_to_collection      budget  \\\n",
       "0  tt0113026    0.0                  False  10000000.0   \n",
       "1  tt0113092    0.0                  False         0.0   \n",
       "2  tt0116391    0.0                  False         0.0   \n",
       "3  tt0118694    0.0                   True    150000.0   \n",
       "4  tt0118852    0.0                  False         0.0   \n",
       "\n",
       "                                              genres  popularity release_date  \\\n",
       "0  [{'id': 35, 'name': 'Comedy'}, {'id': 10402, '...       3.004   2000-09-22   \n",
       "1           [{'id': 878, 'name': 'Science Fiction'}]       1.678   2000-11-15   \n",
       "2  [{'id': 18, 'name': 'Drama'}, {'id': 28, 'name...       0.930   2000-04-14   \n",
       "3  [{'id': 18, 'name': 'Drama'}, {'id': 10749, 'n...      24.758   2000-09-29   \n",
       "4                      [{'id': 18, 'name': 'Drama'}]       4.001   2000-09-02   \n",
       "\n",
       "      revenue  runtime                 title  ...  Genre_Fantasy  \\\n",
       "0         0.0     86.0       The Fantasticks  ...          False   \n",
       "1         0.0    100.0         For the Cause  ...          False   \n",
       "2         0.0    152.0                  Gang  ...          False   \n",
       "3  14204632.0     99.0  In the Mood for Love  ...          False   \n",
       "4         0.0     99.0        Chinese Coffee  ...          False   \n",
       "\n",
       "   Genre_Horror Genre_Thriller Genre_History  Genre_Family  Genre_Mystery  \\\n",
       "0         False          False         False         False          False   \n",
       "1         False          False         False         False          False   \n",
       "2         False          False         False         False          False   \n",
       "3         False          False         False         False          False   \n",
       "4         False          False         False         False          False   \n",
       "\n",
       "   Genre_Western  Genre_War  Genre_TV Movie  Genre_Documentary  \n",
       "0          False      False           False              False  \n",
       "1          False      False           False              False  \n",
       "2          False      False           False              False  \n",
       "3          False      False           False              False  \n",
       "4          False      False           False              False  \n",
       "\n",
       "[5 rows x 33 columns]"
      ]
     },
     "execution_count": 10,
     "metadata": {},
     "output_type": "execute_result"
    }
   ],
   "source": [
    "# One-Hot-Encode Genres\n",
    "for genre in unique_genres:\n",
    "    df[f\"Genre_{genre}\"] = df['genres'].str.contains(genre,regex=False)    \n",
    "df.head()"
   ]
  },
  {
   "cell_type": "code",
   "execution_count": 11,
   "id": "0969f9f8",
   "metadata": {},
   "outputs": [
    {
     "data": {
      "text/html": [
       "<div>\n",
       "<style scoped>\n",
       "    .dataframe tbody tr th:only-of-type {\n",
       "        vertical-align: middle;\n",
       "    }\n",
       "\n",
       "    .dataframe tbody tr th {\n",
       "        vertical-align: top;\n",
       "    }\n",
       "\n",
       "    .dataframe thead th {\n",
       "        text-align: right;\n",
       "    }\n",
       "</style>\n",
       "<table border=\"1\" class=\"dataframe\">\n",
       "  <thead>\n",
       "    <tr style=\"text-align: right;\">\n",
       "      <th></th>\n",
       "      <th>imdb_id</th>\n",
       "      <th>adult</th>\n",
       "      <th>belongs_to_collection</th>\n",
       "      <th>budget</th>\n",
       "      <th>popularity</th>\n",
       "      <th>release_date</th>\n",
       "      <th>revenue</th>\n",
       "      <th>runtime</th>\n",
       "      <th>title</th>\n",
       "      <th>vote_average</th>\n",
       "      <th>...</th>\n",
       "      <th>Genre_Fantasy</th>\n",
       "      <th>Genre_Horror</th>\n",
       "      <th>Genre_Thriller</th>\n",
       "      <th>Genre_History</th>\n",
       "      <th>Genre_Family</th>\n",
       "      <th>Genre_Mystery</th>\n",
       "      <th>Genre_Western</th>\n",
       "      <th>Genre_War</th>\n",
       "      <th>Genre_TV Movie</th>\n",
       "      <th>Genre_Documentary</th>\n",
       "    </tr>\n",
       "  </thead>\n",
       "  <tbody>\n",
       "    <tr>\n",
       "      <th>0</th>\n",
       "      <td>tt0113026</td>\n",
       "      <td>0.0</td>\n",
       "      <td>False</td>\n",
       "      <td>10000000.0</td>\n",
       "      <td>3.004</td>\n",
       "      <td>2000-09-22</td>\n",
       "      <td>0.0</td>\n",
       "      <td>86.0</td>\n",
       "      <td>The Fantasticks</td>\n",
       "      <td>5.500</td>\n",
       "      <td>...</td>\n",
       "      <td>False</td>\n",
       "      <td>False</td>\n",
       "      <td>False</td>\n",
       "      <td>False</td>\n",
       "      <td>False</td>\n",
       "      <td>False</td>\n",
       "      <td>False</td>\n",
       "      <td>False</td>\n",
       "      <td>False</td>\n",
       "      <td>False</td>\n",
       "    </tr>\n",
       "    <tr>\n",
       "      <th>1</th>\n",
       "      <td>tt0113092</td>\n",
       "      <td>0.0</td>\n",
       "      <td>False</td>\n",
       "      <td>0.0</td>\n",
       "      <td>1.678</td>\n",
       "      <td>2000-11-15</td>\n",
       "      <td>0.0</td>\n",
       "      <td>100.0</td>\n",
       "      <td>For the Cause</td>\n",
       "      <td>5.100</td>\n",
       "      <td>...</td>\n",
       "      <td>False</td>\n",
       "      <td>False</td>\n",
       "      <td>False</td>\n",
       "      <td>False</td>\n",
       "      <td>False</td>\n",
       "      <td>False</td>\n",
       "      <td>False</td>\n",
       "      <td>False</td>\n",
       "      <td>False</td>\n",
       "      <td>False</td>\n",
       "    </tr>\n",
       "    <tr>\n",
       "      <th>2</th>\n",
       "      <td>tt0116391</td>\n",
       "      <td>0.0</td>\n",
       "      <td>False</td>\n",
       "      <td>0.0</td>\n",
       "      <td>0.930</td>\n",
       "      <td>2000-04-14</td>\n",
       "      <td>0.0</td>\n",
       "      <td>152.0</td>\n",
       "      <td>Gang</td>\n",
       "      <td>4.000</td>\n",
       "      <td>...</td>\n",
       "      <td>False</td>\n",
       "      <td>False</td>\n",
       "      <td>False</td>\n",
       "      <td>False</td>\n",
       "      <td>False</td>\n",
       "      <td>False</td>\n",
       "      <td>False</td>\n",
       "      <td>False</td>\n",
       "      <td>False</td>\n",
       "      <td>False</td>\n",
       "    </tr>\n",
       "    <tr>\n",
       "      <th>3</th>\n",
       "      <td>tt0118694</td>\n",
       "      <td>0.0</td>\n",
       "      <td>True</td>\n",
       "      <td>150000.0</td>\n",
       "      <td>24.758</td>\n",
       "      <td>2000-09-29</td>\n",
       "      <td>14204632.0</td>\n",
       "      <td>99.0</td>\n",
       "      <td>In the Mood for Love</td>\n",
       "      <td>8.112</td>\n",
       "      <td>...</td>\n",
       "      <td>False</td>\n",
       "      <td>False</td>\n",
       "      <td>False</td>\n",
       "      <td>False</td>\n",
       "      <td>False</td>\n",
       "      <td>False</td>\n",
       "      <td>False</td>\n",
       "      <td>False</td>\n",
       "      <td>False</td>\n",
       "      <td>False</td>\n",
       "    </tr>\n",
       "    <tr>\n",
       "      <th>4</th>\n",
       "      <td>tt0118852</td>\n",
       "      <td>0.0</td>\n",
       "      <td>False</td>\n",
       "      <td>0.0</td>\n",
       "      <td>4.001</td>\n",
       "      <td>2000-09-02</td>\n",
       "      <td>0.0</td>\n",
       "      <td>99.0</td>\n",
       "      <td>Chinese Coffee</td>\n",
       "      <td>6.800</td>\n",
       "      <td>...</td>\n",
       "      <td>False</td>\n",
       "      <td>False</td>\n",
       "      <td>False</td>\n",
       "      <td>False</td>\n",
       "      <td>False</td>\n",
       "      <td>False</td>\n",
       "      <td>False</td>\n",
       "      <td>False</td>\n",
       "      <td>False</td>\n",
       "      <td>False</td>\n",
       "    </tr>\n",
       "  </tbody>\n",
       "</table>\n",
       "<p>5 rows × 31 columns</p>\n",
       "</div>"
      ],
      "text/plain": [
       "     imdb_id  adult  belongs_to_collection      budget  popularity  \\\n",
       "0  tt0113026    0.0                  False  10000000.0       3.004   \n",
       "1  tt0113092    0.0                  False         0.0       1.678   \n",
       "2  tt0116391    0.0                  False         0.0       0.930   \n",
       "3  tt0118694    0.0                   True    150000.0      24.758   \n",
       "4  tt0118852    0.0                  False         0.0       4.001   \n",
       "\n",
       "  release_date     revenue  runtime                 title  vote_average  ...  \\\n",
       "0   2000-09-22         0.0     86.0       The Fantasticks         5.500  ...   \n",
       "1   2000-11-15         0.0    100.0         For the Cause         5.100  ...   \n",
       "2   2000-04-14         0.0    152.0                  Gang         4.000  ...   \n",
       "3   2000-09-29  14204632.0     99.0  In the Mood for Love         8.112  ...   \n",
       "4   2000-09-02         0.0     99.0        Chinese Coffee         6.800  ...   \n",
       "\n",
       "   Genre_Fantasy Genre_Horror  Genre_Thriller  Genre_History  Genre_Family  \\\n",
       "0          False        False           False          False         False   \n",
       "1          False        False           False          False         False   \n",
       "2          False        False           False          False         False   \n",
       "3          False        False           False          False         False   \n",
       "4          False        False           False          False         False   \n",
       "\n",
       "   Genre_Mystery  Genre_Western  Genre_War  Genre_TV Movie  Genre_Documentary  \n",
       "0          False          False      False           False              False  \n",
       "1          False          False      False           False              False  \n",
       "2          False          False      False           False              False  \n",
       "3          False          False      False           False              False  \n",
       "4          False          False      False           False              False  \n",
       "\n",
       "[5 rows x 31 columns]"
      ]
     },
     "execution_count": 11,
     "metadata": {},
     "output_type": "execute_result"
    }
   ],
   "source": [
    "## Drop original genre cols\n",
    "df = df.drop(columns=['genres','genres_list'])\n",
    "df.head()"
   ]
  },
  {
   "cell_type": "markdown",
   "id": "0a8c5db5",
   "metadata": {},
   "source": [
    "## Creating Separate Columns for 'release_date'"
   ]
  },
  {
   "cell_type": "code",
   "execution_count": 12,
   "id": "20aec07f",
   "metadata": {},
   "outputs": [
    {
     "data": {
      "text/plain": [
       "2009-01-01    265\n",
       "2010-01-01    244\n",
       "2008-01-01    232\n",
       "2011-01-01    209\n",
       "2012-01-01    187\n",
       "             ... \n",
       "2006-01-15      1\n",
       "2004-07-12      1\n",
       "2011-05-28      1\n",
       "2011-03-07      1\n",
       "2022-08-31      1\n",
       "Name: release_date, Length: 7644, dtype: int64"
      ]
     },
     "execution_count": 12,
     "metadata": {},
     "output_type": "execute_result"
    }
   ],
   "source": [
    "## view value_counts()\n",
    "df['release_date'].value_counts()"
   ]
  },
  {
   "cell_type": "code",
   "execution_count": 13,
   "id": "eb1949e0",
   "metadata": {},
   "outputs": [
    {
     "data": {
      "text/html": [
       "<div>\n",
       "<style scoped>\n",
       "    .dataframe tbody tr th:only-of-type {\n",
       "        vertical-align: middle;\n",
       "    }\n",
       "\n",
       "    .dataframe tbody tr th {\n",
       "        vertical-align: top;\n",
       "    }\n",
       "\n",
       "    .dataframe thead th {\n",
       "        text-align: right;\n",
       "    }\n",
       "</style>\n",
       "<table border=\"1\" class=\"dataframe\">\n",
       "  <thead>\n",
       "    <tr style=\"text-align: right;\">\n",
       "      <th></th>\n",
       "      <th>imdb_id</th>\n",
       "      <th>adult</th>\n",
       "      <th>belongs_to_collection</th>\n",
       "      <th>budget</th>\n",
       "      <th>popularity</th>\n",
       "      <th>release_date</th>\n",
       "      <th>revenue</th>\n",
       "      <th>runtime</th>\n",
       "      <th>title</th>\n",
       "      <th>vote_average</th>\n",
       "      <th>...</th>\n",
       "      <th>Genre_History</th>\n",
       "      <th>Genre_Family</th>\n",
       "      <th>Genre_Mystery</th>\n",
       "      <th>Genre_Western</th>\n",
       "      <th>Genre_War</th>\n",
       "      <th>Genre_TV Movie</th>\n",
       "      <th>Genre_Documentary</th>\n",
       "      <th>year</th>\n",
       "      <th>month</th>\n",
       "      <th>day</th>\n",
       "    </tr>\n",
       "  </thead>\n",
       "  <tbody>\n",
       "    <tr>\n",
       "      <th>0</th>\n",
       "      <td>tt0113026</td>\n",
       "      <td>0.0</td>\n",
       "      <td>False</td>\n",
       "      <td>10000000.0</td>\n",
       "      <td>3.004</td>\n",
       "      <td>2000-09-22</td>\n",
       "      <td>0.0</td>\n",
       "      <td>86.0</td>\n",
       "      <td>The Fantasticks</td>\n",
       "      <td>5.500</td>\n",
       "      <td>...</td>\n",
       "      <td>False</td>\n",
       "      <td>False</td>\n",
       "      <td>False</td>\n",
       "      <td>False</td>\n",
       "      <td>False</td>\n",
       "      <td>False</td>\n",
       "      <td>False</td>\n",
       "      <td>2000.0</td>\n",
       "      <td>9.0</td>\n",
       "      <td>22.0</td>\n",
       "    </tr>\n",
       "    <tr>\n",
       "      <th>1</th>\n",
       "      <td>tt0113092</td>\n",
       "      <td>0.0</td>\n",
       "      <td>False</td>\n",
       "      <td>0.0</td>\n",
       "      <td>1.678</td>\n",
       "      <td>2000-11-15</td>\n",
       "      <td>0.0</td>\n",
       "      <td>100.0</td>\n",
       "      <td>For the Cause</td>\n",
       "      <td>5.100</td>\n",
       "      <td>...</td>\n",
       "      <td>False</td>\n",
       "      <td>False</td>\n",
       "      <td>False</td>\n",
       "      <td>False</td>\n",
       "      <td>False</td>\n",
       "      <td>False</td>\n",
       "      <td>False</td>\n",
       "      <td>2000.0</td>\n",
       "      <td>11.0</td>\n",
       "      <td>15.0</td>\n",
       "    </tr>\n",
       "    <tr>\n",
       "      <th>2</th>\n",
       "      <td>tt0116391</td>\n",
       "      <td>0.0</td>\n",
       "      <td>False</td>\n",
       "      <td>0.0</td>\n",
       "      <td>0.930</td>\n",
       "      <td>2000-04-14</td>\n",
       "      <td>0.0</td>\n",
       "      <td>152.0</td>\n",
       "      <td>Gang</td>\n",
       "      <td>4.000</td>\n",
       "      <td>...</td>\n",
       "      <td>False</td>\n",
       "      <td>False</td>\n",
       "      <td>False</td>\n",
       "      <td>False</td>\n",
       "      <td>False</td>\n",
       "      <td>False</td>\n",
       "      <td>False</td>\n",
       "      <td>2000.0</td>\n",
       "      <td>4.0</td>\n",
       "      <td>14.0</td>\n",
       "    </tr>\n",
       "    <tr>\n",
       "      <th>3</th>\n",
       "      <td>tt0118694</td>\n",
       "      <td>0.0</td>\n",
       "      <td>True</td>\n",
       "      <td>150000.0</td>\n",
       "      <td>24.758</td>\n",
       "      <td>2000-09-29</td>\n",
       "      <td>14204632.0</td>\n",
       "      <td>99.0</td>\n",
       "      <td>In the Mood for Love</td>\n",
       "      <td>8.112</td>\n",
       "      <td>...</td>\n",
       "      <td>False</td>\n",
       "      <td>False</td>\n",
       "      <td>False</td>\n",
       "      <td>False</td>\n",
       "      <td>False</td>\n",
       "      <td>False</td>\n",
       "      <td>False</td>\n",
       "      <td>2000.0</td>\n",
       "      <td>9.0</td>\n",
       "      <td>29.0</td>\n",
       "    </tr>\n",
       "    <tr>\n",
       "      <th>4</th>\n",
       "      <td>tt0118852</td>\n",
       "      <td>0.0</td>\n",
       "      <td>False</td>\n",
       "      <td>0.0</td>\n",
       "      <td>4.001</td>\n",
       "      <td>2000-09-02</td>\n",
       "      <td>0.0</td>\n",
       "      <td>99.0</td>\n",
       "      <td>Chinese Coffee</td>\n",
       "      <td>6.800</td>\n",
       "      <td>...</td>\n",
       "      <td>False</td>\n",
       "      <td>False</td>\n",
       "      <td>False</td>\n",
       "      <td>False</td>\n",
       "      <td>False</td>\n",
       "      <td>False</td>\n",
       "      <td>False</td>\n",
       "      <td>2000.0</td>\n",
       "      <td>9.0</td>\n",
       "      <td>2.0</td>\n",
       "    </tr>\n",
       "  </tbody>\n",
       "</table>\n",
       "<p>5 rows × 34 columns</p>\n",
       "</div>"
      ],
      "text/plain": [
       "     imdb_id  adult  belongs_to_collection      budget  popularity  \\\n",
       "0  tt0113026    0.0                  False  10000000.0       3.004   \n",
       "1  tt0113092    0.0                  False         0.0       1.678   \n",
       "2  tt0116391    0.0                  False         0.0       0.930   \n",
       "3  tt0118694    0.0                   True    150000.0      24.758   \n",
       "4  tt0118852    0.0                  False         0.0       4.001   \n",
       "\n",
       "  release_date     revenue  runtime                 title  vote_average  ...  \\\n",
       "0   2000-09-22         0.0     86.0       The Fantasticks         5.500  ...   \n",
       "1   2000-11-15         0.0    100.0         For the Cause         5.100  ...   \n",
       "2   2000-04-14         0.0    152.0                  Gang         4.000  ...   \n",
       "3   2000-09-29  14204632.0     99.0  In the Mood for Love         8.112  ...   \n",
       "4   2000-09-02         0.0     99.0        Chinese Coffee         6.800  ...   \n",
       "\n",
       "   Genre_History Genre_Family  Genre_Mystery  Genre_Western  Genre_War  \\\n",
       "0          False        False          False          False      False   \n",
       "1          False        False          False          False      False   \n",
       "2          False        False          False          False      False   \n",
       "3          False        False          False          False      False   \n",
       "4          False        False          False          False      False   \n",
       "\n",
       "   Genre_TV Movie  Genre_Documentary    year  month   day  \n",
       "0           False              False  2000.0    9.0  22.0  \n",
       "1           False              False  2000.0   11.0  15.0  \n",
       "2           False              False  2000.0    4.0  14.0  \n",
       "3           False              False  2000.0    9.0  29.0  \n",
       "4           False              False  2000.0    9.0   2.0  \n",
       "\n",
       "[5 rows x 34 columns]"
      ]
     },
     "execution_count": 13,
     "metadata": {},
     "output_type": "execute_result"
    }
   ],
   "source": [
    "## split release date into 3 columns\n",
    "new_cols = ['year','month','day']\n",
    "df[new_cols] = df['release_date'].str.split('-',expand=True)\n",
    "df[new_cols] = df[new_cols].astype(float)\n",
    "df.head()"
   ]
  },
  {
   "cell_type": "code",
   "execution_count": 14,
   "id": "39ce8844",
   "metadata": {},
   "outputs": [
    {
     "data": {
      "text/html": [
       "<div>\n",
       "<style scoped>\n",
       "    .dataframe tbody tr th:only-of-type {\n",
       "        vertical-align: middle;\n",
       "    }\n",
       "\n",
       "    .dataframe tbody tr th {\n",
       "        vertical-align: top;\n",
       "    }\n",
       "\n",
       "    .dataframe thead th {\n",
       "        text-align: right;\n",
       "    }\n",
       "</style>\n",
       "<table border=\"1\" class=\"dataframe\">\n",
       "  <thead>\n",
       "    <tr style=\"text-align: right;\">\n",
       "      <th></th>\n",
       "      <th>imdb_id</th>\n",
       "      <th>adult</th>\n",
       "      <th>belongs_to_collection</th>\n",
       "      <th>budget</th>\n",
       "      <th>popularity</th>\n",
       "      <th>revenue</th>\n",
       "      <th>runtime</th>\n",
       "      <th>title</th>\n",
       "      <th>vote_average</th>\n",
       "      <th>vote_count</th>\n",
       "      <th>...</th>\n",
       "      <th>Genre_History</th>\n",
       "      <th>Genre_Family</th>\n",
       "      <th>Genre_Mystery</th>\n",
       "      <th>Genre_Western</th>\n",
       "      <th>Genre_War</th>\n",
       "      <th>Genre_TV Movie</th>\n",
       "      <th>Genre_Documentary</th>\n",
       "      <th>year</th>\n",
       "      <th>month</th>\n",
       "      <th>day</th>\n",
       "    </tr>\n",
       "  </thead>\n",
       "  <tbody>\n",
       "    <tr>\n",
       "      <th>0</th>\n",
       "      <td>tt0113026</td>\n",
       "      <td>0.0</td>\n",
       "      <td>False</td>\n",
       "      <td>10000000.0</td>\n",
       "      <td>3.004</td>\n",
       "      <td>0.0</td>\n",
       "      <td>86.0</td>\n",
       "      <td>The Fantasticks</td>\n",
       "      <td>5.500</td>\n",
       "      <td>22.0</td>\n",
       "      <td>...</td>\n",
       "      <td>False</td>\n",
       "      <td>False</td>\n",
       "      <td>False</td>\n",
       "      <td>False</td>\n",
       "      <td>False</td>\n",
       "      <td>False</td>\n",
       "      <td>False</td>\n",
       "      <td>2000.0</td>\n",
       "      <td>9.0</td>\n",
       "      <td>22.0</td>\n",
       "    </tr>\n",
       "    <tr>\n",
       "      <th>1</th>\n",
       "      <td>tt0113092</td>\n",
       "      <td>0.0</td>\n",
       "      <td>False</td>\n",
       "      <td>0.0</td>\n",
       "      <td>1.678</td>\n",
       "      <td>0.0</td>\n",
       "      <td>100.0</td>\n",
       "      <td>For the Cause</td>\n",
       "      <td>5.100</td>\n",
       "      <td>8.0</td>\n",
       "      <td>...</td>\n",
       "      <td>False</td>\n",
       "      <td>False</td>\n",
       "      <td>False</td>\n",
       "      <td>False</td>\n",
       "      <td>False</td>\n",
       "      <td>False</td>\n",
       "      <td>False</td>\n",
       "      <td>2000.0</td>\n",
       "      <td>11.0</td>\n",
       "      <td>15.0</td>\n",
       "    </tr>\n",
       "    <tr>\n",
       "      <th>2</th>\n",
       "      <td>tt0116391</td>\n",
       "      <td>0.0</td>\n",
       "      <td>False</td>\n",
       "      <td>0.0</td>\n",
       "      <td>0.930</td>\n",
       "      <td>0.0</td>\n",
       "      <td>152.0</td>\n",
       "      <td>Gang</td>\n",
       "      <td>4.000</td>\n",
       "      <td>1.0</td>\n",
       "      <td>...</td>\n",
       "      <td>False</td>\n",
       "      <td>False</td>\n",
       "      <td>False</td>\n",
       "      <td>False</td>\n",
       "      <td>False</td>\n",
       "      <td>False</td>\n",
       "      <td>False</td>\n",
       "      <td>2000.0</td>\n",
       "      <td>4.0</td>\n",
       "      <td>14.0</td>\n",
       "    </tr>\n",
       "    <tr>\n",
       "      <th>3</th>\n",
       "      <td>tt0118694</td>\n",
       "      <td>0.0</td>\n",
       "      <td>True</td>\n",
       "      <td>150000.0</td>\n",
       "      <td>24.758</td>\n",
       "      <td>14204632.0</td>\n",
       "      <td>99.0</td>\n",
       "      <td>In the Mood for Love</td>\n",
       "      <td>8.112</td>\n",
       "      <td>2245.0</td>\n",
       "      <td>...</td>\n",
       "      <td>False</td>\n",
       "      <td>False</td>\n",
       "      <td>False</td>\n",
       "      <td>False</td>\n",
       "      <td>False</td>\n",
       "      <td>False</td>\n",
       "      <td>False</td>\n",
       "      <td>2000.0</td>\n",
       "      <td>9.0</td>\n",
       "      <td>29.0</td>\n",
       "    </tr>\n",
       "    <tr>\n",
       "      <th>4</th>\n",
       "      <td>tt0118852</td>\n",
       "      <td>0.0</td>\n",
       "      <td>False</td>\n",
       "      <td>0.0</td>\n",
       "      <td>4.001</td>\n",
       "      <td>0.0</td>\n",
       "      <td>99.0</td>\n",
       "      <td>Chinese Coffee</td>\n",
       "      <td>6.800</td>\n",
       "      <td>50.0</td>\n",
       "      <td>...</td>\n",
       "      <td>False</td>\n",
       "      <td>False</td>\n",
       "      <td>False</td>\n",
       "      <td>False</td>\n",
       "      <td>False</td>\n",
       "      <td>False</td>\n",
       "      <td>False</td>\n",
       "      <td>2000.0</td>\n",
       "      <td>9.0</td>\n",
       "      <td>2.0</td>\n",
       "    </tr>\n",
       "  </tbody>\n",
       "</table>\n",
       "<p>5 rows × 33 columns</p>\n",
       "</div>"
      ],
      "text/plain": [
       "     imdb_id  adult  belongs_to_collection      budget  popularity  \\\n",
       "0  tt0113026    0.0                  False  10000000.0       3.004   \n",
       "1  tt0113092    0.0                  False         0.0       1.678   \n",
       "2  tt0116391    0.0                  False         0.0       0.930   \n",
       "3  tt0118694    0.0                   True    150000.0      24.758   \n",
       "4  tt0118852    0.0                  False         0.0       4.001   \n",
       "\n",
       "      revenue  runtime                 title  vote_average  vote_count  ...  \\\n",
       "0         0.0     86.0       The Fantasticks         5.500        22.0  ...   \n",
       "1         0.0    100.0         For the Cause         5.100         8.0  ...   \n",
       "2         0.0    152.0                  Gang         4.000         1.0  ...   \n",
       "3  14204632.0     99.0  In the Mood for Love         8.112      2245.0  ...   \n",
       "4         0.0     99.0        Chinese Coffee         6.800        50.0  ...   \n",
       "\n",
       "  Genre_History  Genre_Family  Genre_Mystery  Genre_Western  Genre_War  \\\n",
       "0         False         False          False          False      False   \n",
       "1         False         False          False          False      False   \n",
       "2         False         False          False          False      False   \n",
       "3         False         False          False          False      False   \n",
       "4         False         False          False          False      False   \n",
       "\n",
       "   Genre_TV Movie  Genre_Documentary    year  month   day  \n",
       "0           False              False  2000.0    9.0  22.0  \n",
       "1           False              False  2000.0   11.0  15.0  \n",
       "2           False              False  2000.0    4.0  14.0  \n",
       "3           False              False  2000.0    9.0  29.0  \n",
       "4           False              False  2000.0    9.0   2.0  \n",
       "\n",
       "[5 rows x 33 columns]"
      ]
     },
     "execution_count": 14,
     "metadata": {},
     "output_type": "execute_result"
    }
   ],
   "source": [
    "## drop original feature\n",
    "df = df.drop(columns=['release_date'])\n",
    "df.head()"
   ]
  },
  {
   "cell_type": "markdown",
   "id": "5f13ad0a",
   "metadata": {},
   "source": [
    "## Cleaning 'certification' column values"
   ]
  },
  {
   "cell_type": "code",
   "execution_count": 15,
   "id": "96762df7",
   "metadata": {},
   "outputs": [
    {
     "data": {
      "text/plain": [
       "NaN                                45593\n",
       "R                                   6114\n",
       "NR                                  3269\n",
       "PG-13                               3226\n",
       "PG                                  1432\n",
       "G                                    443\n",
       "NC-17                                156\n",
       "Unrated                                5\n",
       "UR                                     1\n",
       "Not Rated                              1\n",
       "ScreamFest Horror Film Festival        1\n",
       "R                                      1\n",
       "PG-13                                  1\n",
       "10                                     1\n",
       "Name: certification, dtype: int64"
      ]
     },
     "execution_count": 15,
     "metadata": {},
     "output_type": "execute_result"
    }
   ],
   "source": [
    "## Checking Certification values counts\n",
    "df['certification'].value_counts(dropna=False)"
   ]
  },
  {
   "cell_type": "code",
   "execution_count": 16,
   "id": "37cbef98",
   "metadata": {},
   "outputs": [],
   "source": [
    "# fix extra space in PG-13\n",
    "df['certification'] = df['certification'].str.strip()"
   ]
  },
  {
   "cell_type": "code",
   "execution_count": 17,
   "id": "fa33e828",
   "metadata": {},
   "outputs": [
    {
     "data": {
      "text/plain": [
       "NaN      45594\n",
       "R         6115\n",
       "NR        3277\n",
       "PG-13     3227\n",
       "PG        1432\n",
       "G          443\n",
       "NC-17      156\n",
       "Name: certification, dtype: int64"
      ]
     },
     "execution_count": 17,
     "metadata": {},
     "output_type": "execute_result"
    }
   ],
   "source": [
    "## Clean certification column values\n",
    "repl_cert = {'UR':'NR',\n",
    "             'Not Rated':'NR',\n",
    "             'Unrated':'NR',\n",
    "             '-':'NR',\n",
    "             '10':np.nan,\n",
    "             'ScreamFest Horror Film Festival':'NR'}\n",
    "df['certification'] = df['certification'].replace(repl_cert)\n",
    "df['certification'].value_counts(dropna=False)"
   ]
  },
  {
   "cell_type": "markdown",
   "id": "4a9ce36e",
   "metadata": {},
   "source": [
    "## Removing 0.0 from 'revenue'"
   ]
  },
  {
   "cell_type": "code",
   "execution_count": 18,
   "id": "27ef17f1",
   "metadata": {},
   "outputs": [
    {
     "data": {
      "text/plain": [
       "132675864.0     1\n",
       "9902115.0       1\n",
       "19125401.0      1\n",
       "215663859.0     1\n",
       "8694320.0       1\n",
       "               ..\n",
       "12000000.0     13\n",
       "1000000.0      16\n",
       "100000.0       17\n",
       "2000000.0      18\n",
       "10000.0        30\n",
       "Name: revenue, Length: 6952, dtype: int64"
      ]
     },
     "execution_count": 18,
     "metadata": {},
     "output_type": "execute_result"
    }
   ],
   "source": [
    "# Drop '0.0' values form \"revenue\" column\n",
    "df.drop(df.index[df['revenue'] == 0.0], inplace = True)\n",
    "# Confirm drop\n",
    "df['revenue'].value_counts().sort_values()"
   ]
  },
  {
   "cell_type": "markdown",
   "id": "013e2747",
   "metadata": {},
   "source": [
    "# Hypothesis Testing"
   ]
  },
  {
   "cell_type": "markdown",
   "id": "fda2b3bd",
   "metadata": {},
   "source": [
    "## Question One: (ANOVA)\n",
    "Does the MPAA rating of a movie (G/PG/PG-13/R) affect how much revenue the movie generates?"
   ]
  },
  {
   "cell_type": "markdown",
   "id": "878abc13",
   "metadata": {},
   "source": [
    "Hypothesis Testing Statements:\n",
    "- Null Hypothesis: There is no significant difference in revenue for MPAA movie ratings.\n",
    "\n",
    "- Alternative Hypothesis: There is a significant difference in revenue for MPAA movie ratings. \n",
    "\n",
    "Hypothesis Test:\n",
    "- alpha = 0.05\n",
    "- ANOVA test because the are more than two MPAA ratings and the revenue we are testing is numeric.\n",
    "    - To see which samples hold significance, we will use; statsmodels.stats.multicomp.pairwise_tukeyhsd\n",
    "- Assumptions: No Outliers, Normality and Equal Variance\n",
    "    - If assumptions fail: use kruskal test; stats.kruskal()"
   ]
  },
  {
   "cell_type": "code",
   "execution_count": 19,
   "id": "b5b44c43",
   "metadata": {},
   "outputs": [],
   "source": [
    "# Drop nan values\n",
    "df = df.dropna(subset=[\"certification\"])"
   ]
  },
  {
   "cell_type": "code",
   "execution_count": 20,
   "id": "831747a8",
   "metadata": {},
   "outputs": [
    {
     "data": {
      "text/plain": [
       "array(['PG', 'R', 'G', 'PG-13', 'NR', 'NC-17'], dtype=object)"
      ]
     },
     "execution_count": 20,
     "metadata": {},
     "output_type": "execute_result"
    }
   ],
   "source": [
    "# MPAA Ratings in 'certification' column\n",
    "mpaa_ratings = df['certification'].unique()\n",
    "mpaa_ratings"
   ]
  },
  {
   "cell_type": "code",
   "execution_count": 21,
   "id": "daac28de",
   "metadata": {},
   "outputs": [
    {
     "data": {
      "text/plain": [
       "dict_keys(['PG', 'R', 'G', 'PG-13', 'NR', 'NC-17'])"
      ]
     },
     "execution_count": 21,
     "metadata": {},
     "output_type": "execute_result"
    }
   ],
   "source": [
    "ratings = {}\n",
    "\n",
    "## Loop through all unique categories\n",
    "for certification in mpaa_ratings:\n",
    "    ## Get series for group and rename\n",
    "    data = df.loc[df['certification']==certification,'revenue']\n",
    "    \n",
    "       # save into the dictionary\n",
    "    ratings[certification] = data\n",
    "ratings.keys()"
   ]
  },
  {
   "cell_type": "code",
   "execution_count": 22,
   "id": "d048100a",
   "metadata": {},
   "outputs": [
    {
     "data": {
      "text/plain": [
       "3         14204632.0\n",
       "18        36754634.0\n",
       "21        36609995.0\n",
       "26       354248063.0\n",
       "27        35134820.0\n",
       "            ...     \n",
       "59728    146745280.0\n",
       "59789     60000000.0\n",
       "59919    153000000.0\n",
       "59970       131465.0\n",
       "60200         8756.0\n",
       "Name: revenue, Length: 630, dtype: float64"
      ]
     },
     "execution_count": 22,
     "metadata": {},
     "output_type": "execute_result"
    }
   ],
   "source": [
    "ratings['PG']"
   ]
  },
  {
   "cell_type": "markdown",
   "id": "9357d23d",
   "metadata": {},
   "source": [
    "## No Outliers Assumption"
   ]
  },
  {
   "cell_type": "code",
   "execution_count": 23,
   "id": "482935af",
   "metadata": {},
   "outputs": [
    {
     "data": {
      "text/plain": [
       "R        2316\n",
       "PG-13    1717\n",
       "PG        630\n",
       "NR        272\n",
       "G         128\n",
       "NC-17      22\n",
       "Name: certification, dtype: int64"
      ]
     },
     "execution_count": 23,
     "metadata": {},
     "output_type": "execute_result"
    }
   ],
   "source": [
    "df['certification'].value_counts()"
   ]
  },
  {
   "cell_type": "code",
   "execution_count": 67,
   "id": "095fbdb8",
   "metadata": {},
   "outputs": [
    {
     "name": "stdout",
     "output_type": "stream",
     "text": [
      "There were 20 outliers in PG\n",
      "There were 52 outliers in R\n",
      "There were 4 outliers in G\n",
      "There were 39 outliers in PG-13\n",
      "There were 6 outliers in NR\n",
      "There were 1 outliers in NC-17\n"
     ]
    }
   ],
   "source": [
    "cln_ratings = {}\n",
    "\n",
    "for mpaa_ratings, ratings_data in ratings.items():\n",
    "    idx_outliers = np.abs(stats.zscore(ratings_data)>3)\n",
    "    print(f'There were {idx_outliers.sum()} outliers in {mpaa_ratings}')\n",
    "    \n",
    "    ratings_data_cln = ratings_data[idx_outliers == False]\n",
    "    \n",
    "    cln_ratings[mpaa_ratings] = ratings_data_cln"
   ]
  },
  {
   "cell_type": "markdown",
   "id": "7bea7351",
   "metadata": {},
   "source": [
    "- Outliers have been removed and the remaining count is more than 20 so we can pass the normality test. "
   ]
  },
  {
   "cell_type": "markdown",
   "id": "d75d9b52",
   "metadata": {},
   "source": [
    "## Normality Assumption\n"
   ]
  },
  {
   "cell_type": "code",
   "execution_count": 68,
   "id": "339033a4",
   "metadata": {},
   "outputs": [
    {
     "data": {
      "text/html": [
       "<div>\n",
       "<style scoped>\n",
       "    .dataframe tbody tr th:only-of-type {\n",
       "        vertical-align: middle;\n",
       "    }\n",
       "\n",
       "    .dataframe tbody tr th {\n",
       "        vertical-align: top;\n",
       "    }\n",
       "\n",
       "    .dataframe thead th {\n",
       "        text-align: right;\n",
       "    }\n",
       "</style>\n",
       "<table border=\"1\" class=\"dataframe\">\n",
       "  <thead>\n",
       "    <tr style=\"text-align: right;\">\n",
       "      <th></th>\n",
       "      <th>n</th>\n",
       "      <th>p</th>\n",
       "      <th>test stat</th>\n",
       "    </tr>\n",
       "  </thead>\n",
       "  <tbody>\n",
       "    <tr>\n",
       "      <th>PG</th>\n",
       "      <td>610.0</td>\n",
       "      <td>3.922291e-53</td>\n",
       "      <td>241.340668</td>\n",
       "    </tr>\n",
       "    <tr>\n",
       "      <th>R</th>\n",
       "      <td>2264.0</td>\n",
       "      <td>1.215108e-233</td>\n",
       "      <td>1072.614987</td>\n",
       "    </tr>\n",
       "    <tr>\n",
       "      <th>G</th>\n",
       "      <td>124.0</td>\n",
       "      <td>7.542389e-14</td>\n",
       "      <td>60.431305</td>\n",
       "    </tr>\n",
       "    <tr>\n",
       "      <th>PG-13</th>\n",
       "      <td>1678.0</td>\n",
       "      <td>5.725371e-187</td>\n",
       "      <td>857.677010</td>\n",
       "    </tr>\n",
       "    <tr>\n",
       "      <th>NR</th>\n",
       "      <td>266.0</td>\n",
       "      <td>2.046433e-45</td>\n",
       "      <td>205.800462</td>\n",
       "    </tr>\n",
       "    <tr>\n",
       "      <th>NC-17</th>\n",
       "      <td>21.0</td>\n",
       "      <td>8.144700e-08</td>\n",
       "      <td>32.646627</td>\n",
       "    </tr>\n",
       "  </tbody>\n",
       "</table>\n",
       "</div>"
      ],
      "text/plain": [
       "            n              p    test stat\n",
       "PG      610.0   3.922291e-53   241.340668\n",
       "R      2264.0  1.215108e-233  1072.614987\n",
       "G       124.0   7.542389e-14    60.431305\n",
       "PG-13  1678.0  5.725371e-187   857.677010\n",
       "NR      266.0   2.046433e-45   205.800462\n",
       "NC-17    21.0   8.144700e-08    32.646627"
      ]
     },
     "execution_count": 68,
     "metadata": {},
     "output_type": "execute_result"
    }
   ],
   "source": [
    "# Normality \n",
    "## Running normal test on each group and confirming there are >20 in each group\n",
    "norm_results = {}\n",
    "for i, data in cln_ratings.items():\n",
    "    stat, p = stats.normaltest(data)\n",
    "     ## save the p val, test statistic, and the size of the group\n",
    "    norm_results[i] = {'n': len(data),\n",
    "                             'p':p,\n",
    "                             'test stat':stat,}\n",
    "## convert to a dataframe\n",
    "norm_results_df = pd.DataFrame(norm_results).T\n",
    "norm_results_df"
   ]
  },
  {
   "cell_type": "code",
   "execution_count": 69,
   "id": "f85a2541",
   "metadata": {},
   "outputs": [
    {
     "data": {
      "text/html": [
       "<div>\n",
       "<style scoped>\n",
       "    .dataframe tbody tr th:only-of-type {\n",
       "        vertical-align: middle;\n",
       "    }\n",
       "\n",
       "    .dataframe tbody tr th {\n",
       "        vertical-align: top;\n",
       "    }\n",
       "\n",
       "    .dataframe thead th {\n",
       "        text-align: right;\n",
       "    }\n",
       "</style>\n",
       "<table border=\"1\" class=\"dataframe\">\n",
       "  <thead>\n",
       "    <tr style=\"text-align: right;\">\n",
       "      <th></th>\n",
       "      <th>n</th>\n",
       "      <th>p</th>\n",
       "      <th>test stat</th>\n",
       "      <th>sig</th>\n",
       "    </tr>\n",
       "  </thead>\n",
       "  <tbody>\n",
       "    <tr>\n",
       "      <th>PG</th>\n",
       "      <td>610.0</td>\n",
       "      <td>3.922291e-53</td>\n",
       "      <td>241.340668</td>\n",
       "      <td>True</td>\n",
       "    </tr>\n",
       "    <tr>\n",
       "      <th>R</th>\n",
       "      <td>2264.0</td>\n",
       "      <td>1.215108e-233</td>\n",
       "      <td>1072.614987</td>\n",
       "      <td>True</td>\n",
       "    </tr>\n",
       "    <tr>\n",
       "      <th>G</th>\n",
       "      <td>124.0</td>\n",
       "      <td>7.542389e-14</td>\n",
       "      <td>60.431305</td>\n",
       "      <td>True</td>\n",
       "    </tr>\n",
       "    <tr>\n",
       "      <th>PG-13</th>\n",
       "      <td>1678.0</td>\n",
       "      <td>5.725371e-187</td>\n",
       "      <td>857.677010</td>\n",
       "      <td>True</td>\n",
       "    </tr>\n",
       "    <tr>\n",
       "      <th>NR</th>\n",
       "      <td>266.0</td>\n",
       "      <td>2.046433e-45</td>\n",
       "      <td>205.800462</td>\n",
       "      <td>True</td>\n",
       "    </tr>\n",
       "    <tr>\n",
       "      <th>NC-17</th>\n",
       "      <td>21.0</td>\n",
       "      <td>8.144700e-08</td>\n",
       "      <td>32.646627</td>\n",
       "      <td>True</td>\n",
       "    </tr>\n",
       "  </tbody>\n",
       "</table>\n",
       "</div>"
      ],
      "text/plain": [
       "            n              p    test stat   sig\n",
       "PG      610.0   3.922291e-53   241.340668  True\n",
       "R      2264.0  1.215108e-233  1072.614987  True\n",
       "G       124.0   7.542389e-14    60.431305  True\n",
       "PG-13  1678.0  5.725371e-187   857.677010  True\n",
       "NR      266.0   2.046433e-45   205.800462  True\n",
       "NC-17    21.0   8.144700e-08    32.646627  True"
      ]
     },
     "execution_count": 69,
     "metadata": {},
     "output_type": "execute_result"
    }
   ],
   "source": [
    "### checking sig with pandas \n",
    "norm_results_df['sig'] = norm_results_df['p'] < .05 \n",
    "norm_results_df"
   ]
  },
  {
   "cell_type": "markdown",
   "id": "a6283976",
   "metadata": {},
   "source": [
    "- We do not have normal distribution, however since our groups still have more than 20, we can continue on to the next assumption. \n",
    "- Rejecting the Null Hypothesis.\n"
   ]
  },
  {
   "cell_type": "markdown",
   "id": "7e00a765",
   "metadata": {},
   "source": [
    "## Equal Variance Assumption"
   ]
  },
  {
   "cell_type": "code",
   "execution_count": 70,
   "id": "1ed1d04f",
   "metadata": {},
   "outputs": [
    {
     "name": "stdout",
     "output_type": "stream",
     "text": [
      "LeveneResult(statistic=103.64987662129626, pvalue=2.5159423413015046e-104)\n"
     ]
    },
    {
     "data": {
      "text/plain": [
       "True"
      ]
     },
     "execution_count": 70,
     "metadata": {},
     "output_type": "execute_result"
    }
   ],
   "source": [
    "# Equal Variance/ Lavene's Test\n",
    "result = stats.levene(*cln_ratings.values())\n",
    "print(result)\n",
    "# Is the p-value less than 0.05?\n",
    "result.pvalue < .05"
   ]
  },
  {
   "cell_type": "markdown",
   "id": "5bb5f250",
   "metadata": {},
   "source": [
    "- Levene test result rejects null hypothesis because the p- value is less than alpha.\n",
    "- Therefore, there is no equal variance in our samples.\n",
    "- We will need to use our Kruskal-Wallis Test as a non-Parametric test. \n",
    "\n"
   ]
  },
  {
   "cell_type": "markdown",
   "id": "f94c8f24",
   "metadata": {},
   "source": [
    "## Test"
   ]
  },
  {
   "cell_type": "code",
   "execution_count": 72,
   "id": "acdde2d0",
   "metadata": {},
   "outputs": [
    {
     "name": "stdout",
     "output_type": "stream",
     "text": [
      "KruskalResult(statistic=789.0980041969976, pvalue=2.6406499149701304e-168)\n"
     ]
    },
    {
     "data": {
      "text/plain": [
       "True"
      ]
     },
     "execution_count": 72,
     "metadata": {},
     "output_type": "execute_result"
    }
   ],
   "source": [
    "# ANOVA Test\n",
    "result = stats.kruskal(*cln_ratings.values())\n",
    "print(result)\n",
    "# Is the p-value less than 0.05?\n",
    "result.pvalue < .05"
   ]
  },
  {
   "cell_type": "markdown",
   "id": "792382d0",
   "metadata": {},
   "source": [
    "- Our Kruskal-Wallis Test gave us a p-value less than alpha, so we reject the null hypothesis and support the alternative hypothesis of which there is a significant difference in revenue between MPAA Ratings."
   ]
  },
  {
   "cell_type": "markdown",
   "id": "9362a860",
   "metadata": {},
   "source": [
    "## Visualization"
   ]
  },
  {
   "cell_type": "code",
   "execution_count": 31,
   "id": "2d308133",
   "metadata": {},
   "outputs": [
    {
     "data": {
      "image/png": "[encoded data removed]",
      "text/plain": [
       "<Figure size 640x480 with 1 Axes>"
      ]
     },
     "metadata": {},
     "output_type": "display_data"
    }
   ],
   "source": [
    "# Plot \n",
    "ax = sns.barplot(x=df['certification'], y = df['revenue'])\n",
    "ax.set_title('MPAA Ratings by Revenue')\n",
    "ax.yaxis.set_major_formatter('${x:,.0f}');"
   ]
  },
  {
   "cell_type": "markdown",
   "id": "34d91f99",
   "metadata": {},
   "source": [
    "## Q1: Conclusion"
   ]
  },
  {
   "cell_type": "markdown",
   "id": "8910705c",
   "metadata": {},
   "source": [
    "- This Kruskal-Wallis Test results reject the Null Hypothesis and support the Alternative Hypothesis.\n",
    "- indicating that there is a significant difference in revenue between MPAA Ratings.\n",
    "- This plot show us the average revenue for each MPAA Rating(certification).\n",
    "- Movies rated PG have the highest revenue, secondly being PG-13 and thirdly being rated G."
   ]
  },
  {
   "cell_type": "markdown",
   "id": "647a71f4",
   "metadata": {},
   "source": [
    "## Question 2: (Independent)\n",
    "Do movies that are over 2.5 hours long earn more revenue than movies that are 1.5 hours long (or less)?"
   ]
  },
  {
   "cell_type": "markdown",
   "id": "b43b3c13",
   "metadata": {},
   "source": [
    "Hypothesis Testing Statement:\n",
    "- Null Hypothesis: There is no significant difference in revenue earned for movies that are => 2.5hrs long and those that are =<1.5hrs long.\n",
    "- Alternative Hypothesis: There is a significant difference in revenue earned for movies that are => 2.5hrs long and those that are =<1.5hrs long.\n",
    "\n",
    "Hypothesis Test:\n",
    "- alpha = 0.05\n",
    "- 2 Sample T-test(Independent) because we are looking at two samples and testing the earned revenue which is numeric. \n",
    "- Assumptions; No Outliers, Normality and Equal Variance\n",
    "    - If Lenene's. test does not passed, we will use Welch's T-test: equal_var= False to the ttest_ind"
   ]
  },
  {
   "cell_type": "code",
   "execution_count": 32,
   "id": "de844526",
   "metadata": {},
   "outputs": [
    {
     "data": {
      "text/html": [
       "<div>\n",
       "<style scoped>\n",
       "    .dataframe tbody tr th:only-of-type {\n",
       "        vertical-align: middle;\n",
       "    }\n",
       "\n",
       "    .dataframe tbody tr th {\n",
       "        vertical-align: top;\n",
       "    }\n",
       "\n",
       "    .dataframe thead th {\n",
       "        text-align: right;\n",
       "    }\n",
       "</style>\n",
       "<table border=\"1\" class=\"dataframe\">\n",
       "  <thead>\n",
       "    <tr style=\"text-align: right;\">\n",
       "      <th></th>\n",
       "      <th>imdb_id</th>\n",
       "      <th>adult</th>\n",
       "      <th>belongs_to_collection</th>\n",
       "      <th>budget</th>\n",
       "      <th>popularity</th>\n",
       "      <th>revenue</th>\n",
       "      <th>runtime</th>\n",
       "      <th>title</th>\n",
       "      <th>vote_average</th>\n",
       "      <th>vote_count</th>\n",
       "      <th>...</th>\n",
       "      <th>Genre_History</th>\n",
       "      <th>Genre_Family</th>\n",
       "      <th>Genre_Mystery</th>\n",
       "      <th>Genre_Western</th>\n",
       "      <th>Genre_War</th>\n",
       "      <th>Genre_TV Movie</th>\n",
       "      <th>Genre_Documentary</th>\n",
       "      <th>year</th>\n",
       "      <th>month</th>\n",
       "      <th>day</th>\n",
       "    </tr>\n",
       "  </thead>\n",
       "  <tbody>\n",
       "    <tr>\n",
       "      <th>3</th>\n",
       "      <td>tt0118694</td>\n",
       "      <td>0.0</td>\n",
       "      <td>True</td>\n",
       "      <td>150000.0</td>\n",
       "      <td>24.758</td>\n",
       "      <td>14204632.0</td>\n",
       "      <td>99.0</td>\n",
       "      <td>In the Mood for Love</td>\n",
       "      <td>8.112</td>\n",
       "      <td>2245.0</td>\n",
       "      <td>...</td>\n",
       "      <td>False</td>\n",
       "      <td>False</td>\n",
       "      <td>False</td>\n",
       "      <td>False</td>\n",
       "      <td>False</td>\n",
       "      <td>False</td>\n",
       "      <td>False</td>\n",
       "      <td>2000.0</td>\n",
       "      <td>9.0</td>\n",
       "      <td>29.0</td>\n",
       "    </tr>\n",
       "    <tr>\n",
       "      <th>10</th>\n",
       "      <td>tt0120467</td>\n",
       "      <td>0.0</td>\n",
       "      <td>False</td>\n",
       "      <td>120000.0</td>\n",
       "      <td>3.153</td>\n",
       "      <td>14904.0</td>\n",
       "      <td>87.0</td>\n",
       "      <td>Vulgar</td>\n",
       "      <td>5.500</td>\n",
       "      <td>44.0</td>\n",
       "      <td>...</td>\n",
       "      <td>False</td>\n",
       "      <td>False</td>\n",
       "      <td>False</td>\n",
       "      <td>False</td>\n",
       "      <td>False</td>\n",
       "      <td>False</td>\n",
       "      <td>False</td>\n",
       "      <td>2002.0</td>\n",
       "      <td>4.0</td>\n",
       "      <td>26.0</td>\n",
       "    </tr>\n",
       "    <tr>\n",
       "      <th>12</th>\n",
       "      <td>tt0120630</td>\n",
       "      <td>0.0</td>\n",
       "      <td>True</td>\n",
       "      <td>45000000.0</td>\n",
       "      <td>37.990</td>\n",
       "      <td>224834564.0</td>\n",
       "      <td>84.0</td>\n",
       "      <td>Chicken Run</td>\n",
       "      <td>6.747</td>\n",
       "      <td>4397.0</td>\n",
       "      <td>...</td>\n",
       "      <td>False</td>\n",
       "      <td>True</td>\n",
       "      <td>False</td>\n",
       "      <td>False</td>\n",
       "      <td>False</td>\n",
       "      <td>False</td>\n",
       "      <td>False</td>\n",
       "      <td>2000.0</td>\n",
       "      <td>6.0</td>\n",
       "      <td>23.0</td>\n",
       "    </tr>\n",
       "    <tr>\n",
       "      <th>15</th>\n",
       "      <td>tt0120753</td>\n",
       "      <td>0.0</td>\n",
       "      <td>False</td>\n",
       "      <td>8000000.0</td>\n",
       "      <td>8.635</td>\n",
       "      <td>105983.0</td>\n",
       "      <td>122.0</td>\n",
       "      <td>The Million Dollar Hotel</td>\n",
       "      <td>5.900</td>\n",
       "      <td>283.0</td>\n",
       "      <td>...</td>\n",
       "      <td>False</td>\n",
       "      <td>False</td>\n",
       "      <td>False</td>\n",
       "      <td>False</td>\n",
       "      <td>False</td>\n",
       "      <td>False</td>\n",
       "      <td>False</td>\n",
       "      <td>2000.0</td>\n",
       "      <td>2.0</td>\n",
       "      <td>9.0</td>\n",
       "    </tr>\n",
       "    <tr>\n",
       "      <th>16</th>\n",
       "      <td>tt0120755</td>\n",
       "      <td>0.0</td>\n",
       "      <td>True</td>\n",
       "      <td>125000000.0</td>\n",
       "      <td>47.963</td>\n",
       "      <td>546388105.0</td>\n",
       "      <td>123.0</td>\n",
       "      <td>Mission: Impossible II</td>\n",
       "      <td>6.115</td>\n",
       "      <td>5885.0</td>\n",
       "      <td>...</td>\n",
       "      <td>False</td>\n",
       "      <td>False</td>\n",
       "      <td>False</td>\n",
       "      <td>False</td>\n",
       "      <td>False</td>\n",
       "      <td>False</td>\n",
       "      <td>False</td>\n",
       "      <td>2000.0</td>\n",
       "      <td>5.0</td>\n",
       "      <td>24.0</td>\n",
       "    </tr>\n",
       "  </tbody>\n",
       "</table>\n",
       "<p>5 rows × 33 columns</p>\n",
       "</div>"
      ],
      "text/plain": [
       "      imdb_id  adult  belongs_to_collection       budget  popularity  \\\n",
       "3   tt0118694    0.0                   True     150000.0      24.758   \n",
       "10  tt0120467    0.0                  False     120000.0       3.153   \n",
       "12  tt0120630    0.0                   True   45000000.0      37.990   \n",
       "15  tt0120753    0.0                  False    8000000.0       8.635   \n",
       "16  tt0120755    0.0                   True  125000000.0      47.963   \n",
       "\n",
       "        revenue  runtime                     title  vote_average  vote_count  \\\n",
       "3    14204632.0     99.0      In the Mood for Love         8.112      2245.0   \n",
       "10      14904.0     87.0                    Vulgar         5.500        44.0   \n",
       "12  224834564.0     84.0               Chicken Run         6.747      4397.0   \n",
       "15     105983.0    122.0  The Million Dollar Hotel         5.900       283.0   \n",
       "16  546388105.0    123.0    Mission: Impossible II         6.115      5885.0   \n",
       "\n",
       "    ... Genre_History  Genre_Family  Genre_Mystery  Genre_Western  Genre_War  \\\n",
       "3   ...         False         False          False          False      False   \n",
       "10  ...         False         False          False          False      False   \n",
       "12  ...         False          True          False          False      False   \n",
       "15  ...         False         False          False          False      False   \n",
       "16  ...         False         False          False          False      False   \n",
       "\n",
       "    Genre_TV Movie  Genre_Documentary    year  month   day  \n",
       "3            False              False  2000.0    9.0  29.0  \n",
       "10           False              False  2002.0    4.0  26.0  \n",
       "12           False              False  2000.0    6.0  23.0  \n",
       "15           False              False  2000.0    2.0   9.0  \n",
       "16           False              False  2000.0    5.0  24.0  \n",
       "\n",
       "[5 rows x 33 columns]"
      ]
     },
     "execution_count": 32,
     "metadata": {},
     "output_type": "execute_result"
    }
   ],
   "source": [
    "df.head()"
   ]
  },
  {
   "cell_type": "code",
   "execution_count": 33,
   "id": "00be8ae7",
   "metadata": {},
   "outputs": [
    {
     "data": {
      "text/html": [
       "<div>\n",
       "<style scoped>\n",
       "    .dataframe tbody tr th:only-of-type {\n",
       "        vertical-align: middle;\n",
       "    }\n",
       "\n",
       "    .dataframe tbody tr th {\n",
       "        vertical-align: top;\n",
       "    }\n",
       "\n",
       "    .dataframe thead th {\n",
       "        text-align: right;\n",
       "    }\n",
       "</style>\n",
       "<table border=\"1\" class=\"dataframe\">\n",
       "  <thead>\n",
       "    <tr style=\"text-align: right;\">\n",
       "      <th></th>\n",
       "      <th>imdb_id</th>\n",
       "      <th>adult</th>\n",
       "      <th>belongs_to_collection</th>\n",
       "      <th>budget</th>\n",
       "      <th>popularity</th>\n",
       "      <th>revenue</th>\n",
       "      <th>runtime</th>\n",
       "      <th>title</th>\n",
       "      <th>vote_average</th>\n",
       "      <th>vote_count</th>\n",
       "      <th>...</th>\n",
       "      <th>Genre_Mystery</th>\n",
       "      <th>Genre_Western</th>\n",
       "      <th>Genre_War</th>\n",
       "      <th>Genre_TV Movie</th>\n",
       "      <th>Genre_Documentary</th>\n",
       "      <th>year</th>\n",
       "      <th>month</th>\n",
       "      <th>day</th>\n",
       "      <th>over_two_half</th>\n",
       "      <th>under_one_half</th>\n",
       "    </tr>\n",
       "  </thead>\n",
       "  <tbody>\n",
       "    <tr>\n",
       "      <th>3</th>\n",
       "      <td>tt0118694</td>\n",
       "      <td>0.0</td>\n",
       "      <td>True</td>\n",
       "      <td>150000.0</td>\n",
       "      <td>24.758</td>\n",
       "      <td>14204632.0</td>\n",
       "      <td>99.0</td>\n",
       "      <td>In the Mood for Love</td>\n",
       "      <td>8.112</td>\n",
       "      <td>2245.0</td>\n",
       "      <td>...</td>\n",
       "      <td>False</td>\n",
       "      <td>False</td>\n",
       "      <td>False</td>\n",
       "      <td>False</td>\n",
       "      <td>False</td>\n",
       "      <td>2000.0</td>\n",
       "      <td>9.0</td>\n",
       "      <td>29.0</td>\n",
       "      <td>False</td>\n",
       "      <td>False</td>\n",
       "    </tr>\n",
       "    <tr>\n",
       "      <th>10</th>\n",
       "      <td>tt0120467</td>\n",
       "      <td>0.0</td>\n",
       "      <td>False</td>\n",
       "      <td>120000.0</td>\n",
       "      <td>3.153</td>\n",
       "      <td>14904.0</td>\n",
       "      <td>87.0</td>\n",
       "      <td>Vulgar</td>\n",
       "      <td>5.500</td>\n",
       "      <td>44.0</td>\n",
       "      <td>...</td>\n",
       "      <td>False</td>\n",
       "      <td>False</td>\n",
       "      <td>False</td>\n",
       "      <td>False</td>\n",
       "      <td>False</td>\n",
       "      <td>2002.0</td>\n",
       "      <td>4.0</td>\n",
       "      <td>26.0</td>\n",
       "      <td>False</td>\n",
       "      <td>True</td>\n",
       "    </tr>\n",
       "  </tbody>\n",
       "</table>\n",
       "<p>2 rows × 35 columns</p>\n",
       "</div>"
      ],
      "text/plain": [
       "      imdb_id  adult  belongs_to_collection    budget  popularity     revenue  \\\n",
       "3   tt0118694    0.0                   True  150000.0      24.758  14204632.0   \n",
       "10  tt0120467    0.0                  False  120000.0       3.153     14904.0   \n",
       "\n",
       "    runtime                 title  vote_average  vote_count  ...  \\\n",
       "3      99.0  In the Mood for Love         8.112      2245.0  ...   \n",
       "10     87.0                Vulgar         5.500        44.0  ...   \n",
       "\n",
       "   Genre_Mystery  Genre_Western  Genre_War  Genre_TV Movie  Genre_Documentary  \\\n",
       "3          False          False      False           False              False   \n",
       "10         False          False      False           False              False   \n",
       "\n",
       "      year  month   day  over_two_half  under_one_half  \n",
       "3   2000.0    9.0  29.0          False           False  \n",
       "10  2002.0    4.0  26.0          False            True  \n",
       "\n",
       "[2 rows x 35 columns]"
      ]
     },
     "execution_count": 33,
     "metadata": {},
     "output_type": "execute_result"
    }
   ],
   "source": [
    "# Create columns\n",
    "df['over_two_half'] = df['runtime'] >= 150.0\n",
    "df['under_one_half'] = df['runtime'] <= 90.0\n",
    "df.head(2)"
   ]
  },
  {
   "cell_type": "code",
   "execution_count": 34,
   "id": "deeac968",
   "metadata": {},
   "outputs": [
    {
     "data": {
      "text/plain": [
       "False    4939\n",
       "True      146\n",
       "Name: over_two_half, dtype: int64"
      ]
     },
     "execution_count": 34,
     "metadata": {},
     "output_type": "execute_result"
    }
   ],
   "source": [
    "df['over_two_half'].value_counts()"
   ]
  },
  {
   "cell_type": "code",
   "execution_count": 35,
   "id": "43632a32",
   "metadata": {},
   "outputs": [
    {
     "data": {
      "text/plain": [
       "False    4258\n",
       "True      827\n",
       "Name: under_one_half, dtype: int64"
      ]
     },
     "execution_count": 35,
     "metadata": {},
     "output_type": "execute_result"
    }
   ],
   "source": [
    "df['under_one_half'].value_counts()"
   ]
  },
  {
   "cell_type": "code",
   "execution_count": 36,
   "id": "d9040693",
   "metadata": {},
   "outputs": [
    {
     "data": {
      "text/plain": [
       "146"
      ]
     },
     "metadata": {},
     "output_type": "display_data"
    },
    {
     "data": {
      "text/plain": [
       "827"
      ]
     },
     "metadata": {},
     "output_type": "display_data"
    }
   ],
   "source": [
    "# Filtering movie runtimes into DFs\n",
    "two_half_df = df.loc[df['over_two_half']== True, ['revenue', 'over_two_half']]\n",
    "one_half_df = df.loc[df['under_one_half']== True, ['revenue', 'under_one_half']]\n",
    "# Filter out feature\n",
    "two_half_rev = two_half_df['revenue']\n",
    "one_half_rev = one_half_df['revenue']\n",
    "# check the qty in each group\n",
    "display(len(two_half_rev), len(one_half_rev))"
   ]
  },
  {
   "cell_type": "markdown",
   "id": "46e951a3",
   "metadata": {},
   "source": [
    "### No Outliers Assumption"
   ]
  },
  {
   "cell_type": "code",
   "execution_count": 37,
   "id": "0437ade4",
   "metadata": {},
   "outputs": [
    {
     "data": {
      "text/plain": [
       "2"
      ]
     },
     "execution_count": 37,
     "metadata": {},
     "output_type": "execute_result"
    }
   ],
   "source": [
    "# Outliers\n",
    "zscores_s = stats.zscore(two_half_rev)\n",
    "outliers_s = abs(zscores_s)>3\n",
    "np.sum(outliers_s)"
   ]
  },
  {
   "cell_type": "code",
   "execution_count": 38,
   "id": "878c9032",
   "metadata": {},
   "outputs": [],
   "source": [
    "# Remove Outliers\n",
    "two_half_rev_cln = two_half_rev[(np.abs(stats.zscore(two_half_rev)) < 3)]"
   ]
  },
  {
   "cell_type": "code",
   "execution_count": 39,
   "id": "e5e640e5",
   "metadata": {},
   "outputs": [
    {
     "data": {
      "text/plain": [
       "21"
      ]
     },
     "execution_count": 39,
     "metadata": {},
     "output_type": "execute_result"
    }
   ],
   "source": [
    "# Outliers\n",
    "zscores_s = stats.zscore(one_half_rev)\n",
    "outliers_s = abs(zscores_s)>3\n",
    "np.sum(outliers_s)"
   ]
  },
  {
   "cell_type": "code",
   "execution_count": 40,
   "id": "c322e5a9",
   "metadata": {},
   "outputs": [],
   "source": [
    "# Remove Outliers\n",
    "one_half_rev_cln = one_half_rev[(np.abs(stats.zscore(one_half_rev)) < 3)]"
   ]
  },
  {
   "cell_type": "markdown",
   "id": "f5c0303a",
   "metadata": {},
   "source": [
    "- Outliers have been removed"
   ]
  },
  {
   "cell_type": "markdown",
   "id": "2f36deef",
   "metadata": {},
   "source": [
    "### Normality Assumption"
   ]
  },
  {
   "cell_type": "code",
   "execution_count": 41,
   "id": "220f4975",
   "metadata": {},
   "outputs": [
    {
     "name": "stdout",
     "output_type": "stream",
     "text": [
      "NormaltestResult(statistic=36.88614829183344, pvalue=9.7785546910993e-09)\n"
     ]
    },
    {
     "data": {
      "text/plain": [
       "True"
      ]
     },
     "execution_count": 41,
     "metadata": {},
     "output_type": "execute_result"
    }
   ],
   "source": [
    "# Normality\n",
    "result_two = stats.normaltest(two_half_rev_cln)\n",
    "print(result_two)\n",
    "# Is the p-value less than 0.05?\n",
    "result_two.pvalue < .05"
   ]
  },
  {
   "cell_type": "code",
   "execution_count": 42,
   "id": "6f81f3dd",
   "metadata": {},
   "outputs": [
    {
     "name": "stdout",
     "output_type": "stream",
     "text": [
      "NormaltestResult(statistic=422.42905114315926, pvalue=1.865078202538238e-92)\n"
     ]
    },
    {
     "data": {
      "text/plain": [
       "True"
      ]
     },
     "execution_count": 42,
     "metadata": {},
     "output_type": "execute_result"
    }
   ],
   "source": [
    "# Normality\n",
    "result_one = stats.normaltest(one_half_rev_cln)\n",
    "print(result_one)\n",
    "# Is the p-value less than 0.05?\n",
    "result_one.pvalue < .05"
   ]
  },
  {
   "cell_type": "code",
   "execution_count": 43,
   "id": "fc5e0647",
   "metadata": {},
   "outputs": [
    {
     "data": {
      "text/plain": [
       "806"
      ]
     },
     "metadata": {},
     "output_type": "display_data"
    },
    {
     "data": {
      "text/plain": [
       "144"
      ]
     },
     "metadata": {},
     "output_type": "display_data"
    }
   ],
   "source": [
    "display(len(one_half_rev_cln), len(two_half_rev_cln))"
   ]
  },
  {
   "cell_type": "markdown",
   "id": "3309383a",
   "metadata": {},
   "source": [
    "- The samples distribution is not normal as our p-value is less than alpha, so we reject the null hypothesis.\n",
    "- Since we have more than 20 in each sample we will continue with our last assumption."
   ]
  },
  {
   "cell_type": "markdown",
   "id": "427cafbc",
   "metadata": {},
   "source": [
    "### Equal Variance Assumption"
   ]
  },
  {
   "cell_type": "code",
   "execution_count": 44,
   "id": "f64ae19f",
   "metadata": {},
   "outputs": [
    {
     "name": "stdout",
     "output_type": "stream",
     "text": [
      "LeveneResult(statistic=306.7896301431821, pvalue=1.005588991776251e-59)\n"
     ]
    },
    {
     "data": {
      "text/plain": [
       "True"
      ]
     },
     "execution_count": 44,
     "metadata": {},
     "output_type": "execute_result"
    }
   ],
   "source": [
    "# Equal Variance\n",
    "result = stats.levene(one_half_rev_cln, two_half_rev_cln)\n",
    "print(result)\n",
    "# is the p-value less than 0.05?\n",
    "result.pvalue < .05"
   ]
  },
  {
   "cell_type": "markdown",
   "id": "2b8777f2",
   "metadata": {},
   "source": [
    "- P-value is less than alpha which indicates we do not have Equal Variance in our samples. Therefore, we reject the null hypothesis and we can proceed by using the Welch's T-Test."
   ]
  },
  {
   "cell_type": "markdown",
   "id": "6662d70f",
   "metadata": {},
   "source": [
    "### Test"
   ]
  },
  {
   "cell_type": "code",
   "execution_count": 45,
   "id": "32844493",
   "metadata": {},
   "outputs": [
    {
     "name": "stdout",
     "output_type": "stream",
     "text": [
      "Ttest_indResult(statistic=-7.8013777901294805, pvalue=1.1267821166347905e-12)\n"
     ]
    },
    {
     "data": {
      "text/plain": [
       "True"
      ]
     },
     "execution_count": 45,
     "metadata": {},
     "output_type": "execute_result"
    }
   ],
   "source": [
    "# Welch's T-test\n",
    "# Independent t-test with equal_var set to False\n",
    "\n",
    "result = stats.ttest_ind(one_half_rev_cln, two_half_rev_cln, equal_var = False)\n",
    "print(result)\n",
    "# is the p-value less than 0.05?\n",
    "result.pvalue < .05"
   ]
  },
  {
   "cell_type": "markdown",
   "id": "508d73cf",
   "metadata": {},
   "source": [
    "### Visualization"
   ]
  },
  {
   "cell_type": "code",
   "execution_count": 46,
   "id": "c63c1c53",
   "metadata": {},
   "outputs": [],
   "source": [
    "# Change column name to concat for plot \n",
    "two_half_df.rename(columns={'over_two_half': 'time'}, inplace = True)"
   ]
  },
  {
   "cell_type": "code",
   "execution_count": 47,
   "id": "7db30240",
   "metadata": {},
   "outputs": [],
   "source": [
    "# filter out true values\n",
    "filter1 = two_half_df['time']==True"
   ]
  },
  {
   "cell_type": "code",
   "execution_count": 48,
   "id": "156c9279",
   "metadata": {},
   "outputs": [],
   "source": [
    "# change True values to 150\n",
    "two_half_df.loc[filter1, 'time']=150"
   ]
  },
  {
   "cell_type": "code",
   "execution_count": 49,
   "id": "50766778",
   "metadata": {},
   "outputs": [
    {
     "name": "stdout",
     "output_type": "stream",
     "text": [
      "<class 'pandas.core.frame.DataFrame'>\n",
      "Int64Index: 146 entries, 155 to 60031\n",
      "Data columns (total 2 columns):\n",
      " #   Column   Non-Null Count  Dtype  \n",
      "---  ------   --------------  -----  \n",
      " 0   revenue  146 non-null    float64\n",
      " 1   time     146 non-null    object \n",
      "dtypes: float64(1), object(1)\n",
      "memory usage: 3.4+ KB\n"
     ]
    }
   ],
   "source": [
    "two_half_df.info()"
   ]
  },
  {
   "cell_type": "code",
   "execution_count": 50,
   "id": "2f708d3d",
   "metadata": {},
   "outputs": [],
   "source": [
    "# change column name to the same as other for concat to then plot\n",
    "one_half_df.rename(columns={'under_one_half': 'time'}, inplace = True)"
   ]
  },
  {
   "cell_type": "code",
   "execution_count": 51,
   "id": "060cac93",
   "metadata": {},
   "outputs": [],
   "source": [
    "# filter out true values\n",
    "filter2 = one_half_df['time']==True"
   ]
  },
  {
   "cell_type": "code",
   "execution_count": 52,
   "id": "230421e3",
   "metadata": {},
   "outputs": [],
   "source": [
    "# change true values to 90\n",
    "one_half_df.loc[filter2, 'time']=90"
   ]
  },
  {
   "cell_type": "code",
   "execution_count": 53,
   "id": "7efd70c1",
   "metadata": {},
   "outputs": [
    {
     "data": {
      "text/html": [
       "<div>\n",
       "<style scoped>\n",
       "    .dataframe tbody tr th:only-of-type {\n",
       "        vertical-align: middle;\n",
       "    }\n",
       "\n",
       "    .dataframe tbody tr th {\n",
       "        vertical-align: top;\n",
       "    }\n",
       "\n",
       "    .dataframe thead th {\n",
       "        text-align: right;\n",
       "    }\n",
       "</style>\n",
       "<table border=\"1\" class=\"dataframe\">\n",
       "  <thead>\n",
       "    <tr style=\"text-align: right;\">\n",
       "      <th></th>\n",
       "      <th>revenue</th>\n",
       "      <th>time</th>\n",
       "    </tr>\n",
       "  </thead>\n",
       "  <tbody>\n",
       "    <tr>\n",
       "      <th>155</th>\n",
       "      <td>465361176.0</td>\n",
       "      <td>150</td>\n",
       "    </tr>\n",
       "    <tr>\n",
       "      <th>237</th>\n",
       "      <td>215294342.0</td>\n",
       "      <td>150</td>\n",
       "    </tr>\n",
       "    <tr>\n",
       "      <th>587</th>\n",
       "      <td>4900000.0</td>\n",
       "      <td>150</td>\n",
       "    </tr>\n",
       "    <tr>\n",
       "      <th>788</th>\n",
       "      <td>20908467.0</td>\n",
       "      <td>150</td>\n",
       "    </tr>\n",
       "    <tr>\n",
       "      <th>1257</th>\n",
       "      <td>871368364.0</td>\n",
       "      <td>150</td>\n",
       "    </tr>\n",
       "    <tr>\n",
       "      <th>...</th>\n",
       "      <td>...</td>\n",
       "      <td>...</td>\n",
       "    </tr>\n",
       "    <tr>\n",
       "      <th>59325</th>\n",
       "      <td>50.0</td>\n",
       "      <td>90</td>\n",
       "    </tr>\n",
       "    <tr>\n",
       "      <th>59404</th>\n",
       "      <td>1150.0</td>\n",
       "      <td>90</td>\n",
       "    </tr>\n",
       "    <tr>\n",
       "      <th>59877</th>\n",
       "      <td>431020.0</td>\n",
       "      <td>90</td>\n",
       "    </tr>\n",
       "    <tr>\n",
       "      <th>60200</th>\n",
       "      <td>8756.0</td>\n",
       "      <td>90</td>\n",
       "    </tr>\n",
       "    <tr>\n",
       "      <th>60221</th>\n",
       "      <td>44888959.0</td>\n",
       "      <td>90</td>\n",
       "    </tr>\n",
       "  </tbody>\n",
       "</table>\n",
       "<p>973 rows × 2 columns</p>\n",
       "</div>"
      ],
      "text/plain": [
       "           revenue time\n",
       "155    465361176.0  150\n",
       "237    215294342.0  150\n",
       "587      4900000.0  150\n",
       "788     20908467.0  150\n",
       "1257   871368364.0  150\n",
       "...            ...  ...\n",
       "59325         50.0   90\n",
       "59404       1150.0   90\n",
       "59877     431020.0   90\n",
       "60200       8756.0   90\n",
       "60221   44888959.0   90\n",
       "\n",
       "[973 rows x 2 columns]"
      ]
     },
     "execution_count": 53,
     "metadata": {},
     "output_type": "execute_result"
    }
   ],
   "source": [
    "# creat plot df with both dfs 90 & 150 concated\n",
    "plot_df = pd.concat([two_half_df, one_half_df])\n",
    "plot_df"
   ]
  },
  {
   "cell_type": "code",
   "execution_count": 54,
   "id": "332134e8",
   "metadata": {},
   "outputs": [
    {
     "data": {
      "image/png": "[encoded data removed]",
      "text/plain": [
       "<Figure size 640x480 with 1 Axes>"
      ]
     },
     "metadata": {},
     "output_type": "display_data"
    }
   ],
   "source": [
    "# Plot \n",
    "ax = sns.barplot(data=plot_df, x= 'time', y = 'revenue')\n",
    "ax.set_title('Runtime by Revenue')\n",
    "ax.yaxis.set_major_formatter('${x:,.0f}');"
   ]
  },
  {
   "cell_type": "markdown",
   "id": "6b894672",
   "metadata": {},
   "source": [
    "### Q2: Conclusion\n",
    "\n",
    "- Welch's T-Test gave the p-value of less than alpha, therefore we reject the null hypothesis and support the alternative hypothesis.\n",
    "- There is a significant difference of revenue for movies with a runtime of >=2.5 hours and <=1.5 hours.\n",
    "- With our plot we can see there is a greater earned revenue with movies 2.5 and over."
   ]
  },
  {
   "cell_type": "markdown",
   "id": "c4a2c449",
   "metadata": {},
   "source": [
    "## Question Three: (Independent)\n",
    "Do movies released in 2020 earn less revenue than movies released in 2018?\n",
    "- How do the years compare for movie ratings?"
   ]
  },
  {
   "cell_type": "markdown",
   "id": "0c3b44ec",
   "metadata": {},
   "source": [
    "Hypothesis Testing Statements:\n",
    "\n",
    "- Null Hypothesis: Movie released in 2020 and those released in 2018 do not have a significant difference in revenue earned.\n",
    "\n",
    "- Alternative Hypothesis: There is a significant difference in revenue earned for movie released in 2020 compared to those released in 2018.\n",
    "\n",
    "Hypothesis Test:\n",
    "\n",
    "- alpha = 0.05\n",
    "- Independent, 2 sample test, because there are two groups and the revenue we are testing is numeric.\n",
    "- Assumptions: No Outliers, Normality and Equal Variance\n",
    "    - If assumptions fail: use Welch's T- test; equal_var = False"
   ]
  },
  {
   "cell_type": "code",
   "execution_count": 55,
   "id": "091eeaa5",
   "metadata": {},
   "outputs": [
    {
     "data": {
      "text/html": [
       "<div>\n",
       "<style scoped>\n",
       "    .dataframe tbody tr th:only-of-type {\n",
       "        vertical-align: middle;\n",
       "    }\n",
       "\n",
       "    .dataframe tbody tr th {\n",
       "        vertical-align: top;\n",
       "    }\n",
       "\n",
       "    .dataframe thead th {\n",
       "        text-align: right;\n",
       "    }\n",
       "</style>\n",
       "<table border=\"1\" class=\"dataframe\">\n",
       "  <thead>\n",
       "    <tr style=\"text-align: right;\">\n",
       "      <th></th>\n",
       "      <th>imdb_id</th>\n",
       "      <th>adult</th>\n",
       "      <th>belongs_to_collection</th>\n",
       "      <th>budget</th>\n",
       "      <th>popularity</th>\n",
       "      <th>revenue</th>\n",
       "      <th>runtime</th>\n",
       "      <th>title</th>\n",
       "      <th>vote_average</th>\n",
       "      <th>vote_count</th>\n",
       "      <th>...</th>\n",
       "      <th>Genre_Mystery</th>\n",
       "      <th>Genre_Western</th>\n",
       "      <th>Genre_War</th>\n",
       "      <th>Genre_TV Movie</th>\n",
       "      <th>Genre_Documentary</th>\n",
       "      <th>year</th>\n",
       "      <th>month</th>\n",
       "      <th>day</th>\n",
       "      <th>over_two_half</th>\n",
       "      <th>under_one_half</th>\n",
       "    </tr>\n",
       "  </thead>\n",
       "  <tbody>\n",
       "    <tr>\n",
       "      <th>3</th>\n",
       "      <td>tt0118694</td>\n",
       "      <td>0.0</td>\n",
       "      <td>True</td>\n",
       "      <td>150000.0</td>\n",
       "      <td>24.758</td>\n",
       "      <td>14204632.0</td>\n",
       "      <td>99.0</td>\n",
       "      <td>In the Mood for Love</td>\n",
       "      <td>8.112</td>\n",
       "      <td>2245.0</td>\n",
       "      <td>...</td>\n",
       "      <td>False</td>\n",
       "      <td>False</td>\n",
       "      <td>False</td>\n",
       "      <td>False</td>\n",
       "      <td>False</td>\n",
       "      <td>2000.0</td>\n",
       "      <td>9.0</td>\n",
       "      <td>29.0</td>\n",
       "      <td>False</td>\n",
       "      <td>False</td>\n",
       "    </tr>\n",
       "    <tr>\n",
       "      <th>10</th>\n",
       "      <td>tt0120467</td>\n",
       "      <td>0.0</td>\n",
       "      <td>False</td>\n",
       "      <td>120000.0</td>\n",
       "      <td>3.153</td>\n",
       "      <td>14904.0</td>\n",
       "      <td>87.0</td>\n",
       "      <td>Vulgar</td>\n",
       "      <td>5.500</td>\n",
       "      <td>44.0</td>\n",
       "      <td>...</td>\n",
       "      <td>False</td>\n",
       "      <td>False</td>\n",
       "      <td>False</td>\n",
       "      <td>False</td>\n",
       "      <td>False</td>\n",
       "      <td>2002.0</td>\n",
       "      <td>4.0</td>\n",
       "      <td>26.0</td>\n",
       "      <td>False</td>\n",
       "      <td>True</td>\n",
       "    </tr>\n",
       "  </tbody>\n",
       "</table>\n",
       "<p>2 rows × 35 columns</p>\n",
       "</div>"
      ],
      "text/plain": [
       "      imdb_id  adult  belongs_to_collection    budget  popularity     revenue  \\\n",
       "3   tt0118694    0.0                   True  150000.0      24.758  14204632.0   \n",
       "10  tt0120467    0.0                  False  120000.0       3.153     14904.0   \n",
       "\n",
       "    runtime                 title  vote_average  vote_count  ...  \\\n",
       "3      99.0  In the Mood for Love         8.112      2245.0  ...   \n",
       "10     87.0                Vulgar         5.500        44.0  ...   \n",
       "\n",
       "   Genre_Mystery  Genre_Western  Genre_War  Genre_TV Movie  Genre_Documentary  \\\n",
       "3          False          False      False           False              False   \n",
       "10         False          False      False           False              False   \n",
       "\n",
       "      year  month   day  over_two_half  under_one_half  \n",
       "3   2000.0    9.0  29.0          False           False  \n",
       "10  2002.0    4.0  26.0          False            True  \n",
       "\n",
       "[2 rows x 35 columns]"
      ]
     },
     "execution_count": 55,
     "metadata": {},
     "output_type": "execute_result"
    }
   ],
   "source": [
    "df.head(2)"
   ]
  },
  {
   "cell_type": "code",
   "execution_count": 56,
   "id": "d617f1d5",
   "metadata": {},
   "outputs": [
    {
     "data": {
      "text/plain": [
       "129"
      ]
     },
     "metadata": {},
     "output_type": "display_data"
    },
    {
     "data": {
      "text/plain": [
       "211"
      ]
     },
     "metadata": {},
     "output_type": "display_data"
    }
   ],
   "source": [
    "# filter out the two groups; 2020, 2018\n",
    "twty_df = df.loc[df['year'] == 2020,['revenue', 'year']]\n",
    "eight_df = df.loc[df['year'] == 2018, ['revenue', 'year']]\n",
    "\n",
    "twty_rev = twty_df['revenue']\n",
    "eight_rev = eight_df['revenue']\n",
    "\n",
    "display(len(twty_rev), len(eight_rev))"
   ]
  },
  {
   "cell_type": "markdown",
   "id": "8103d315",
   "metadata": {},
   "source": [
    "### No Outliers Assumption"
   ]
  },
  {
   "cell_type": "code",
   "execution_count": 57,
   "id": "d0ea679a",
   "metadata": {},
   "outputs": [
    {
     "data": {
      "text/plain": [
       "4"
      ]
     },
     "execution_count": 57,
     "metadata": {},
     "output_type": "execute_result"
    }
   ],
   "source": [
    "# Outliers 2020\n",
    "zscores_f = stats.zscore(twty_rev)\n",
    "outliers_f = abs(zscores_f)>3\n",
    "np.sum(outliers_f)"
   ]
  },
  {
   "cell_type": "code",
   "execution_count": 58,
   "id": "d5d745d7",
   "metadata": {},
   "outputs": [],
   "source": [
    "# Remove Outliers\n",
    "twty_rev = twty_rev[(np.abs(stats.zscore(twty_rev)) < 3)]"
   ]
  },
  {
   "cell_type": "code",
   "execution_count": 59,
   "id": "de22d1df",
   "metadata": {},
   "outputs": [
    {
     "data": {
      "text/plain": [
       "5"
      ]
     },
     "execution_count": 59,
     "metadata": {},
     "output_type": "execute_result"
    }
   ],
   "source": [
    "# Outliers 2018\n",
    "zscores_f = stats.zscore(eight_rev)\n",
    "outliers_f = abs(zscores_f)>3\n",
    "np.sum(outliers_f)"
   ]
  },
  {
   "cell_type": "code",
   "execution_count": 60,
   "id": "733284fd",
   "metadata": {},
   "outputs": [],
   "source": [
    "# Remove Outliers\n",
    "eight_rev = eight_rev[(np.abs(stats.zscore(eight_rev)) < 3)]"
   ]
  },
  {
   "cell_type": "markdown",
   "id": "28229794",
   "metadata": {},
   "source": [
    "### Normality Assumption"
   ]
  },
  {
   "cell_type": "code",
   "execution_count": 61,
   "id": "789fd09e",
   "metadata": {},
   "outputs": [
    {
     "name": "stdout",
     "output_type": "stream",
     "text": [
      "NormaltestResult(statistic=118.43715910101781, pvalue=1.9129238198848022e-26)\n"
     ]
    },
    {
     "data": {
      "text/plain": [
       "True"
      ]
     },
     "execution_count": 61,
     "metadata": {},
     "output_type": "execute_result"
    }
   ],
   "source": [
    "# Normality\n",
    "result_twty = stats.normaltest(twty_rev)\n",
    "print(result_twty)\n",
    "# Is the p-value less than 0.05?\n",
    "result_twty.pvalue < .05"
   ]
  },
  {
   "cell_type": "code",
   "execution_count": 62,
   "id": "2502dc77",
   "metadata": {},
   "outputs": [
    {
     "name": "stdout",
     "output_type": "stream",
     "text": [
      "NormaltestResult(statistic=124.12670418875962, pvalue=1.1123172105770627e-27)\n"
     ]
    },
    {
     "data": {
      "text/plain": [
       "True"
      ]
     },
     "execution_count": 62,
     "metadata": {},
     "output_type": "execute_result"
    }
   ],
   "source": [
    "# Normality\n",
    "result_eight = stats.normaltest(eight_rev)\n",
    "print(result_eight)\n",
    "# Is the p-value less than 0.05?\n",
    "result_eight.pvalue < .05"
   ]
  },
  {
   "cell_type": "code",
   "execution_count": 63,
   "id": "5d5196e4",
   "metadata": {},
   "outputs": [
    {
     "data": {
      "text/plain": [
       "125"
      ]
     },
     "metadata": {},
     "output_type": "display_data"
    },
    {
     "data": {
      "text/plain": [
       "206"
      ]
     },
     "metadata": {},
     "output_type": "display_data"
    }
   ],
   "source": [
    "display(len(twty_rev), len(eight_rev))"
   ]
  },
  {
   "cell_type": "markdown",
   "id": "8c356628",
   "metadata": {},
   "source": [
    "- Distributions are not normal, however we still have more than 15 in each sample after removing outliers so we can still continue to test our next assumption. "
   ]
  },
  {
   "cell_type": "markdown",
   "id": "f83acf1a",
   "metadata": {},
   "source": [
    "### Equal Variance Assumption"
   ]
  },
  {
   "cell_type": "code",
   "execution_count": 64,
   "id": "4910e0b0",
   "metadata": {},
   "outputs": [
    {
     "name": "stdout",
     "output_type": "stream",
     "text": [
      "LeveneResult(statistic=22.061472101096985, pvalue=3.8844664717434635e-06)\n"
     ]
    },
    {
     "data": {
      "text/plain": [
       "True"
      ]
     },
     "execution_count": 64,
     "metadata": {},
     "output_type": "execute_result"
    }
   ],
   "source": [
    "# Equal Variance\n",
    "result =stats.levene(twty_rev, eight_rev)\n",
    "print(result)\n",
    "# is the p-value less than 0.05?\n",
    "result.pvalue < .05"
   ]
  },
  {
   "cell_type": "markdown",
   "id": "283f9873",
   "metadata": {},
   "source": [
    "- There is no equal variance in our samples so w will proceed with the non-Parametric test; Welch's T-test.\n",
    "- Our p-value being less than alpha rejects the null hypothesis."
   ]
  },
  {
   "cell_type": "markdown",
   "id": "31957eb9",
   "metadata": {},
   "source": [
    "### Test"
   ]
  },
  {
   "cell_type": "code",
   "execution_count": 65,
   "id": "ef4909e7",
   "metadata": {},
   "outputs": [
    {
     "name": "stdout",
     "output_type": "stream",
     "text": [
      "Ttest_indResult(statistic=-6.030696321866577, pvalue=5.997876017817936e-09)\n"
     ]
    },
    {
     "data": {
      "text/plain": [
       "True"
      ]
     },
     "execution_count": 65,
     "metadata": {},
     "output_type": "execute_result"
    }
   ],
   "source": [
    "# non- Parametric test, no longer the ANOVA test because equal variance test did not pass.\n",
    "result = stats.ttest_ind(twty_rev, eight_rev, equal_var = False)\n",
    "print(result)\n",
    "# is the p-value less than 0.05?\n",
    "result.pvalue < .05"
   ]
  },
  {
   "cell_type": "markdown",
   "id": "e62e29c1",
   "metadata": {},
   "source": [
    "- Welch's test has a p-value less than alpha, so we reject the null hypothesis and support the alternative hypothesis.\n",
    "- The two samples have significant differences."
   ]
  },
  {
   "cell_type": "markdown",
   "id": "711110d3",
   "metadata": {},
   "source": [
    "### Visualization"
   ]
  },
  {
   "cell_type": "code",
   "execution_count": 66,
   "id": "189f9263",
   "metadata": {
    "scrolled": false
   },
   "outputs": [
    {
     "data": {
      "image/png": "[encoded data removed]",
      "text/plain": [
       "<Figure size 640x480 with 1 Axes>"
      ]
     },
     "metadata": {},
     "output_type": "display_data"
    }
   ],
   "source": [
    "# Plot \n",
    "ax = sns.barplot(x=df['year'], y = df['revenue'])\n",
    "ax.set_title('Movie Genres by Renvenue')\n",
    "ax.set_xticklabels(ax.get_xticklabels(), rotation=75);\n",
    "ax.yaxis.set_major_formatter('${x:,.0f}');"
   ]
  },
  {
   "cell_type": "markdown",
   "id": "23f88055",
   "metadata": {},
   "source": [
    "### Q3: Conclusion"
   ]
  },
  {
   "cell_type": "markdown",
   "id": "5760e36b",
   "metadata": {},
   "source": [
    "- According to our Welches test we do have a significant difference in revenue earned when comparing 2018 and 2020. Supporting the Alternative Hypothesis. \n",
    "- When looking at our plot we can see the 2018 is significantly higher in earned revenue than 2020. \n",
    "- We also see that 2019 is the year that earned the highest revenue. "
   ]
  },
  {
   "cell_type": "code",
   "execution_count": null,
   "id": "b76a2067",
   "metadata": {},
   "outputs": [],
   "source": []
  }
 ],
 "metadata": {
  "kernelspec": {
   "display_name": "Python (dojo-env)",
   "language": "python",
   "name": "dojo-env"
  },
  "language_info": {
   "codemirror_mode": {
    "name": "ipython",
    "version": 3
   },
   "file_extension": ".py",
   "mimetype": "text/x-python",
   "name": "python",
   "nbconvert_exporter": "python",
   "pygments_lexer": "ipython3",
   "version": "3.9.15"
  },
  "toc": {
   "base_numbering": 1,
   "nav_menu": {},
   "number_sections": true,
   "sideBar": true,
   "skip_h1_title": false,
   "title_cell": "Table of Contents",
   "title_sidebar": "Contents",
   "toc_cell": false,
   "toc_position": {
    "height": "calc(100% - 180px)",
    "left": "10px",
    "top": "150px",
    "width": "281.662px"
   },
   "toc_section_display": true,
   "toc_window_display": true
  }
 },
 "nbformat": 4,
 "nbformat_minor": 5
}
