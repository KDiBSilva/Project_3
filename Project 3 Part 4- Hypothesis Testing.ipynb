{
 "cells": [
  {
   "cell_type": "code",
   "execution_count": 1,
   "id": "a11f48bb",
   "metadata": {},
   "outputs": [],
   "source": [
    "# Imports\n",
    "\n",
    "#Numpy\n",
    "import numpy as np\n",
    "#Pandas\n",
    "import pandas as pd\n",
    "#Matplotib\n",
    "import matplotlib.pyplot as plt\n",
    "# Seaborn\n",
    "import seaborn as sns\n",
    "# Hypothesis Testing \n",
    "import scipy.stats as stats\n",
    "\n",
    "from statsmodels.stats.multicomp import pairwise_tukeyhsd\n",
    "\n",
    "\n",
    "## Filter ALL warnings\n",
    "import warnings\n",
    "warnings.filterwarnings('ignore')"
   ]
  },
  {
   "cell_type": "markdown",
   "id": "c52dfcaf",
   "metadata": {},
   "source": [
    "# Load & Clean"
   ]
  },
  {
   "cell_type": "code",
   "execution_count": 2,
   "id": "5189e748",
   "metadata": {},
   "outputs": [
    {
     "data": {
      "text/html": [
       "<div>\n",
       "<style scoped>\n",
       "    .dataframe tbody tr th:only-of-type {\n",
       "        vertical-align: middle;\n",
       "    }\n",
       "\n",
       "    .dataframe tbody tr th {\n",
       "        vertical-align: top;\n",
       "    }\n",
       "\n",
       "    .dataframe thead th {\n",
       "        text-align: right;\n",
       "    }\n",
       "</style>\n",
       "<table border=\"1\" class=\"dataframe\">\n",
       "  <thead>\n",
       "    <tr style=\"text-align: right;\">\n",
       "      <th></th>\n",
       "      <th>imdb_id</th>\n",
       "      <th>adult</th>\n",
       "      <th>backdrop_path</th>\n",
       "      <th>belongs_to_collection</th>\n",
       "      <th>budget</th>\n",
       "      <th>genres</th>\n",
       "      <th>homepage</th>\n",
       "      <th>id</th>\n",
       "      <th>original_language</th>\n",
       "      <th>original_title</th>\n",
       "      <th>...</th>\n",
       "      <th>revenue</th>\n",
       "      <th>runtime</th>\n",
       "      <th>spoken_languages</th>\n",
       "      <th>status</th>\n",
       "      <th>tagline</th>\n",
       "      <th>title</th>\n",
       "      <th>video</th>\n",
       "      <th>vote_average</th>\n",
       "      <th>vote_count</th>\n",
       "      <th>certification</th>\n",
       "    </tr>\n",
       "  </thead>\n",
       "  <tbody>\n",
       "    <tr>\n",
       "      <th>0</th>\n",
       "      <td>tt0113026</td>\n",
       "      <td>0.0</td>\n",
       "      <td>/vMFs7nw6P0bIV1jDsQpxAieAVnH.jpg</td>\n",
       "      <td>NaN</td>\n",
       "      <td>10000000.0</td>\n",
       "      <td>[{'id': 35, 'name': 'Comedy'}, {'id': 10402, '...</td>\n",
       "      <td>NaN</td>\n",
       "      <td>62127.0</td>\n",
       "      <td>en</td>\n",
       "      <td>The Fantasticks</td>\n",
       "      <td>...</td>\n",
       "      <td>0.0</td>\n",
       "      <td>86.0</td>\n",
       "      <td>[{'english_name': 'English', 'iso_639_1': 'en'...</td>\n",
       "      <td>Released</td>\n",
       "      <td>Try to remember the first time magic happened</td>\n",
       "      <td>The Fantasticks</td>\n",
       "      <td>0.0</td>\n",
       "      <td>5.500</td>\n",
       "      <td>22.0</td>\n",
       "      <td>NaN</td>\n",
       "    </tr>\n",
       "    <tr>\n",
       "      <th>1</th>\n",
       "      <td>tt0113092</td>\n",
       "      <td>0.0</td>\n",
       "      <td>NaN</td>\n",
       "      <td>NaN</td>\n",
       "      <td>0.0</td>\n",
       "      <td>[{'id': 878, 'name': 'Science Fiction'}]</td>\n",
       "      <td>NaN</td>\n",
       "      <td>110977.0</td>\n",
       "      <td>en</td>\n",
       "      <td>For the Cause</td>\n",
       "      <td>...</td>\n",
       "      <td>0.0</td>\n",
       "      <td>100.0</td>\n",
       "      <td>[{'english_name': 'English', 'iso_639_1': 'en'...</td>\n",
       "      <td>Released</td>\n",
       "      <td>The ultimate showdown on a forbidden planet.</td>\n",
       "      <td>For the Cause</td>\n",
       "      <td>0.0</td>\n",
       "      <td>5.100</td>\n",
       "      <td>8.0</td>\n",
       "      <td>NaN</td>\n",
       "    </tr>\n",
       "    <tr>\n",
       "      <th>2</th>\n",
       "      <td>tt0116391</td>\n",
       "      <td>0.0</td>\n",
       "      <td>NaN</td>\n",
       "      <td>NaN</td>\n",
       "      <td>0.0</td>\n",
       "      <td>[{'id': 18, 'name': 'Drama'}, {'id': 28, 'name...</td>\n",
       "      <td>NaN</td>\n",
       "      <td>442869.0</td>\n",
       "      <td>hi</td>\n",
       "      <td>Gang</td>\n",
       "      <td>...</td>\n",
       "      <td>0.0</td>\n",
       "      <td>152.0</td>\n",
       "      <td>[{'english_name': 'Hindi', 'iso_639_1': 'hi', ...</td>\n",
       "      <td>Released</td>\n",
       "      <td>NaN</td>\n",
       "      <td>Gang</td>\n",
       "      <td>0.0</td>\n",
       "      <td>4.000</td>\n",
       "      <td>1.0</td>\n",
       "      <td>NaN</td>\n",
       "    </tr>\n",
       "    <tr>\n",
       "      <th>3</th>\n",
       "      <td>tt0118694</td>\n",
       "      <td>0.0</td>\n",
       "      <td>/n4GJFGzsc7NinI1VeGDXIcQjtU2.jpg</td>\n",
       "      <td>{'id': 1131062, 'name': 'Wong Kar-Wai’s Love T...</td>\n",
       "      <td>150000.0</td>\n",
       "      <td>[{'id': 18, 'name': 'Drama'}, {'id': 10749, 'n...</td>\n",
       "      <td>NaN</td>\n",
       "      <td>843.0</td>\n",
       "      <td>cn</td>\n",
       "      <td>花樣年華</td>\n",
       "      <td>...</td>\n",
       "      <td>14204632.0</td>\n",
       "      <td>99.0</td>\n",
       "      <td>[{'english_name': 'Cantonese', 'iso_639_1': 'c...</td>\n",
       "      <td>Released</td>\n",
       "      <td>Feel the heat, keep the feeling burning, let t...</td>\n",
       "      <td>In the Mood for Love</td>\n",
       "      <td>0.0</td>\n",
       "      <td>8.112</td>\n",
       "      <td>2245.0</td>\n",
       "      <td>PG</td>\n",
       "    </tr>\n",
       "    <tr>\n",
       "      <th>4</th>\n",
       "      <td>tt0118852</td>\n",
       "      <td>0.0</td>\n",
       "      <td>/vceiGZ3uavAEHlTA7v0GjQsGVKe.jpg</td>\n",
       "      <td>NaN</td>\n",
       "      <td>0.0</td>\n",
       "      <td>[{'id': 18, 'name': 'Drama'}]</td>\n",
       "      <td>NaN</td>\n",
       "      <td>49511.0</td>\n",
       "      <td>en</td>\n",
       "      <td>Chinese Coffee</td>\n",
       "      <td>...</td>\n",
       "      <td>0.0</td>\n",
       "      <td>99.0</td>\n",
       "      <td>[{'english_name': 'English', 'iso_639_1': 'en'...</td>\n",
       "      <td>Released</td>\n",
       "      <td>There's a fine line between friendship and bet...</td>\n",
       "      <td>Chinese Coffee</td>\n",
       "      <td>0.0</td>\n",
       "      <td>6.800</td>\n",
       "      <td>50.0</td>\n",
       "      <td>R</td>\n",
       "    </tr>\n",
       "  </tbody>\n",
       "</table>\n",
       "<p>5 rows × 26 columns</p>\n",
       "</div>"
      ],
      "text/plain": [
       "     imdb_id  adult                     backdrop_path  \\\n",
       "0  tt0113026    0.0  /vMFs7nw6P0bIV1jDsQpxAieAVnH.jpg   \n",
       "1  tt0113092    0.0                               NaN   \n",
       "2  tt0116391    0.0                               NaN   \n",
       "3  tt0118694    0.0  /n4GJFGzsc7NinI1VeGDXIcQjtU2.jpg   \n",
       "4  tt0118852    0.0  /vceiGZ3uavAEHlTA7v0GjQsGVKe.jpg   \n",
       "\n",
       "                               belongs_to_collection      budget  \\\n",
       "0                                                NaN  10000000.0   \n",
       "1                                                NaN         0.0   \n",
       "2                                                NaN         0.0   \n",
       "3  {'id': 1131062, 'name': 'Wong Kar-Wai’s Love T...    150000.0   \n",
       "4                                                NaN         0.0   \n",
       "\n",
       "                                              genres homepage        id  \\\n",
       "0  [{'id': 35, 'name': 'Comedy'}, {'id': 10402, '...      NaN   62127.0   \n",
       "1           [{'id': 878, 'name': 'Science Fiction'}]      NaN  110977.0   \n",
       "2  [{'id': 18, 'name': 'Drama'}, {'id': 28, 'name...      NaN  442869.0   \n",
       "3  [{'id': 18, 'name': 'Drama'}, {'id': 10749, 'n...      NaN     843.0   \n",
       "4                      [{'id': 18, 'name': 'Drama'}]      NaN   49511.0   \n",
       "\n",
       "  original_language   original_title  ...     revenue  runtime  \\\n",
       "0                en  The Fantasticks  ...         0.0     86.0   \n",
       "1                en    For the Cause  ...         0.0    100.0   \n",
       "2                hi             Gang  ...         0.0    152.0   \n",
       "3                cn             花樣年華  ...  14204632.0     99.0   \n",
       "4                en   Chinese Coffee  ...         0.0     99.0   \n",
       "\n",
       "                                    spoken_languages    status  \\\n",
       "0  [{'english_name': 'English', 'iso_639_1': 'en'...  Released   \n",
       "1  [{'english_name': 'English', 'iso_639_1': 'en'...  Released   \n",
       "2  [{'english_name': 'Hindi', 'iso_639_1': 'hi', ...  Released   \n",
       "3  [{'english_name': 'Cantonese', 'iso_639_1': 'c...  Released   \n",
       "4  [{'english_name': 'English', 'iso_639_1': 'en'...  Released   \n",
       "\n",
       "                                             tagline                 title  \\\n",
       "0      Try to remember the first time magic happened       The Fantasticks   \n",
       "1       The ultimate showdown on a forbidden planet.         For the Cause   \n",
       "2                                                NaN                  Gang   \n",
       "3  Feel the heat, keep the feeling burning, let t...  In the Mood for Love   \n",
       "4  There's a fine line between friendship and bet...        Chinese Coffee   \n",
       "\n",
       "   video  vote_average vote_count certification  \n",
       "0    0.0         5.500       22.0           NaN  \n",
       "1    0.0         5.100        8.0           NaN  \n",
       "2    0.0         4.000        1.0           NaN  \n",
       "3    0.0         8.112     2245.0            PG  \n",
       "4    0.0         6.800       50.0             R  \n",
       "\n",
       "[5 rows x 26 columns]"
      ]
     },
     "execution_count": 2,
     "metadata": {},
     "output_type": "execute_result"
    }
   ],
   "source": [
    "df = pd.read_csv('Data/combined_tmdb_data.csv.gz',lineterminator='\\n')\n",
    "df.head()"
   ]
  },
  {
   "cell_type": "markdown",
   "id": "1477f8a3",
   "metadata": {},
   "source": [
    "## Dropping Unnecessary Columns"
   ]
  },
  {
   "cell_type": "code",
   "execution_count": 3,
   "id": "deac108a",
   "metadata": {},
   "outputs": [
    {
     "data": {
      "text/html": [
       "<div>\n",
       "<style scoped>\n",
       "    .dataframe tbody tr th:only-of-type {\n",
       "        vertical-align: middle;\n",
       "    }\n",
       "\n",
       "    .dataframe tbody tr th {\n",
       "        vertical-align: top;\n",
       "    }\n",
       "\n",
       "    .dataframe thead th {\n",
       "        text-align: right;\n",
       "    }\n",
       "</style>\n",
       "<table border=\"1\" class=\"dataframe\">\n",
       "  <thead>\n",
       "    <tr style=\"text-align: right;\">\n",
       "      <th></th>\n",
       "      <th>imdb_id</th>\n",
       "      <th>adult</th>\n",
       "      <th>belongs_to_collection</th>\n",
       "      <th>budget</th>\n",
       "      <th>genres</th>\n",
       "      <th>popularity</th>\n",
       "      <th>release_date</th>\n",
       "      <th>revenue</th>\n",
       "      <th>runtime</th>\n",
       "      <th>title</th>\n",
       "      <th>vote_average</th>\n",
       "      <th>vote_count</th>\n",
       "      <th>certification</th>\n",
       "    </tr>\n",
       "  </thead>\n",
       "  <tbody>\n",
       "    <tr>\n",
       "      <th>0</th>\n",
       "      <td>tt0113026</td>\n",
       "      <td>0.0</td>\n",
       "      <td>NaN</td>\n",
       "      <td>10000000.0</td>\n",
       "      <td>[{'id': 35, 'name': 'Comedy'}, {'id': 10402, '...</td>\n",
       "      <td>3.004</td>\n",
       "      <td>2000-09-22</td>\n",
       "      <td>0.0</td>\n",
       "      <td>86.0</td>\n",
       "      <td>The Fantasticks</td>\n",
       "      <td>5.500</td>\n",
       "      <td>22.0</td>\n",
       "      <td>NaN</td>\n",
       "    </tr>\n",
       "    <tr>\n",
       "      <th>1</th>\n",
       "      <td>tt0113092</td>\n",
       "      <td>0.0</td>\n",
       "      <td>NaN</td>\n",
       "      <td>0.0</td>\n",
       "      <td>[{'id': 878, 'name': 'Science Fiction'}]</td>\n",
       "      <td>1.678</td>\n",
       "      <td>2000-11-15</td>\n",
       "      <td>0.0</td>\n",
       "      <td>100.0</td>\n",
       "      <td>For the Cause</td>\n",
       "      <td>5.100</td>\n",
       "      <td>8.0</td>\n",
       "      <td>NaN</td>\n",
       "    </tr>\n",
       "    <tr>\n",
       "      <th>2</th>\n",
       "      <td>tt0116391</td>\n",
       "      <td>0.0</td>\n",
       "      <td>NaN</td>\n",
       "      <td>0.0</td>\n",
       "      <td>[{'id': 18, 'name': 'Drama'}, {'id': 28, 'name...</td>\n",
       "      <td>0.930</td>\n",
       "      <td>2000-04-14</td>\n",
       "      <td>0.0</td>\n",
       "      <td>152.0</td>\n",
       "      <td>Gang</td>\n",
       "      <td>4.000</td>\n",
       "      <td>1.0</td>\n",
       "      <td>NaN</td>\n",
       "    </tr>\n",
       "    <tr>\n",
       "      <th>3</th>\n",
       "      <td>tt0118694</td>\n",
       "      <td>0.0</td>\n",
       "      <td>{'id': 1131062, 'name': 'Wong Kar-Wai’s Love T...</td>\n",
       "      <td>150000.0</td>\n",
       "      <td>[{'id': 18, 'name': 'Drama'}, {'id': 10749, 'n...</td>\n",
       "      <td>24.758</td>\n",
       "      <td>2000-09-29</td>\n",
       "      <td>14204632.0</td>\n",
       "      <td>99.0</td>\n",
       "      <td>In the Mood for Love</td>\n",
       "      <td>8.112</td>\n",
       "      <td>2245.0</td>\n",
       "      <td>PG</td>\n",
       "    </tr>\n",
       "    <tr>\n",
       "      <th>4</th>\n",
       "      <td>tt0118852</td>\n",
       "      <td>0.0</td>\n",
       "      <td>NaN</td>\n",
       "      <td>0.0</td>\n",
       "      <td>[{'id': 18, 'name': 'Drama'}]</td>\n",
       "      <td>4.001</td>\n",
       "      <td>2000-09-02</td>\n",
       "      <td>0.0</td>\n",
       "      <td>99.0</td>\n",
       "      <td>Chinese Coffee</td>\n",
       "      <td>6.800</td>\n",
       "      <td>50.0</td>\n",
       "      <td>R</td>\n",
       "    </tr>\n",
       "  </tbody>\n",
       "</table>\n",
       "</div>"
      ],
      "text/plain": [
       "     imdb_id  adult                              belongs_to_collection  \\\n",
       "0  tt0113026    0.0                                                NaN   \n",
       "1  tt0113092    0.0                                                NaN   \n",
       "2  tt0116391    0.0                                                NaN   \n",
       "3  tt0118694    0.0  {'id': 1131062, 'name': 'Wong Kar-Wai’s Love T...   \n",
       "4  tt0118852    0.0                                                NaN   \n",
       "\n",
       "       budget                                             genres  popularity  \\\n",
       "0  10000000.0  [{'id': 35, 'name': 'Comedy'}, {'id': 10402, '...       3.004   \n",
       "1         0.0           [{'id': 878, 'name': 'Science Fiction'}]       1.678   \n",
       "2         0.0  [{'id': 18, 'name': 'Drama'}, {'id': 28, 'name...       0.930   \n",
       "3    150000.0  [{'id': 18, 'name': 'Drama'}, {'id': 10749, 'n...      24.758   \n",
       "4         0.0                      [{'id': 18, 'name': 'Drama'}]       4.001   \n",
       "\n",
       "  release_date     revenue  runtime                 title  vote_average  \\\n",
       "0   2000-09-22         0.0     86.0       The Fantasticks         5.500   \n",
       "1   2000-11-15         0.0    100.0         For the Cause         5.100   \n",
       "2   2000-04-14         0.0    152.0                  Gang         4.000   \n",
       "3   2000-09-29  14204632.0     99.0  In the Mood for Love         8.112   \n",
       "4   2000-09-02         0.0     99.0        Chinese Coffee         6.800   \n",
       "\n",
       "   vote_count certification  \n",
       "0        22.0           NaN  \n",
       "1         8.0           NaN  \n",
       "2         1.0           NaN  \n",
       "3      2245.0            PG  \n",
       "4        50.0             R  "
      ]
     },
     "execution_count": 3,
     "metadata": {},
     "output_type": "execute_result"
    }
   ],
   "source": [
    "## Columns to exclude\n",
    "drop_cols = ['backdrop_path','backdrop_path','original_title','overview',\n",
    "                 'poster_path','status','tagline','id','homepage',\n",
    "                 'production_countries','video','production_companies','spoken_languages',\n",
    "            'original_language']\n",
    "df = df.drop(columns=drop_cols)\n",
    "df.head()"
   ]
  },
  {
   "cell_type": "markdown",
   "id": "e3a1dbef",
   "metadata": {},
   "source": [
    "## Cleaning 'belongs_to_collection' column"
   ]
  },
  {
   "cell_type": "code",
   "execution_count": 4,
   "id": "07eae5f0",
   "metadata": {},
   "outputs": [
    {
     "data": {
      "text/plain": [
       "{'id': 148065, 'name': 'Doraemon Collection', 'poster_path': '/4TLSP1KD1uAlp2q1rTrc6SFlktX.jpg', 'backdrop_path': '/rc6OFcSasL5YxBRPUQVwxmVF6h5.jpg'}             16\n",
       "{'id': 39199, 'name': 'Detective Conan Collection', 'poster_path': '/1wBfr532NOQK68wlo5ApjCmiQIB.jpg', 'backdrop_path': '/9bogrpii4e61SR6a9qLHow7I46U.jpg'}       16\n",
       "{'id': 403643, 'name': 'Troublesome Night Collection', 'poster_path': '/bPTx3TP4UJTHQfcLx4qIub9LXmi.jpg', 'backdrop_path': '/n3a7zF5GuxM2X8oPF6pKXqYS6ER.jpg'}    15\n",
       "{'id': 534673, 'name': 'Madea - Collection', 'poster_path': '/bO9NvwpSElW8lp33fGyy8VaS5s9.jpg', 'backdrop_path': '/qxLbjNPrMKTgYrMhIIDzj4zgYjf.jpg'}              11\n",
       "{'id': 23616, 'name': 'Naruto Collection', 'poster_path': '/q9rrfRgPUFkFqDF74jlvNYp3RpN.jpg', 'backdrop_path': '/prLI2SNNkd9wcQkFh9iWXzQtR5D.jpg'}                11\n",
       "                                                                                                                                                                  ..\n",
       "{'id': 94602, 'name': 'Puss in Boots Collection', 'poster_path': '/anHwj9IupRoRZZ98WTBvHpTiE6A.jpg', 'backdrop_path': '/feU1DWV5zMWxXUHJyAIk3dHRQ9c.jpg'}          1\n",
       "{'id': 716198, 'name': 'Pelevin by Ginzburg Series', 'poster_path': None, 'backdrop_path': None}                                                                   1\n",
       "{'id': 479888, 'name': 'The Thing Collection', 'poster_path': '/vnfxRM89Qav5d0fMluIwx1hKadc.jpg', 'backdrop_path': '/eJ5Atu6k56vShNymq2RQ6VExXfA.jpg'}             1\n",
       "{'id': 2602, 'name': 'Scream Collection', 'poster_path': '/p3EjClFy20jjT0u06dzBs4lvvhi.jpg', 'backdrop_path': '/dZqsivuEhuHMYgLiMjtMXLImRzE.jpg'}                  1\n",
       "{'id': 848922, 'name': 'The Tomorrow War Collection', 'poster_path': '/3YylRW8holkhX6IkOUxAy93DWWs.jpg', 'backdrop_path': '/yKSNSOwHOeiZv2DxwHAlpiEXBB4.jpg'}      1\n",
       "Name: belongs_to_collection, Length: 1914, dtype: int64"
      ]
     },
     "execution_count": 4,
     "metadata": {},
     "output_type": "execute_result"
    }
   ],
   "source": [
    "df['belongs_to_collection'].value_counts()"
   ]
  },
  {
   "cell_type": "code",
   "execution_count": 5,
   "id": "dfe6302f",
   "metadata": {},
   "outputs": [
    {
     "data": {
      "text/plain": [
       "False    56488\n",
       "True      3756\n",
       "Name: belongs_to_collection, dtype: int64"
      ]
     },
     "execution_count": 5,
     "metadata": {},
     "output_type": "execute_result"
    }
   ],
   "source": [
    "# Use .notna() to get True if it belongs to a collection\n",
    "df['belongs_to_collection'] = df['belongs_to_collection'].notna()\n",
    "df['belongs_to_collection'].value_counts()"
   ]
  },
  {
   "cell_type": "markdown",
   "id": "d5c9a64b",
   "metadata": {},
   "source": [
    "## Cleaning/Expanding 'genres' column "
   ]
  },
  {
   "cell_type": "code",
   "execution_count": 6,
   "id": "72d846a8",
   "metadata": {},
   "outputs": [],
   "source": [
    "## Function to get just the genre names as a list \n",
    "import json\n",
    "def get_genre_name(x):\n",
    "    x = x.replace(\"'\",'\"')\n",
    "    x = json.loads(x)\n",
    "    \n",
    "    genres = []\n",
    "    for genre in x:\n",
    "        genres.append(genre['name'])\n",
    "    return genres"
   ]
  },
  {
   "cell_type": "code",
   "execution_count": 7,
   "id": "9653524e",
   "metadata": {},
   "outputs": [
    {
     "data": {
      "text/plain": [
       "['Comedy', 'Music', 'Romance']"
      ]
     },
     "execution_count": 7,
     "metadata": {},
     "output_type": "execute_result"
    }
   ],
   "source": [
    "# Use our function on our test case\n",
    "get_genre_name(df.loc[0,'genres'])"
   ]
  },
  {
   "cell_type": "markdown",
   "id": "58019e96",
   "metadata": {},
   "source": [
    "# HELP: is this what i want to do so i can evaluate the genres? or does it over count when the movie has multiple genres?\n"
   ]
  },
  {
   "cell_type": "code",
   "execution_count": 8,
   "id": "3370e83f",
   "metadata": {},
   "outputs": [
    {
     "data": {
      "text/html": [
       "<div>\n",
       "<style scoped>\n",
       "    .dataframe tbody tr th:only-of-type {\n",
       "        vertical-align: middle;\n",
       "    }\n",
       "\n",
       "    .dataframe tbody tr th {\n",
       "        vertical-align: top;\n",
       "    }\n",
       "\n",
       "    .dataframe thead th {\n",
       "        text-align: right;\n",
       "    }\n",
       "</style>\n",
       "<table border=\"1\" class=\"dataframe\">\n",
       "  <thead>\n",
       "    <tr style=\"text-align: right;\">\n",
       "      <th></th>\n",
       "      <th>imdb_id</th>\n",
       "      <th>adult</th>\n",
       "      <th>belongs_to_collection</th>\n",
       "      <th>budget</th>\n",
       "      <th>genres</th>\n",
       "      <th>popularity</th>\n",
       "      <th>release_date</th>\n",
       "      <th>revenue</th>\n",
       "      <th>runtime</th>\n",
       "      <th>title</th>\n",
       "      <th>vote_average</th>\n",
       "      <th>vote_count</th>\n",
       "      <th>certification</th>\n",
       "      <th>genres_list</th>\n",
       "    </tr>\n",
       "  </thead>\n",
       "  <tbody>\n",
       "    <tr>\n",
       "      <th>0</th>\n",
       "      <td>tt0113026</td>\n",
       "      <td>0.0</td>\n",
       "      <td>False</td>\n",
       "      <td>10000000.0</td>\n",
       "      <td>[{'id': 35, 'name': 'Comedy'}, {'id': 10402, '...</td>\n",
       "      <td>3.004</td>\n",
       "      <td>2000-09-22</td>\n",
       "      <td>0.0</td>\n",
       "      <td>86.0</td>\n",
       "      <td>The Fantasticks</td>\n",
       "      <td>5.5</td>\n",
       "      <td>22.0</td>\n",
       "      <td>NaN</td>\n",
       "      <td>Comedy</td>\n",
       "    </tr>\n",
       "    <tr>\n",
       "      <th>0</th>\n",
       "      <td>tt0113026</td>\n",
       "      <td>0.0</td>\n",
       "      <td>False</td>\n",
       "      <td>10000000.0</td>\n",
       "      <td>[{'id': 35, 'name': 'Comedy'}, {'id': 10402, '...</td>\n",
       "      <td>3.004</td>\n",
       "      <td>2000-09-22</td>\n",
       "      <td>0.0</td>\n",
       "      <td>86.0</td>\n",
       "      <td>The Fantasticks</td>\n",
       "      <td>5.5</td>\n",
       "      <td>22.0</td>\n",
       "      <td>NaN</td>\n",
       "      <td>Music</td>\n",
       "    </tr>\n",
       "    <tr>\n",
       "      <th>0</th>\n",
       "      <td>tt0113026</td>\n",
       "      <td>0.0</td>\n",
       "      <td>False</td>\n",
       "      <td>10000000.0</td>\n",
       "      <td>[{'id': 35, 'name': 'Comedy'}, {'id': 10402, '...</td>\n",
       "      <td>3.004</td>\n",
       "      <td>2000-09-22</td>\n",
       "      <td>0.0</td>\n",
       "      <td>86.0</td>\n",
       "      <td>The Fantasticks</td>\n",
       "      <td>5.5</td>\n",
       "      <td>22.0</td>\n",
       "      <td>NaN</td>\n",
       "      <td>Romance</td>\n",
       "    </tr>\n",
       "    <tr>\n",
       "      <th>1</th>\n",
       "      <td>tt0113092</td>\n",
       "      <td>0.0</td>\n",
       "      <td>False</td>\n",
       "      <td>0.0</td>\n",
       "      <td>[{'id': 878, 'name': 'Science Fiction'}]</td>\n",
       "      <td>1.678</td>\n",
       "      <td>2000-11-15</td>\n",
       "      <td>0.0</td>\n",
       "      <td>100.0</td>\n",
       "      <td>For the Cause</td>\n",
       "      <td>5.1</td>\n",
       "      <td>8.0</td>\n",
       "      <td>NaN</td>\n",
       "      <td>Science Fiction</td>\n",
       "    </tr>\n",
       "    <tr>\n",
       "      <th>2</th>\n",
       "      <td>tt0116391</td>\n",
       "      <td>0.0</td>\n",
       "      <td>False</td>\n",
       "      <td>0.0</td>\n",
       "      <td>[{'id': 18, 'name': 'Drama'}, {'id': 28, 'name...</td>\n",
       "      <td>0.930</td>\n",
       "      <td>2000-04-14</td>\n",
       "      <td>0.0</td>\n",
       "      <td>152.0</td>\n",
       "      <td>Gang</td>\n",
       "      <td>4.0</td>\n",
       "      <td>1.0</td>\n",
       "      <td>NaN</td>\n",
       "      <td>Drama</td>\n",
       "    </tr>\n",
       "  </tbody>\n",
       "</table>\n",
       "</div>"
      ],
      "text/plain": [
       "     imdb_id  adult  belongs_to_collection      budget  \\\n",
       "0  tt0113026    0.0                  False  10000000.0   \n",
       "0  tt0113026    0.0                  False  10000000.0   \n",
       "0  tt0113026    0.0                  False  10000000.0   \n",
       "1  tt0113092    0.0                  False         0.0   \n",
       "2  tt0116391    0.0                  False         0.0   \n",
       "\n",
       "                                              genres  popularity release_date  \\\n",
       "0  [{'id': 35, 'name': 'Comedy'}, {'id': 10402, '...       3.004   2000-09-22   \n",
       "0  [{'id': 35, 'name': 'Comedy'}, {'id': 10402, '...       3.004   2000-09-22   \n",
       "0  [{'id': 35, 'name': 'Comedy'}, {'id': 10402, '...       3.004   2000-09-22   \n",
       "1           [{'id': 878, 'name': 'Science Fiction'}]       1.678   2000-11-15   \n",
       "2  [{'id': 18, 'name': 'Drama'}, {'id': 28, 'name...       0.930   2000-04-14   \n",
       "\n",
       "   revenue  runtime            title  vote_average  vote_count certification  \\\n",
       "0      0.0     86.0  The Fantasticks           5.5        22.0           NaN   \n",
       "0      0.0     86.0  The Fantasticks           5.5        22.0           NaN   \n",
       "0      0.0     86.0  The Fantasticks           5.5        22.0           NaN   \n",
       "1      0.0    100.0    For the Cause           5.1         8.0           NaN   \n",
       "2      0.0    152.0             Gang           4.0         1.0           NaN   \n",
       "\n",
       "       genres_list  \n",
       "0           Comedy  \n",
       "0            Music  \n",
       "0          Romance  \n",
       "1  Science Fiction  \n",
       "2            Drama  "
      ]
     },
     "execution_count": 8,
     "metadata": {},
     "output_type": "execute_result"
    }
   ],
   "source": [
    "## Use our function and exploding the new column\n",
    "df['genres_list'] = df['genres'].apply(get_genre_name)\n",
    "df = df.explode('genres_list')\n",
    "df.head()"
   ]
  },
  {
   "cell_type": "markdown",
   "id": "0a8c5db5",
   "metadata": {},
   "source": [
    "## Creating Separate Columns for 'release_date'"
   ]
  },
  {
   "cell_type": "code",
   "execution_count": 9,
   "id": "20aec07f",
   "metadata": {},
   "outputs": [
    {
     "data": {
      "text/plain": [
       "2009-01-01    428\n",
       "2010-01-01    398\n",
       "2008-01-01    397\n",
       "2011-01-01    315\n",
       "2006-01-01    297\n",
       "             ... \n",
       "2002-04-16      1\n",
       "2001-09-19      1\n",
       "2001-08-14      1\n",
       "2011-11-14      1\n",
       "2022-08-31      1\n",
       "Name: release_date, Length: 7644, dtype: int64"
      ]
     },
     "execution_count": 9,
     "metadata": {},
     "output_type": "execute_result"
    }
   ],
   "source": [
    "## view value_counts()\n",
    "df['release_date'].value_counts()"
   ]
  },
  {
   "cell_type": "code",
   "execution_count": 10,
   "id": "eb1949e0",
   "metadata": {},
   "outputs": [
    {
     "data": {
      "text/html": [
       "<div>\n",
       "<style scoped>\n",
       "    .dataframe tbody tr th:only-of-type {\n",
       "        vertical-align: middle;\n",
       "    }\n",
       "\n",
       "    .dataframe tbody tr th {\n",
       "        vertical-align: top;\n",
       "    }\n",
       "\n",
       "    .dataframe thead th {\n",
       "        text-align: right;\n",
       "    }\n",
       "</style>\n",
       "<table border=\"1\" class=\"dataframe\">\n",
       "  <thead>\n",
       "    <tr style=\"text-align: right;\">\n",
       "      <th></th>\n",
       "      <th>imdb_id</th>\n",
       "      <th>adult</th>\n",
       "      <th>belongs_to_collection</th>\n",
       "      <th>budget</th>\n",
       "      <th>genres</th>\n",
       "      <th>popularity</th>\n",
       "      <th>release_date</th>\n",
       "      <th>revenue</th>\n",
       "      <th>runtime</th>\n",
       "      <th>title</th>\n",
       "      <th>vote_average</th>\n",
       "      <th>vote_count</th>\n",
       "      <th>certification</th>\n",
       "      <th>genres_list</th>\n",
       "      <th>year</th>\n",
       "      <th>month</th>\n",
       "      <th>day</th>\n",
       "    </tr>\n",
       "  </thead>\n",
       "  <tbody>\n",
       "    <tr>\n",
       "      <th>0</th>\n",
       "      <td>tt0113026</td>\n",
       "      <td>0.0</td>\n",
       "      <td>False</td>\n",
       "      <td>10000000.0</td>\n",
       "      <td>[{'id': 35, 'name': 'Comedy'}, {'id': 10402, '...</td>\n",
       "      <td>3.004</td>\n",
       "      <td>2000-09-22</td>\n",
       "      <td>0.0</td>\n",
       "      <td>86.0</td>\n",
       "      <td>The Fantasticks</td>\n",
       "      <td>5.5</td>\n",
       "      <td>22.0</td>\n",
       "      <td>NaN</td>\n",
       "      <td>Comedy</td>\n",
       "      <td>2000.0</td>\n",
       "      <td>9.0</td>\n",
       "      <td>22.0</td>\n",
       "    </tr>\n",
       "    <tr>\n",
       "      <th>0</th>\n",
       "      <td>tt0113026</td>\n",
       "      <td>0.0</td>\n",
       "      <td>False</td>\n",
       "      <td>10000000.0</td>\n",
       "      <td>[{'id': 35, 'name': 'Comedy'}, {'id': 10402, '...</td>\n",
       "      <td>3.004</td>\n",
       "      <td>2000-09-22</td>\n",
       "      <td>0.0</td>\n",
       "      <td>86.0</td>\n",
       "      <td>The Fantasticks</td>\n",
       "      <td>5.5</td>\n",
       "      <td>22.0</td>\n",
       "      <td>NaN</td>\n",
       "      <td>Music</td>\n",
       "      <td>2000.0</td>\n",
       "      <td>9.0</td>\n",
       "      <td>22.0</td>\n",
       "    </tr>\n",
       "    <tr>\n",
       "      <th>0</th>\n",
       "      <td>tt0113026</td>\n",
       "      <td>0.0</td>\n",
       "      <td>False</td>\n",
       "      <td>10000000.0</td>\n",
       "      <td>[{'id': 35, 'name': 'Comedy'}, {'id': 10402, '...</td>\n",
       "      <td>3.004</td>\n",
       "      <td>2000-09-22</td>\n",
       "      <td>0.0</td>\n",
       "      <td>86.0</td>\n",
       "      <td>The Fantasticks</td>\n",
       "      <td>5.5</td>\n",
       "      <td>22.0</td>\n",
       "      <td>NaN</td>\n",
       "      <td>Romance</td>\n",
       "      <td>2000.0</td>\n",
       "      <td>9.0</td>\n",
       "      <td>22.0</td>\n",
       "    </tr>\n",
       "    <tr>\n",
       "      <th>1</th>\n",
       "      <td>tt0113092</td>\n",
       "      <td>0.0</td>\n",
       "      <td>False</td>\n",
       "      <td>0.0</td>\n",
       "      <td>[{'id': 878, 'name': 'Science Fiction'}]</td>\n",
       "      <td>1.678</td>\n",
       "      <td>2000-11-15</td>\n",
       "      <td>0.0</td>\n",
       "      <td>100.0</td>\n",
       "      <td>For the Cause</td>\n",
       "      <td>5.1</td>\n",
       "      <td>8.0</td>\n",
       "      <td>NaN</td>\n",
       "      <td>Science Fiction</td>\n",
       "      <td>2000.0</td>\n",
       "      <td>11.0</td>\n",
       "      <td>15.0</td>\n",
       "    </tr>\n",
       "    <tr>\n",
       "      <th>2</th>\n",
       "      <td>tt0116391</td>\n",
       "      <td>0.0</td>\n",
       "      <td>False</td>\n",
       "      <td>0.0</td>\n",
       "      <td>[{'id': 18, 'name': 'Drama'}, {'id': 28, 'name...</td>\n",
       "      <td>0.930</td>\n",
       "      <td>2000-04-14</td>\n",
       "      <td>0.0</td>\n",
       "      <td>152.0</td>\n",
       "      <td>Gang</td>\n",
       "      <td>4.0</td>\n",
       "      <td>1.0</td>\n",
       "      <td>NaN</td>\n",
       "      <td>Drama</td>\n",
       "      <td>2000.0</td>\n",
       "      <td>4.0</td>\n",
       "      <td>14.0</td>\n",
       "    </tr>\n",
       "  </tbody>\n",
       "</table>\n",
       "</div>"
      ],
      "text/plain": [
       "     imdb_id  adult  belongs_to_collection      budget  \\\n",
       "0  tt0113026    0.0                  False  10000000.0   \n",
       "0  tt0113026    0.0                  False  10000000.0   \n",
       "0  tt0113026    0.0                  False  10000000.0   \n",
       "1  tt0113092    0.0                  False         0.0   \n",
       "2  tt0116391    0.0                  False         0.0   \n",
       "\n",
       "                                              genres  popularity release_date  \\\n",
       "0  [{'id': 35, 'name': 'Comedy'}, {'id': 10402, '...       3.004   2000-09-22   \n",
       "0  [{'id': 35, 'name': 'Comedy'}, {'id': 10402, '...       3.004   2000-09-22   \n",
       "0  [{'id': 35, 'name': 'Comedy'}, {'id': 10402, '...       3.004   2000-09-22   \n",
       "1           [{'id': 878, 'name': 'Science Fiction'}]       1.678   2000-11-15   \n",
       "2  [{'id': 18, 'name': 'Drama'}, {'id': 28, 'name...       0.930   2000-04-14   \n",
       "\n",
       "   revenue  runtime            title  vote_average  vote_count certification  \\\n",
       "0      0.0     86.0  The Fantasticks           5.5        22.0           NaN   \n",
       "0      0.0     86.0  The Fantasticks           5.5        22.0           NaN   \n",
       "0      0.0     86.0  The Fantasticks           5.5        22.0           NaN   \n",
       "1      0.0    100.0    For the Cause           5.1         8.0           NaN   \n",
       "2      0.0    152.0             Gang           4.0         1.0           NaN   \n",
       "\n",
       "       genres_list    year  month   day  \n",
       "0           Comedy  2000.0    9.0  22.0  \n",
       "0            Music  2000.0    9.0  22.0  \n",
       "0          Romance  2000.0    9.0  22.0  \n",
       "1  Science Fiction  2000.0   11.0  15.0  \n",
       "2            Drama  2000.0    4.0  14.0  "
      ]
     },
     "execution_count": 10,
     "metadata": {},
     "output_type": "execute_result"
    }
   ],
   "source": [
    "## split release date into 3 columns\n",
    "new_cols = ['year','month','day']\n",
    "df[new_cols] = df['release_date'].str.split('-',expand=True)\n",
    "df[new_cols] = df[new_cols].astype(float)\n",
    "df.head()"
   ]
  },
  {
   "cell_type": "code",
   "execution_count": 11,
   "id": "39ce8844",
   "metadata": {},
   "outputs": [
    {
     "data": {
      "text/html": [
       "<div>\n",
       "<style scoped>\n",
       "    .dataframe tbody tr th:only-of-type {\n",
       "        vertical-align: middle;\n",
       "    }\n",
       "\n",
       "    .dataframe tbody tr th {\n",
       "        vertical-align: top;\n",
       "    }\n",
       "\n",
       "    .dataframe thead th {\n",
       "        text-align: right;\n",
       "    }\n",
       "</style>\n",
       "<table border=\"1\" class=\"dataframe\">\n",
       "  <thead>\n",
       "    <tr style=\"text-align: right;\">\n",
       "      <th></th>\n",
       "      <th>imdb_id</th>\n",
       "      <th>adult</th>\n",
       "      <th>belongs_to_collection</th>\n",
       "      <th>budget</th>\n",
       "      <th>genres</th>\n",
       "      <th>popularity</th>\n",
       "      <th>revenue</th>\n",
       "      <th>runtime</th>\n",
       "      <th>title</th>\n",
       "      <th>vote_average</th>\n",
       "      <th>vote_count</th>\n",
       "      <th>certification</th>\n",
       "      <th>genres_list</th>\n",
       "      <th>year</th>\n",
       "      <th>month</th>\n",
       "      <th>day</th>\n",
       "    </tr>\n",
       "  </thead>\n",
       "  <tbody>\n",
       "    <tr>\n",
       "      <th>0</th>\n",
       "      <td>tt0113026</td>\n",
       "      <td>0.0</td>\n",
       "      <td>False</td>\n",
       "      <td>10000000.0</td>\n",
       "      <td>[{'id': 35, 'name': 'Comedy'}, {'id': 10402, '...</td>\n",
       "      <td>3.004</td>\n",
       "      <td>0.0</td>\n",
       "      <td>86.0</td>\n",
       "      <td>The Fantasticks</td>\n",
       "      <td>5.5</td>\n",
       "      <td>22.0</td>\n",
       "      <td>NaN</td>\n",
       "      <td>Comedy</td>\n",
       "      <td>2000.0</td>\n",
       "      <td>9.0</td>\n",
       "      <td>22.0</td>\n",
       "    </tr>\n",
       "    <tr>\n",
       "      <th>0</th>\n",
       "      <td>tt0113026</td>\n",
       "      <td>0.0</td>\n",
       "      <td>False</td>\n",
       "      <td>10000000.0</td>\n",
       "      <td>[{'id': 35, 'name': 'Comedy'}, {'id': 10402, '...</td>\n",
       "      <td>3.004</td>\n",
       "      <td>0.0</td>\n",
       "      <td>86.0</td>\n",
       "      <td>The Fantasticks</td>\n",
       "      <td>5.5</td>\n",
       "      <td>22.0</td>\n",
       "      <td>NaN</td>\n",
       "      <td>Music</td>\n",
       "      <td>2000.0</td>\n",
       "      <td>9.0</td>\n",
       "      <td>22.0</td>\n",
       "    </tr>\n",
       "    <tr>\n",
       "      <th>0</th>\n",
       "      <td>tt0113026</td>\n",
       "      <td>0.0</td>\n",
       "      <td>False</td>\n",
       "      <td>10000000.0</td>\n",
       "      <td>[{'id': 35, 'name': 'Comedy'}, {'id': 10402, '...</td>\n",
       "      <td>3.004</td>\n",
       "      <td>0.0</td>\n",
       "      <td>86.0</td>\n",
       "      <td>The Fantasticks</td>\n",
       "      <td>5.5</td>\n",
       "      <td>22.0</td>\n",
       "      <td>NaN</td>\n",
       "      <td>Romance</td>\n",
       "      <td>2000.0</td>\n",
       "      <td>9.0</td>\n",
       "      <td>22.0</td>\n",
       "    </tr>\n",
       "    <tr>\n",
       "      <th>1</th>\n",
       "      <td>tt0113092</td>\n",
       "      <td>0.0</td>\n",
       "      <td>False</td>\n",
       "      <td>0.0</td>\n",
       "      <td>[{'id': 878, 'name': 'Science Fiction'}]</td>\n",
       "      <td>1.678</td>\n",
       "      <td>0.0</td>\n",
       "      <td>100.0</td>\n",
       "      <td>For the Cause</td>\n",
       "      <td>5.1</td>\n",
       "      <td>8.0</td>\n",
       "      <td>NaN</td>\n",
       "      <td>Science Fiction</td>\n",
       "      <td>2000.0</td>\n",
       "      <td>11.0</td>\n",
       "      <td>15.0</td>\n",
       "    </tr>\n",
       "    <tr>\n",
       "      <th>2</th>\n",
       "      <td>tt0116391</td>\n",
       "      <td>0.0</td>\n",
       "      <td>False</td>\n",
       "      <td>0.0</td>\n",
       "      <td>[{'id': 18, 'name': 'Drama'}, {'id': 28, 'name...</td>\n",
       "      <td>0.930</td>\n",
       "      <td>0.0</td>\n",
       "      <td>152.0</td>\n",
       "      <td>Gang</td>\n",
       "      <td>4.0</td>\n",
       "      <td>1.0</td>\n",
       "      <td>NaN</td>\n",
       "      <td>Drama</td>\n",
       "      <td>2000.0</td>\n",
       "      <td>4.0</td>\n",
       "      <td>14.0</td>\n",
       "    </tr>\n",
       "  </tbody>\n",
       "</table>\n",
       "</div>"
      ],
      "text/plain": [
       "     imdb_id  adult  belongs_to_collection      budget  \\\n",
       "0  tt0113026    0.0                  False  10000000.0   \n",
       "0  tt0113026    0.0                  False  10000000.0   \n",
       "0  tt0113026    0.0                  False  10000000.0   \n",
       "1  tt0113092    0.0                  False         0.0   \n",
       "2  tt0116391    0.0                  False         0.0   \n",
       "\n",
       "                                              genres  popularity  revenue  \\\n",
       "0  [{'id': 35, 'name': 'Comedy'}, {'id': 10402, '...       3.004      0.0   \n",
       "0  [{'id': 35, 'name': 'Comedy'}, {'id': 10402, '...       3.004      0.0   \n",
       "0  [{'id': 35, 'name': 'Comedy'}, {'id': 10402, '...       3.004      0.0   \n",
       "1           [{'id': 878, 'name': 'Science Fiction'}]       1.678      0.0   \n",
       "2  [{'id': 18, 'name': 'Drama'}, {'id': 28, 'name...       0.930      0.0   \n",
       "\n",
       "   runtime            title  vote_average  vote_count certification  \\\n",
       "0     86.0  The Fantasticks           5.5        22.0           NaN   \n",
       "0     86.0  The Fantasticks           5.5        22.0           NaN   \n",
       "0     86.0  The Fantasticks           5.5        22.0           NaN   \n",
       "1    100.0    For the Cause           5.1         8.0           NaN   \n",
       "2    152.0             Gang           4.0         1.0           NaN   \n",
       "\n",
       "       genres_list    year  month   day  \n",
       "0           Comedy  2000.0    9.0  22.0  \n",
       "0            Music  2000.0    9.0  22.0  \n",
       "0          Romance  2000.0    9.0  22.0  \n",
       "1  Science Fiction  2000.0   11.0  15.0  \n",
       "2            Drama  2000.0    4.0  14.0  "
      ]
     },
     "execution_count": 11,
     "metadata": {},
     "output_type": "execute_result"
    }
   ],
   "source": [
    "## drop original feature\n",
    "df = df.drop(columns=['release_date'])\n",
    "df.head()"
   ]
  },
  {
   "cell_type": "markdown",
   "id": "5f13ad0a",
   "metadata": {},
   "source": [
    "## Cleaning 'certification' column values"
   ]
  },
  {
   "cell_type": "code",
   "execution_count": 12,
   "id": "96762df7",
   "metadata": {},
   "outputs": [
    {
     "data": {
      "text/plain": [
       "NaN                                78897\n",
       "R                                  13752\n",
       "PG-13                               7655\n",
       "NR                                  6302\n",
       "PG                                  3752\n",
       "G                                   1101\n",
       "NC-17                                306\n",
       "Unrated                                6\n",
       "R                                      4\n",
       "ScreamFest Horror Film Festival        2\n",
       "PG-13                                  2\n",
       "10                                     2\n",
       "UR                                     1\n",
       "Not Rated                              1\n",
       "Name: certification, dtype: int64"
      ]
     },
     "execution_count": 12,
     "metadata": {},
     "output_type": "execute_result"
    }
   ],
   "source": [
    "## Checking Certification values counts\n",
    "df['certification'].value_counts(dropna=False)"
   ]
  },
  {
   "cell_type": "code",
   "execution_count": 13,
   "id": "37cbef98",
   "metadata": {},
   "outputs": [],
   "source": [
    "# fix extra space in PG-13\n",
    "df['certification'] = df['certification'].str.strip()"
   ]
  },
  {
   "cell_type": "code",
   "execution_count": 14,
   "id": "fa33e828",
   "metadata": {},
   "outputs": [
    {
     "data": {
      "text/plain": [
       "NaN      78899\n",
       "R        13756\n",
       "PG-13     7657\n",
       "NR        6312\n",
       "PG        3752\n",
       "G         1101\n",
       "NC-17      306\n",
       "Name: certification, dtype: int64"
      ]
     },
     "execution_count": 14,
     "metadata": {},
     "output_type": "execute_result"
    }
   ],
   "source": [
    "## Clean certification column values\n",
    "repl_cert = {'UR':'NR',\n",
    "             'Not Rated':'NR',\n",
    "             'Unrated':'NR',\n",
    "             '-':'NR',\n",
    "             '10':np.nan,\n",
    "             'ScreamFest Horror Film Festival':'NR'}\n",
    "df['certification'] = df['certification'].replace(repl_cert)\n",
    "df['certification'].value_counts(dropna=False)"
   ]
  },
  {
   "cell_type": "markdown",
   "id": "013e2747",
   "metadata": {},
   "source": [
    "# Hypothesis Testing"
   ]
  },
  {
   "cell_type": "markdown",
   "id": "fda2b3bd",
   "metadata": {},
   "source": [
    "## Question One: (ANOVA)\n",
    "Does the MPAA rating of a movie (G/PG/PG-13/R) affect how much revenue the movie generates?"
   ]
  },
  {
   "cell_type": "markdown",
   "id": "878abc13",
   "metadata": {},
   "source": [
    "Hypothesis Testing Statements:\n",
    "- Null Hypothesis: There is no significant difference in revenue for MPAA movie ratings.\n",
    "\n",
    "- Alternative Hypothesis: There is a significant difference in revenue for MPAA movie ratings. \n",
    "\n",
    "Hypothesis Test:\n",
    "- alpha = 0.05\n",
    "- ANOVA test because the are more than two MPAA ratings and the revenue we are testing is numeric.\n",
    "    - To see which samples hold significance, we will use; statsmodels.stats.multicomp.pairwise_tukeyhsd\n",
    "- Assumptions: No Outliers, Normality and Equal Variance\n",
    "    - If assumptions fail: use kruskal test; stats.kruskal()"
   ]
  },
  {
   "cell_type": "markdown",
   "id": "05086352",
   "metadata": {},
   "source": [
    "# HELP: do i need to remove the nan values? this may be why my test is nan?"
   ]
  },
  {
   "cell_type": "code",
   "execution_count": 16,
   "id": "b5b44c43",
   "metadata": {},
   "outputs": [
    {
     "ename": "SyntaxError",
     "evalue": "invalid syntax (279999867.py, line 1)",
     "output_type": "error",
     "traceback": [
      "\u001b[0;36m  Cell \u001b[0;32mIn [16], line 1\u001b[0;36m\u001b[0m\n\u001b[0;31m    df = df.drop[subset = 'certification']\u001b[0m\n\u001b[0m                        ^\u001b[0m\n\u001b[0;31mSyntaxError\u001b[0m\u001b[0;31m:\u001b[0m invalid syntax\n"
     ]
    }
   ],
   "source": [
    "df = df.drop[subset = 'certification']"
   ]
  },
  {
   "cell_type": "code",
   "execution_count": 17,
   "id": "831747a8",
   "metadata": {},
   "outputs": [
    {
     "data": {
      "text/plain": [
       "array([nan, 'PG', 'R', 'G', 'NR', 'PG-13', 'NC-17'], dtype=object)"
      ]
     },
     "execution_count": 17,
     "metadata": {},
     "output_type": "execute_result"
    }
   ],
   "source": [
    "# MPAA Ratings in 'certification' column\n",
    "mpaa_ratings = df['certification'].unique()\n",
    "mpaa_ratings"
   ]
  },
  {
   "cell_type": "code",
   "execution_count": 18,
   "id": "daac28de",
   "metadata": {},
   "outputs": [
    {
     "data": {
      "text/plain": [
       "dict_keys([nan, 'PG', 'R', 'G', 'NR', 'PG-13', 'NC-17'])"
      ]
     },
     "execution_count": 18,
     "metadata": {},
     "output_type": "execute_result"
    }
   ],
   "source": [
    "ratings = {}\n",
    "\n",
    "## Loop through all unique categories\n",
    "for certification in mpaa_ratings:\n",
    "    ## Get series for group and rename\n",
    "    data = df.loc[df['certification']==certification,'revenue']\n",
    "    \n",
    "       # save into the dictionary\n",
    "    ratings[certification] = data\n",
    "ratings.keys()"
   ]
  },
  {
   "cell_type": "code",
   "execution_count": 19,
   "id": "d048100a",
   "metadata": {},
   "outputs": [
    {
     "data": {
      "text/plain": [
       "3        14204632.0\n",
       "3        14204632.0\n",
       "18       36754634.0\n",
       "18       36754634.0\n",
       "18       36754634.0\n",
       "            ...    \n",
       "60152           0.0\n",
       "60152           0.0\n",
       "60200        8756.0\n",
       "60200        8756.0\n",
       "60200        8756.0\n",
       "Name: revenue, Length: 3752, dtype: float64"
      ]
     },
     "execution_count": 19,
     "metadata": {},
     "output_type": "execute_result"
    }
   ],
   "source": [
    "ratings['PG']"
   ]
  },
  {
   "cell_type": "markdown",
   "id": "9357d23d",
   "metadata": {},
   "source": [
    "## No Outliers Assumption"
   ]
  },
  {
   "cell_type": "code",
   "execution_count": 20,
   "id": "095fbdb8",
   "metadata": {},
   "outputs": [
    {
     "name": "stdout",
     "output_type": "stream",
     "text": [
      "There were 0.0 outliers in nan\n",
      "There were 2312.242558997642 outliers in PG\n",
      "There were 6478.575553212166 outliers in R\n",
      "There were 578.5588435788483 outliers in G\n",
      "There were 1351.596515307599 outliers in NR\n",
      "There were 4178.162200969259 outliers in PG-13\n",
      "There were 109.52341554548751 outliers in NC-17\n"
     ]
    }
   ],
   "source": [
    "cln_ratings = {}\n",
    "\n",
    "for mpaa_ratings, ratings_data in ratings.items():\n",
    "    idx_outliers = np.abs(stats.zscore(ratings_data))\n",
    "    print(f'There were {idx_outliers.sum()} outliers in {mpaa_ratings}')\n",
    "    \n",
    "    ratings_data_cln = ratings_data[idx_outliers == False]\n",
    "    \n",
    "    cln_ratings[mpaa_ratings] = ratings_data_cln"
   ]
  },
  {
   "cell_type": "markdown",
   "id": "d75d9b52",
   "metadata": {},
   "source": [
    "## Normality Assumption\n",
    "\n",
    "- W do not need to perform the normality test because our samples have a 15 in each."
   ]
  },
  {
   "cell_type": "markdown",
   "id": "764a11c4",
   "metadata": {},
   "source": [
    "# HELP: what am i doing wrong here with Normality loop"
   ]
  },
  {
   "cell_type": "code",
   "execution_count": 21,
   "id": "67d5bc9d",
   "metadata": {},
   "outputs": [
    {
     "ename": "ValueError",
     "evalue": "skewtest is not valid with less than 8 samples; 0 samples were given.",
     "output_type": "error",
     "traceback": [
      "\u001b[0;31m---------------------------------------------------------------------------\u001b[0m",
      "\u001b[0;31mValueError\u001b[0m                                Traceback (most recent call last)",
      "Cell \u001b[0;32mIn [21], line 6\u001b[0m\n\u001b[1;32m      3\u001b[0m norm_results \u001b[38;5;241m=\u001b[39m [[\u001b[38;5;124m'\u001b[39m\u001b[38;5;124mrating\u001b[39m\u001b[38;5;124m'\u001b[39m, \u001b[38;5;124m'\u001b[39m\u001b[38;5;124mn\u001b[39m\u001b[38;5;124m'\u001b[39m, \u001b[38;5;124m'\u001b[39m\u001b[38;5;124mpval\u001b[39m\u001b[38;5;124m'\u001b[39m, \u001b[38;5;124m'\u001b[39m\u001b[38;5;124msig\u001b[39m\u001b[38;5;124m'\u001b[39m]]\n\u001b[1;32m      5\u001b[0m \u001b[38;5;28;01mfor\u001b[39;00m mpaa_ratings, cert_data \u001b[38;5;129;01min\u001b[39;00m cln_ratings\u001b[38;5;241m.\u001b[39mitems():\n\u001b[0;32m----> 6\u001b[0m     result \u001b[38;5;241m=\u001b[39m \u001b[43mstats\u001b[49m\u001b[38;5;241;43m.\u001b[39;49m\u001b[43mnormaltest\u001b[49m\u001b[43m(\u001b[49m\u001b[43mcert_data\u001b[49m\u001b[43m)\u001b[49m\n\u001b[1;32m      7\u001b[0m     norm_results\u001b[38;5;241m.\u001b[39mappend([mpaa_ratings, \u001b[38;5;28mlen\u001b[39m(cert_data), result\u001b[38;5;241m.\u001b[39mpvalue, \n\u001b[1;32m      8\u001b[0m                        result\u001b[38;5;241m.\u001b[39mpval \u001b[38;5;241m<\u001b[39m\u001b[38;5;241m.05\u001b[39m])\n\u001b[1;32m      9\u001b[0m norm_results\n",
      "File \u001b[0;32m/opt/homebrew/Caskroom/miniforge/base/envs/dojo-env/lib/python3.9/site-packages/scipy/stats/_stats_py.py:1868\u001b[0m, in \u001b[0;36mnormaltest\u001b[0;34m(a, axis, nan_policy)\u001b[0m\n\u001b[1;32m   1865\u001b[0m     a \u001b[38;5;241m=\u001b[39m ma\u001b[38;5;241m.\u001b[39mmasked_invalid(a)\n\u001b[1;32m   1866\u001b[0m     \u001b[38;5;28;01mreturn\u001b[39;00m mstats_basic\u001b[38;5;241m.\u001b[39mnormaltest(a, axis)\n\u001b[0;32m-> 1868\u001b[0m s, _ \u001b[38;5;241m=\u001b[39m \u001b[43mskewtest\u001b[49m\u001b[43m(\u001b[49m\u001b[43ma\u001b[49m\u001b[43m,\u001b[49m\u001b[43m \u001b[49m\u001b[43maxis\u001b[49m\u001b[43m)\u001b[49m\n\u001b[1;32m   1869\u001b[0m k, _ \u001b[38;5;241m=\u001b[39m kurtosistest(a, axis)\n\u001b[1;32m   1870\u001b[0m k2 \u001b[38;5;241m=\u001b[39m s\u001b[38;5;241m*\u001b[39ms \u001b[38;5;241m+\u001b[39m k\u001b[38;5;241m*\u001b[39mk\n",
      "File \u001b[0;32m/opt/homebrew/Caskroom/miniforge/base/envs/dojo-env/lib/python3.9/site-packages/scipy/stats/_stats_py.py:1673\u001b[0m, in \u001b[0;36mskewtest\u001b[0;34m(a, axis, nan_policy, alternative)\u001b[0m\n\u001b[1;32m   1671\u001b[0m n \u001b[38;5;241m=\u001b[39m a\u001b[38;5;241m.\u001b[39mshape[axis]\n\u001b[1;32m   1672\u001b[0m \u001b[38;5;28;01mif\u001b[39;00m n \u001b[38;5;241m<\u001b[39m \u001b[38;5;241m8\u001b[39m:\n\u001b[0;32m-> 1673\u001b[0m     \u001b[38;5;28;01mraise\u001b[39;00m \u001b[38;5;167;01mValueError\u001b[39;00m(\n\u001b[1;32m   1674\u001b[0m         \u001b[38;5;124m\"\u001b[39m\u001b[38;5;124mskewtest is not valid with less than 8 samples; \u001b[39m\u001b[38;5;132;01m%i\u001b[39;00m\u001b[38;5;124m samples\u001b[39m\u001b[38;5;124m\"\u001b[39m\n\u001b[1;32m   1675\u001b[0m         \u001b[38;5;124m\"\u001b[39m\u001b[38;5;124m were given.\u001b[39m\u001b[38;5;124m\"\u001b[39m \u001b[38;5;241m%\u001b[39m \u001b[38;5;28mint\u001b[39m(n))\n\u001b[1;32m   1676\u001b[0m y \u001b[38;5;241m=\u001b[39m b2 \u001b[38;5;241m*\u001b[39m math\u001b[38;5;241m.\u001b[39msqrt(((n \u001b[38;5;241m+\u001b[39m \u001b[38;5;241m1\u001b[39m) \u001b[38;5;241m*\u001b[39m (n \u001b[38;5;241m+\u001b[39m \u001b[38;5;241m3\u001b[39m)) \u001b[38;5;241m/\u001b[39m (\u001b[38;5;241m6.0\u001b[39m \u001b[38;5;241m*\u001b[39m (n \u001b[38;5;241m-\u001b[39m \u001b[38;5;241m2\u001b[39m)))\n\u001b[1;32m   1677\u001b[0m beta2 \u001b[38;5;241m=\u001b[39m (\u001b[38;5;241m3.0\u001b[39m \u001b[38;5;241m*\u001b[39m (n\u001b[38;5;241m*\u001b[39m\u001b[38;5;241m*\u001b[39m\u001b[38;5;241m2\u001b[39m \u001b[38;5;241m+\u001b[39m \u001b[38;5;241m27\u001b[39m\u001b[38;5;241m*\u001b[39mn \u001b[38;5;241m-\u001b[39m \u001b[38;5;241m70\u001b[39m) \u001b[38;5;241m*\u001b[39m (n\u001b[38;5;241m+\u001b[39m\u001b[38;5;241m1\u001b[39m) \u001b[38;5;241m*\u001b[39m (n\u001b[38;5;241m+\u001b[39m\u001b[38;5;241m3\u001b[39m) \u001b[38;5;241m/\u001b[39m\n\u001b[1;32m   1678\u001b[0m          ((n\u001b[38;5;241m-\u001b[39m\u001b[38;5;241m2.0\u001b[39m) \u001b[38;5;241m*\u001b[39m (n\u001b[38;5;241m+\u001b[39m\u001b[38;5;241m5\u001b[39m) \u001b[38;5;241m*\u001b[39m (n\u001b[38;5;241m+\u001b[39m\u001b[38;5;241m7\u001b[39m) \u001b[38;5;241m*\u001b[39m (n\u001b[38;5;241m+\u001b[39m\u001b[38;5;241m9\u001b[39m)))\n",
      "\u001b[0;31mValueError\u001b[0m: skewtest is not valid with less than 8 samples; 0 samples were given."
     ]
    }
   ],
   "source": [
    "# Normality \n",
    "\n",
    "norm_results = [['rating', 'n', 'pval', 'sig']]\n",
    "\n",
    "for mpaa_ratings, cert_data in cln_ratings.items():\n",
    "    result = stats.normaltest(cert_data)\n",
    "    norm_results.append([mpaa_ratings, len(cert_data), result.pvalue, \n",
    "                       result.pval <.05])\n",
    "norm_results\n",
    "\n"
   ]
  },
  {
   "cell_type": "code",
   "execution_count": null,
   "id": "339033a4",
   "metadata": {},
   "outputs": [],
   "source": [
    "# Normality \n",
    "## Running normal test on each group and confirming there are >20 in each group\n",
    "#norm_results = {}\n",
    "#for i, data in cln_ratings.items():\n",
    "#    stat, p = stats.normaltest(data)\n",
    "    ## save the p val, test statistic, and the size of the group\n",
    "#    norm_results[i] = {'n': len(data),\n",
    "#                             'p':p,\n",
    "#                             'test stat':stat,}\n",
    "## convert to a dataframe\n",
    "#norm_results_df = pd.DataFrame(norm_results).T\n",
    "#norm_results_df"
   ]
  },
  {
   "cell_type": "code",
   "execution_count": null,
   "id": "f85a2541",
   "metadata": {},
   "outputs": [],
   "source": [
    "### checking sig with pandas \n",
    "#norm_results_df['sig'] = norm_results_df['p'] < .05 \n",
    "#norm_results_df"
   ]
  },
  {
   "cell_type": "markdown",
   "id": "7e00a765",
   "metadata": {},
   "source": [
    "## Equal Variance Assumption"
   ]
  },
  {
   "cell_type": "code",
   "execution_count": 22,
   "id": "1ed1d04f",
   "metadata": {},
   "outputs": [
    {
     "name": "stdout",
     "output_type": "stream",
     "text": [
      "LeveneResult(statistic=nan, pvalue=nan)\n"
     ]
    },
    {
     "data": {
      "text/plain": [
       "False"
      ]
     },
     "execution_count": 22,
     "metadata": {},
     "output_type": "execute_result"
    }
   ],
   "source": [
    "# Equal Variance/ Lavene's Test\n",
    "result = stats.levene(*cln_ratings.values())\n",
    "print(result)\n",
    "# Is the p-value less than 0.05?\n",
    "result.pvalue < .05"
   ]
  },
  {
   "cell_type": "markdown",
   "id": "5bb5f250",
   "metadata": {},
   "source": [
    "# HELP: levene test result fails to reject null hypothesis because my p- value is greater than alpha, and there is equal variance in the samples.\n",
    "\n"
   ]
  },
  {
   "cell_type": "markdown",
   "id": "f94c8f24",
   "metadata": {},
   "source": [
    "## Test"
   ]
  },
  {
   "cell_type": "markdown",
   "id": "2531c8c7",
   "metadata": {},
   "source": [
    "# HELP: why is the test result nan?"
   ]
  },
  {
   "cell_type": "code",
   "execution_count": 23,
   "id": "acdde2d0",
   "metadata": {},
   "outputs": [
    {
     "name": "stdout",
     "output_type": "stream",
     "text": [
      "F_onewayResult(statistic=nan, pvalue=nan)\n"
     ]
    },
    {
     "data": {
      "text/plain": [
       "False"
      ]
     },
     "execution_count": 23,
     "metadata": {},
     "output_type": "execute_result"
    }
   ],
   "source": [
    "# ANOVA Test\n",
    "result = stats.f_oneway( *cln_ratings.values())\n",
    "print(result)\n",
    "# Is the p-value less than 0.05?\n",
    "result.pvalue < .05"
   ]
  },
  {
   "cell_type": "code",
   "execution_count": 24,
   "id": "55e157ae",
   "metadata": {},
   "outputs": [],
   "source": [
    "# Lables for Tukey's Pairwise Multiple Comparisons Test\n",
    "values = df['revenue']\n",
    "labels = df['certification']"
   ]
  },
  {
   "cell_type": "code",
   "execution_count": 25,
   "id": "efda2cf5",
   "metadata": {},
   "outputs": [
    {
     "ename": "TypeError",
     "evalue": "'<' not supported between instances of 'str' and 'float'",
     "output_type": "error",
     "traceback": [
      "\u001b[0;31m---------------------------------------------------------------------------\u001b[0m",
      "\u001b[0;31mTypeError\u001b[0m                                 Traceback (most recent call last)",
      "Cell \u001b[0;32mIn [25], line 2\u001b[0m\n\u001b[1;32m      1\u001b[0m \u001b[38;5;66;03m## perform tukey's multiple comparison test and display the summary\u001b[39;00m\n\u001b[0;32m----> 2\u001b[0m tukeys_results \u001b[38;5;241m=\u001b[39m \u001b[43mpairwise_tukeyhsd\u001b[49m\u001b[43m(\u001b[49m\u001b[43mvalues\u001b[49m\u001b[43m,\u001b[49m\u001b[43mlabels\u001b[49m\u001b[43m)\u001b[49m\n\u001b[1;32m      3\u001b[0m tukeys_results\u001b[38;5;241m.\u001b[39msummary()\n",
      "File \u001b[0;32m/opt/homebrew/Caskroom/miniforge/base/envs/dojo-env/lib/python3.9/site-packages/statsmodels/stats/multicomp.py:44\u001b[0m, in \u001b[0;36mpairwise_tukeyhsd\u001b[0;34m(endog, groups, alpha)\u001b[0m\n\u001b[1;32m     14\u001b[0m \u001b[38;5;28;01mdef\u001b[39;00m \u001b[38;5;21mpairwise_tukeyhsd\u001b[39m(endog, groups, alpha\u001b[38;5;241m=\u001b[39m\u001b[38;5;241m0.05\u001b[39m):\n\u001b[1;32m     15\u001b[0m     \u001b[38;5;124;03m\"\"\"\u001b[39;00m\n\u001b[1;32m     16\u001b[0m \u001b[38;5;124;03m    Calculate all pairwise comparisons with TukeyHSD confidence intervals\u001b[39;00m\n\u001b[1;32m     17\u001b[0m \n\u001b[0;32m   (...)\u001b[0m\n\u001b[1;32m     41\u001b[0m \u001b[38;5;124;03m    statsmodels.sandbox.stats.multicomp.TukeyHSDResults\u001b[39;00m\n\u001b[1;32m     42\u001b[0m \u001b[38;5;124;03m    \"\"\"\u001b[39;00m\n\u001b[0;32m---> 44\u001b[0m     \u001b[38;5;28;01mreturn\u001b[39;00m \u001b[43mMultiComparison\u001b[49m\u001b[43m(\u001b[49m\u001b[43mendog\u001b[49m\u001b[43m,\u001b[49m\u001b[43m \u001b[49m\u001b[43mgroups\u001b[49m\u001b[43m)\u001b[49m\u001b[38;5;241m.\u001b[39mtukeyhsd(alpha\u001b[38;5;241m=\u001b[39malpha)\n",
      "File \u001b[0;32m/opt/homebrew/Caskroom/miniforge/base/envs/dojo-env/lib/python3.9/site-packages/statsmodels/sandbox/stats/multicomp.py:817\u001b[0m, in \u001b[0;36mMultiComparison.__init__\u001b[0;34m(self, data, groups, group_order)\u001b[0m\n\u001b[1;32m    815\u001b[0m \u001b[38;5;66;03m# Allow for user-provided sorting of groups\u001b[39;00m\n\u001b[1;32m    816\u001b[0m \u001b[38;5;28;01mif\u001b[39;00m group_order \u001b[38;5;129;01mis\u001b[39;00m \u001b[38;5;28;01mNone\u001b[39;00m:\n\u001b[0;32m--> 817\u001b[0m     \u001b[38;5;28mself\u001b[39m\u001b[38;5;241m.\u001b[39mgroupsunique, \u001b[38;5;28mself\u001b[39m\u001b[38;5;241m.\u001b[39mgroupintlab \u001b[38;5;241m=\u001b[39m \u001b[43mnp\u001b[49m\u001b[38;5;241;43m.\u001b[39;49m\u001b[43munique\u001b[49m\u001b[43m(\u001b[49m\u001b[43mgroups\u001b[49m\u001b[43m,\u001b[49m\n\u001b[1;32m    818\u001b[0m \u001b[43m                                                    \u001b[49m\u001b[43mreturn_inverse\u001b[49m\u001b[38;5;241;43m=\u001b[39;49m\u001b[38;5;28;43;01mTrue\u001b[39;49;00m\u001b[43m)\u001b[49m\n\u001b[1;32m    819\u001b[0m \u001b[38;5;28;01melse\u001b[39;00m:\n\u001b[1;32m    820\u001b[0m     \u001b[38;5;66;03m#check if group_order has any names not in groups\u001b[39;00m\n\u001b[1;32m    821\u001b[0m     \u001b[38;5;28;01mfor\u001b[39;00m grp \u001b[38;5;129;01min\u001b[39;00m group_order:\n",
      "File \u001b[0;32m<__array_function__ internals>:180\u001b[0m, in \u001b[0;36munique\u001b[0;34m(*args, **kwargs)\u001b[0m\n",
      "File \u001b[0;32m/opt/homebrew/Caskroom/miniforge/base/envs/dojo-env/lib/python3.9/site-packages/numpy/lib/arraysetops.py:274\u001b[0m, in \u001b[0;36munique\u001b[0;34m(ar, return_index, return_inverse, return_counts, axis, equal_nan)\u001b[0m\n\u001b[1;32m    272\u001b[0m ar \u001b[38;5;241m=\u001b[39m np\u001b[38;5;241m.\u001b[39masanyarray(ar)\n\u001b[1;32m    273\u001b[0m \u001b[38;5;28;01mif\u001b[39;00m axis \u001b[38;5;129;01mis\u001b[39;00m \u001b[38;5;28;01mNone\u001b[39;00m:\n\u001b[0;32m--> 274\u001b[0m     ret \u001b[38;5;241m=\u001b[39m \u001b[43m_unique1d\u001b[49m\u001b[43m(\u001b[49m\u001b[43mar\u001b[49m\u001b[43m,\u001b[49m\u001b[43m \u001b[49m\u001b[43mreturn_index\u001b[49m\u001b[43m,\u001b[49m\u001b[43m \u001b[49m\u001b[43mreturn_inverse\u001b[49m\u001b[43m,\u001b[49m\u001b[43m \u001b[49m\u001b[43mreturn_counts\u001b[49m\u001b[43m,\u001b[49m\u001b[43m \u001b[49m\n\u001b[1;32m    275\u001b[0m \u001b[43m                    \u001b[49m\u001b[43mequal_nan\u001b[49m\u001b[38;5;241;43m=\u001b[39;49m\u001b[43mequal_nan\u001b[49m\u001b[43m)\u001b[49m\n\u001b[1;32m    276\u001b[0m     \u001b[38;5;28;01mreturn\u001b[39;00m _unpack_tuple(ret)\n\u001b[1;32m    278\u001b[0m \u001b[38;5;66;03m# axis was specified and not None\u001b[39;00m\n",
      "File \u001b[0;32m/opt/homebrew/Caskroom/miniforge/base/envs/dojo-env/lib/python3.9/site-packages/numpy/lib/arraysetops.py:333\u001b[0m, in \u001b[0;36m_unique1d\u001b[0;34m(ar, return_index, return_inverse, return_counts, equal_nan)\u001b[0m\n\u001b[1;32m    330\u001b[0m optional_indices \u001b[38;5;241m=\u001b[39m return_index \u001b[38;5;129;01mor\u001b[39;00m return_inverse\n\u001b[1;32m    332\u001b[0m \u001b[38;5;28;01mif\u001b[39;00m optional_indices:\n\u001b[0;32m--> 333\u001b[0m     perm \u001b[38;5;241m=\u001b[39m \u001b[43mar\u001b[49m\u001b[38;5;241;43m.\u001b[39;49m\u001b[43margsort\u001b[49m\u001b[43m(\u001b[49m\u001b[43mkind\u001b[49m\u001b[38;5;241;43m=\u001b[39;49m\u001b[38;5;124;43m'\u001b[39;49m\u001b[38;5;124;43mmergesort\u001b[39;49m\u001b[38;5;124;43m'\u001b[39;49m\u001b[43m \u001b[49m\u001b[38;5;28;43;01mif\u001b[39;49;00m\u001b[43m \u001b[49m\u001b[43mreturn_index\u001b[49m\u001b[43m \u001b[49m\u001b[38;5;28;43;01melse\u001b[39;49;00m\u001b[43m \u001b[49m\u001b[38;5;124;43m'\u001b[39;49m\u001b[38;5;124;43mquicksort\u001b[39;49m\u001b[38;5;124;43m'\u001b[39;49m\u001b[43m)\u001b[49m\n\u001b[1;32m    334\u001b[0m     aux \u001b[38;5;241m=\u001b[39m ar[perm]\n\u001b[1;32m    335\u001b[0m \u001b[38;5;28;01melse\u001b[39;00m:\n",
      "\u001b[0;31mTypeError\u001b[0m: '<' not supported between instances of 'str' and 'float'"
     ]
    }
   ],
   "source": [
    "## perform tukey's multiple comparison test and display the summary\n",
    "tukeys_results = pairwise_tukeyhsd(values,labels)\n",
    "tukeys_results.summary()"
   ]
  },
  {
   "cell_type": "markdown",
   "id": "0af6352e",
   "metadata": {},
   "source": [
    "# HELP: Why do i have this Error above"
   ]
  },
  {
   "cell_type": "code",
   "execution_count": 26,
   "id": "2d308133",
   "metadata": {},
   "outputs": [
    {
     "data": {
      "image/png": "[encoded data removed]",
      "text/plain": [
       "<Figure size 640x480 with 1 Axes>"
      ]
     },
     "metadata": {},
     "output_type": "display_data"
    }
   ],
   "source": [
    "# Plot \n",
    "ax = sns.barplot(x=df['certification'], y = df['revenue'])\n",
    "ax.set_title('MPAA Ratings by Revenue')\n",
    "ax.yaxis.set_major_formatter('${x:,.0f}');"
   ]
  },
  {
   "cell_type": "markdown",
   "id": "34d91f99",
   "metadata": {},
   "source": [
    "## Conclusion"
   ]
  },
  {
   "cell_type": "markdown",
   "id": "8910705c",
   "metadata": {},
   "source": [
    "Answer?"
   ]
  },
  {
   "cell_type": "markdown",
   "id": "647a71f4",
   "metadata": {},
   "source": [
    "## Question Two: (Independent)\n",
    "Do movies that are over 2.5 hours long earn more revenue than movies that are 1.5 hours long (or less)?"
   ]
  },
  {
   "cell_type": "markdown",
   "id": "b43b3c13",
   "metadata": {},
   "source": [
    "Hypothesis Testing Statement:\n",
    "- Null Hypothesis: There is no significant difference in revenue earned for movies that are => 2.5hrs long and those that are =<1.5hrs long.\n",
    "- Alternative Hypothesis: There is a significant difference in revenue earned for movies that are => 2.5hrs long and those that are =<1.5hrs long.\n",
    "\n",
    "Hypothesis Test:\n",
    "- alpha = 0.05\n",
    "- 2 Sample T-test(Independent) because we are looking at two samples and testing the earned revenue which is numeric. \n",
    "- Assumptions; No Outliers, Normality and Equal Variance\n",
    "    - If Lenene's. test does not passed, we will use Welch's T-test: equal_var= False to the ttest_ind"
   ]
  },
  {
   "cell_type": "code",
   "execution_count": 36,
   "id": "de844526",
   "metadata": {},
   "outputs": [
    {
     "data": {
      "text/html": [
       "<div>\n",
       "<style scoped>\n",
       "    .dataframe tbody tr th:only-of-type {\n",
       "        vertical-align: middle;\n",
       "    }\n",
       "\n",
       "    .dataframe tbody tr th {\n",
       "        vertical-align: top;\n",
       "    }\n",
       "\n",
       "    .dataframe thead th {\n",
       "        text-align: right;\n",
       "    }\n",
       "</style>\n",
       "<table border=\"1\" class=\"dataframe\">\n",
       "  <thead>\n",
       "    <tr style=\"text-align: right;\">\n",
       "      <th></th>\n",
       "      <th>imdb_id</th>\n",
       "      <th>adult</th>\n",
       "      <th>belongs_to_collection</th>\n",
       "      <th>budget</th>\n",
       "      <th>genres</th>\n",
       "      <th>popularity</th>\n",
       "      <th>revenue</th>\n",
       "      <th>runtime</th>\n",
       "      <th>title</th>\n",
       "      <th>vote_average</th>\n",
       "      <th>vote_count</th>\n",
       "      <th>certification</th>\n",
       "      <th>genres_list</th>\n",
       "      <th>year</th>\n",
       "      <th>month</th>\n",
       "      <th>day</th>\n",
       "      <th>over_two_half</th>\n",
       "      <th>under_one_half</th>\n",
       "    </tr>\n",
       "  </thead>\n",
       "  <tbody>\n",
       "    <tr>\n",
       "      <th>0</th>\n",
       "      <td>tt0113026</td>\n",
       "      <td>0.0</td>\n",
       "      <td>False</td>\n",
       "      <td>10000000.0</td>\n",
       "      <td>[{'id': 35, 'name': 'Comedy'}, {'id': 10402, '...</td>\n",
       "      <td>3.004</td>\n",
       "      <td>0.0</td>\n",
       "      <td>86.0</td>\n",
       "      <td>The Fantasticks</td>\n",
       "      <td>5.5</td>\n",
       "      <td>22.0</td>\n",
       "      <td>NaN</td>\n",
       "      <td>Comedy</td>\n",
       "      <td>2000.0</td>\n",
       "      <td>9.0</td>\n",
       "      <td>22.0</td>\n",
       "      <td>False</td>\n",
       "      <td>True</td>\n",
       "    </tr>\n",
       "    <tr>\n",
       "      <th>0</th>\n",
       "      <td>tt0113026</td>\n",
       "      <td>0.0</td>\n",
       "      <td>False</td>\n",
       "      <td>10000000.0</td>\n",
       "      <td>[{'id': 35, 'name': 'Comedy'}, {'id': 10402, '...</td>\n",
       "      <td>3.004</td>\n",
       "      <td>0.0</td>\n",
       "      <td>86.0</td>\n",
       "      <td>The Fantasticks</td>\n",
       "      <td>5.5</td>\n",
       "      <td>22.0</td>\n",
       "      <td>NaN</td>\n",
       "      <td>Music</td>\n",
       "      <td>2000.0</td>\n",
       "      <td>9.0</td>\n",
       "      <td>22.0</td>\n",
       "      <td>False</td>\n",
       "      <td>True</td>\n",
       "    </tr>\n",
       "    <tr>\n",
       "      <th>0</th>\n",
       "      <td>tt0113026</td>\n",
       "      <td>0.0</td>\n",
       "      <td>False</td>\n",
       "      <td>10000000.0</td>\n",
       "      <td>[{'id': 35, 'name': 'Comedy'}, {'id': 10402, '...</td>\n",
       "      <td>3.004</td>\n",
       "      <td>0.0</td>\n",
       "      <td>86.0</td>\n",
       "      <td>The Fantasticks</td>\n",
       "      <td>5.5</td>\n",
       "      <td>22.0</td>\n",
       "      <td>NaN</td>\n",
       "      <td>Romance</td>\n",
       "      <td>2000.0</td>\n",
       "      <td>9.0</td>\n",
       "      <td>22.0</td>\n",
       "      <td>False</td>\n",
       "      <td>True</td>\n",
       "    </tr>\n",
       "    <tr>\n",
       "      <th>1</th>\n",
       "      <td>tt0113092</td>\n",
       "      <td>0.0</td>\n",
       "      <td>False</td>\n",
       "      <td>0.0</td>\n",
       "      <td>[{'id': 878, 'name': 'Science Fiction'}]</td>\n",
       "      <td>1.678</td>\n",
       "      <td>0.0</td>\n",
       "      <td>100.0</td>\n",
       "      <td>For the Cause</td>\n",
       "      <td>5.1</td>\n",
       "      <td>8.0</td>\n",
       "      <td>NaN</td>\n",
       "      <td>Science Fiction</td>\n",
       "      <td>2000.0</td>\n",
       "      <td>11.0</td>\n",
       "      <td>15.0</td>\n",
       "      <td>False</td>\n",
       "      <td>False</td>\n",
       "    </tr>\n",
       "    <tr>\n",
       "      <th>2</th>\n",
       "      <td>tt0116391</td>\n",
       "      <td>0.0</td>\n",
       "      <td>False</td>\n",
       "      <td>0.0</td>\n",
       "      <td>[{'id': 18, 'name': 'Drama'}, {'id': 28, 'name...</td>\n",
       "      <td>0.930</td>\n",
       "      <td>0.0</td>\n",
       "      <td>152.0</td>\n",
       "      <td>Gang</td>\n",
       "      <td>4.0</td>\n",
       "      <td>1.0</td>\n",
       "      <td>NaN</td>\n",
       "      <td>Drama</td>\n",
       "      <td>2000.0</td>\n",
       "      <td>4.0</td>\n",
       "      <td>14.0</td>\n",
       "      <td>True</td>\n",
       "      <td>False</td>\n",
       "    </tr>\n",
       "  </tbody>\n",
       "</table>\n",
       "</div>"
      ],
      "text/plain": [
       "     imdb_id  adult  belongs_to_collection      budget  \\\n",
       "0  tt0113026    0.0                  False  10000000.0   \n",
       "0  tt0113026    0.0                  False  10000000.0   \n",
       "0  tt0113026    0.0                  False  10000000.0   \n",
       "1  tt0113092    0.0                  False         0.0   \n",
       "2  tt0116391    0.0                  False         0.0   \n",
       "\n",
       "                                              genres  popularity  revenue  \\\n",
       "0  [{'id': 35, 'name': 'Comedy'}, {'id': 10402, '...       3.004      0.0   \n",
       "0  [{'id': 35, 'name': 'Comedy'}, {'id': 10402, '...       3.004      0.0   \n",
       "0  [{'id': 35, 'name': 'Comedy'}, {'id': 10402, '...       3.004      0.0   \n",
       "1           [{'id': 878, 'name': 'Science Fiction'}]       1.678      0.0   \n",
       "2  [{'id': 18, 'name': 'Drama'}, {'id': 28, 'name...       0.930      0.0   \n",
       "\n",
       "   runtime            title  vote_average  vote_count certification  \\\n",
       "0     86.0  The Fantasticks           5.5        22.0           NaN   \n",
       "0     86.0  The Fantasticks           5.5        22.0           NaN   \n",
       "0     86.0  The Fantasticks           5.5        22.0           NaN   \n",
       "1    100.0    For the Cause           5.1         8.0           NaN   \n",
       "2    152.0             Gang           4.0         1.0           NaN   \n",
       "\n",
       "       genres_list    year  month   day  over_two_half  under_one_half  \n",
       "0           Comedy  2000.0    9.0  22.0          False            True  \n",
       "0            Music  2000.0    9.0  22.0          False            True  \n",
       "0          Romance  2000.0    9.0  22.0          False            True  \n",
       "1  Science Fiction  2000.0   11.0  15.0          False           False  \n",
       "2            Drama  2000.0    4.0  14.0           True           False  "
      ]
     },
     "execution_count": 36,
     "metadata": {},
     "output_type": "execute_result"
    }
   ],
   "source": [
    "df.head()"
   ]
  },
  {
   "cell_type": "code",
   "execution_count": 38,
   "id": "00be8ae7",
   "metadata": {},
   "outputs": [
    {
     "data": {
      "text/html": [
       "<div>\n",
       "<style scoped>\n",
       "    .dataframe tbody tr th:only-of-type {\n",
       "        vertical-align: middle;\n",
       "    }\n",
       "\n",
       "    .dataframe tbody tr th {\n",
       "        vertical-align: top;\n",
       "    }\n",
       "\n",
       "    .dataframe thead th {\n",
       "        text-align: right;\n",
       "    }\n",
       "</style>\n",
       "<table border=\"1\" class=\"dataframe\">\n",
       "  <thead>\n",
       "    <tr style=\"text-align: right;\">\n",
       "      <th></th>\n",
       "      <th>imdb_id</th>\n",
       "      <th>adult</th>\n",
       "      <th>belongs_to_collection</th>\n",
       "      <th>budget</th>\n",
       "      <th>genres</th>\n",
       "      <th>popularity</th>\n",
       "      <th>revenue</th>\n",
       "      <th>runtime</th>\n",
       "      <th>title</th>\n",
       "      <th>vote_average</th>\n",
       "      <th>vote_count</th>\n",
       "      <th>certification</th>\n",
       "      <th>genres_list</th>\n",
       "      <th>year</th>\n",
       "      <th>month</th>\n",
       "      <th>day</th>\n",
       "      <th>over_two_half</th>\n",
       "      <th>under_one_half</th>\n",
       "    </tr>\n",
       "  </thead>\n",
       "  <tbody>\n",
       "    <tr>\n",
       "      <th>0</th>\n",
       "      <td>tt0113026</td>\n",
       "      <td>0.0</td>\n",
       "      <td>False</td>\n",
       "      <td>10000000.0</td>\n",
       "      <td>[{'id': 35, 'name': 'Comedy'}, {'id': 10402, '...</td>\n",
       "      <td>3.004</td>\n",
       "      <td>0.0</td>\n",
       "      <td>86.0</td>\n",
       "      <td>The Fantasticks</td>\n",
       "      <td>5.5</td>\n",
       "      <td>22.0</td>\n",
       "      <td>NaN</td>\n",
       "      <td>Comedy</td>\n",
       "      <td>2000.0</td>\n",
       "      <td>9.0</td>\n",
       "      <td>22.0</td>\n",
       "      <td>False</td>\n",
       "      <td>True</td>\n",
       "    </tr>\n",
       "    <tr>\n",
       "      <th>0</th>\n",
       "      <td>tt0113026</td>\n",
       "      <td>0.0</td>\n",
       "      <td>False</td>\n",
       "      <td>10000000.0</td>\n",
       "      <td>[{'id': 35, 'name': 'Comedy'}, {'id': 10402, '...</td>\n",
       "      <td>3.004</td>\n",
       "      <td>0.0</td>\n",
       "      <td>86.0</td>\n",
       "      <td>The Fantasticks</td>\n",
       "      <td>5.5</td>\n",
       "      <td>22.0</td>\n",
       "      <td>NaN</td>\n",
       "      <td>Music</td>\n",
       "      <td>2000.0</td>\n",
       "      <td>9.0</td>\n",
       "      <td>22.0</td>\n",
       "      <td>False</td>\n",
       "      <td>True</td>\n",
       "    </tr>\n",
       "  </tbody>\n",
       "</table>\n",
       "</div>"
      ],
      "text/plain": [
       "     imdb_id  adult  belongs_to_collection      budget  \\\n",
       "0  tt0113026    0.0                  False  10000000.0   \n",
       "0  tt0113026    0.0                  False  10000000.0   \n",
       "\n",
       "                                              genres  popularity  revenue  \\\n",
       "0  [{'id': 35, 'name': 'Comedy'}, {'id': 10402, '...       3.004      0.0   \n",
       "0  [{'id': 35, 'name': 'Comedy'}, {'id': 10402, '...       3.004      0.0   \n",
       "\n",
       "   runtime            title  vote_average  vote_count certification  \\\n",
       "0     86.0  The Fantasticks           5.5        22.0           NaN   \n",
       "0     86.0  The Fantasticks           5.5        22.0           NaN   \n",
       "\n",
       "  genres_list    year  month   day  over_two_half  under_one_half  \n",
       "0      Comedy  2000.0    9.0  22.0          False            True  \n",
       "0       Music  2000.0    9.0  22.0          False            True  "
      ]
     },
     "execution_count": 38,
     "metadata": {},
     "output_type": "execute_result"
    }
   ],
   "source": [
    "# Create columns\n",
    "df['over_two_half'] = df['runtime'] >= 150.0\n",
    "df['under_one_half'] = df['runtime'] <= 90.0\n",
    "df.head(2)"
   ]
  },
  {
   "cell_type": "code",
   "execution_count": 39,
   "id": "deeac968",
   "metadata": {},
   "outputs": [
    {
     "data": {
      "text/plain": [
       "False    109197\n",
       "True       2586\n",
       "Name: over_two_half, dtype: int64"
      ]
     },
     "execution_count": 39,
     "metadata": {},
     "output_type": "execute_result"
    }
   ],
   "source": [
    "df['over_two_half'].value_counts()"
   ]
  },
  {
   "cell_type": "code",
   "execution_count": 40,
   "id": "43632a32",
   "metadata": {},
   "outputs": [
    {
     "data": {
      "text/plain": [
       "False    67829\n",
       "True     43954\n",
       "Name: under_one_half, dtype: int64"
      ]
     },
     "execution_count": 40,
     "metadata": {},
     "output_type": "execute_result"
    }
   ],
   "source": [
    "df['under_one_half'].value_counts()"
   ]
  },
  {
   "cell_type": "code",
   "execution_count": 41,
   "id": "d9040693",
   "metadata": {},
   "outputs": [
    {
     "data": {
      "text/plain": [
       "2586"
      ]
     },
     "metadata": {},
     "output_type": "display_data"
    },
    {
     "data": {
      "text/plain": [
       "43954"
      ]
     },
     "metadata": {},
     "output_type": "display_data"
    }
   ],
   "source": [
    "# Filtering movie runtimes into DFs\n",
    "two_half_df = df.loc[df['over_two_half']== True, ['revenue', 'over_two_half']]\n",
    "one_half_df = df.loc[df['under_one_half']== True, ['revenue', 'under_one_half']]\n",
    "# Filter out feature\n",
    "two_half_rev = two_half_df['revenue']\n",
    "one_half_rev = one_half_df['revenue']\n",
    "# check the qty in each group\n",
    "display(len(two_half_rev), len(one_half_rev))"
   ]
  },
  {
   "cell_type": "code",
   "execution_count": 43,
   "id": "7efd70c1",
   "metadata": {},
   "outputs": [
    {
     "data": {
      "text/html": [
       "<div>\n",
       "<style scoped>\n",
       "    .dataframe tbody tr th:only-of-type {\n",
       "        vertical-align: middle;\n",
       "    }\n",
       "\n",
       "    .dataframe tbody tr th {\n",
       "        vertical-align: top;\n",
       "    }\n",
       "\n",
       "    .dataframe thead th {\n",
       "        text-align: right;\n",
       "    }\n",
       "</style>\n",
       "<table border=\"1\" class=\"dataframe\">\n",
       "  <thead>\n",
       "    <tr style=\"text-align: right;\">\n",
       "      <th></th>\n",
       "      <th>revenue</th>\n",
       "      <th>over_two_half</th>\n",
       "      <th>under_one_half</th>\n",
       "    </tr>\n",
       "  </thead>\n",
       "  <tbody>\n",
       "    <tr>\n",
       "      <th>2</th>\n",
       "      <td>0.0</td>\n",
       "      <td>True</td>\n",
       "      <td>NaN</td>\n",
       "    </tr>\n",
       "    <tr>\n",
       "      <th>2</th>\n",
       "      <td>0.0</td>\n",
       "      <td>True</td>\n",
       "      <td>NaN</td>\n",
       "    </tr>\n",
       "    <tr>\n",
       "      <th>2</th>\n",
       "      <td>0.0</td>\n",
       "      <td>True</td>\n",
       "      <td>NaN</td>\n",
       "    </tr>\n",
       "    <tr>\n",
       "      <th>43</th>\n",
       "      <td>0.0</td>\n",
       "      <td>True</td>\n",
       "      <td>NaN</td>\n",
       "    </tr>\n",
       "    <tr>\n",
       "      <th>60</th>\n",
       "      <td>15000000.0</td>\n",
       "      <td>True</td>\n",
       "      <td>NaN</td>\n",
       "    </tr>\n",
       "    <tr>\n",
       "      <th>...</th>\n",
       "      <td>...</td>\n",
       "      <td>...</td>\n",
       "      <td>...</td>\n",
       "    </tr>\n",
       "    <tr>\n",
       "      <th>60237</th>\n",
       "      <td>0.0</td>\n",
       "      <td>NaN</td>\n",
       "      <td>True</td>\n",
       "    </tr>\n",
       "    <tr>\n",
       "      <th>60237</th>\n",
       "      <td>0.0</td>\n",
       "      <td>NaN</td>\n",
       "      <td>True</td>\n",
       "    </tr>\n",
       "    <tr>\n",
       "      <th>60242</th>\n",
       "      <td>0.0</td>\n",
       "      <td>NaN</td>\n",
       "      <td>True</td>\n",
       "    </tr>\n",
       "    <tr>\n",
       "      <th>60242</th>\n",
       "      <td>0.0</td>\n",
       "      <td>NaN</td>\n",
       "      <td>True</td>\n",
       "    </tr>\n",
       "    <tr>\n",
       "      <th>60242</th>\n",
       "      <td>0.0</td>\n",
       "      <td>NaN</td>\n",
       "      <td>True</td>\n",
       "    </tr>\n",
       "  </tbody>\n",
       "</table>\n",
       "<p>46540 rows × 3 columns</p>\n",
       "</div>"
      ],
      "text/plain": [
       "          revenue over_two_half under_one_half\n",
       "2             0.0          True            NaN\n",
       "2             0.0          True            NaN\n",
       "2             0.0          True            NaN\n",
       "43            0.0          True            NaN\n",
       "60     15000000.0          True            NaN\n",
       "...           ...           ...            ...\n",
       "60237         0.0           NaN           True\n",
       "60237         0.0           NaN           True\n",
       "60242         0.0           NaN           True\n",
       "60242         0.0           NaN           True\n",
       "60242         0.0           NaN           True\n",
       "\n",
       "[46540 rows x 3 columns]"
      ]
     },
     "execution_count": 43,
     "metadata": {},
     "output_type": "execute_result"
    }
   ],
   "source": [
    "plot_df = pd.concat([two_half_df, one_half_df])\n",
    "plot_df"
   ]
  },
  {
   "cell_type": "code",
   "execution_count": 32,
   "id": "c63c1c53",
   "metadata": {},
   "outputs": [
    {
     "data": {
      "text/html": [
       "<div>\n",
       "<style scoped>\n",
       "    .dataframe tbody tr th:only-of-type {\n",
       "        vertical-align: middle;\n",
       "    }\n",
       "\n",
       "    .dataframe tbody tr th {\n",
       "        vertical-align: top;\n",
       "    }\n",
       "\n",
       "    .dataframe thead th {\n",
       "        text-align: right;\n",
       "    }\n",
       "</style>\n",
       "<table border=\"1\" class=\"dataframe\">\n",
       "  <thead>\n",
       "    <tr style=\"text-align: right;\">\n",
       "      <th></th>\n",
       "      <th>revenue</th>\n",
       "      <th>over_two_half</th>\n",
       "    </tr>\n",
       "  </thead>\n",
       "  <tbody>\n",
       "    <tr>\n",
       "      <th>2</th>\n",
       "      <td>0.0</td>\n",
       "      <td>True</td>\n",
       "    </tr>\n",
       "    <tr>\n",
       "      <th>2</th>\n",
       "      <td>0.0</td>\n",
       "      <td>True</td>\n",
       "    </tr>\n",
       "    <tr>\n",
       "      <th>2</th>\n",
       "      <td>0.0</td>\n",
       "      <td>True</td>\n",
       "    </tr>\n",
       "    <tr>\n",
       "      <th>43</th>\n",
       "      <td>0.0</td>\n",
       "      <td>True</td>\n",
       "    </tr>\n",
       "    <tr>\n",
       "      <th>60</th>\n",
       "      <td>15000000.0</td>\n",
       "      <td>True</td>\n",
       "    </tr>\n",
       "    <tr>\n",
       "      <th>...</th>\n",
       "      <td>...</td>\n",
       "      <td>...</td>\n",
       "    </tr>\n",
       "    <tr>\n",
       "      <th>60162</th>\n",
       "      <td>0.0</td>\n",
       "      <td>True</td>\n",
       "    </tr>\n",
       "    <tr>\n",
       "      <th>60162</th>\n",
       "      <td>0.0</td>\n",
       "      <td>True</td>\n",
       "    </tr>\n",
       "    <tr>\n",
       "      <th>60223</th>\n",
       "      <td>0.0</td>\n",
       "      <td>True</td>\n",
       "    </tr>\n",
       "    <tr>\n",
       "      <th>60223</th>\n",
       "      <td>0.0</td>\n",
       "      <td>True</td>\n",
       "    </tr>\n",
       "    <tr>\n",
       "      <th>60223</th>\n",
       "      <td>0.0</td>\n",
       "      <td>True</td>\n",
       "    </tr>\n",
       "  </tbody>\n",
       "</table>\n",
       "<p>2586 rows × 2 columns</p>\n",
       "</div>"
      ],
      "text/plain": [
       "          revenue  over_two_half\n",
       "2             0.0           True\n",
       "2             0.0           True\n",
       "2             0.0           True\n",
       "43            0.0           True\n",
       "60     15000000.0           True\n",
       "...           ...            ...\n",
       "60162         0.0           True\n",
       "60162         0.0           True\n",
       "60223         0.0           True\n",
       "60223         0.0           True\n",
       "60223         0.0           True\n",
       "\n",
       "[2586 rows x 2 columns]"
      ]
     },
     "execution_count": 32,
     "metadata": {},
     "output_type": "execute_result"
    }
   ],
   "source": [
    "two_half_df"
   ]
  },
  {
   "cell_type": "markdown",
   "id": "46e951a3",
   "metadata": {},
   "source": [
    "### No Outliers Assumption"
   ]
  },
  {
   "cell_type": "code",
   "execution_count": 33,
   "id": "0437ade4",
   "metadata": {},
   "outputs": [
    {
     "data": {
      "text/plain": [
       "68"
      ]
     },
     "execution_count": 33,
     "metadata": {},
     "output_type": "execute_result"
    }
   ],
   "source": [
    "# Outliers\n",
    "zscores_s = stats.zscore(two_half_rev)\n",
    "outliers_s = abs(zscores_s)>3\n",
    "np.sum(outliers_s)"
   ]
  },
  {
   "cell_type": "code",
   "execution_count": 34,
   "id": "878c9032",
   "metadata": {},
   "outputs": [],
   "source": [
    "# Remove Outliers\n",
    "two_half_rev_cln = two_half_rev[(np.abs(stats.zscore(two_half_rev)) < 3)]"
   ]
  },
  {
   "cell_type": "code",
   "execution_count": null,
   "id": "e5e640e5",
   "metadata": {},
   "outputs": [],
   "source": [
    "# Outliers\n",
    "zscores_s = stats.zscore(one_half_rev)\n",
    "outliers_s = abs(zscores_s)>3\n",
    "np.sum(outliers_s)"
   ]
  },
  {
   "cell_type": "code",
   "execution_count": null,
   "id": "c322e5a9",
   "metadata": {},
   "outputs": [],
   "source": [
    "# Remove Outliers\n",
    "one_half_rev_cln = one_half_rev[(np.abs(stats.zscore(one_half_rev)) < 3)]"
   ]
  },
  {
   "cell_type": "markdown",
   "id": "f5c0303a",
   "metadata": {},
   "source": [
    "- Outliers have been removed"
   ]
  },
  {
   "cell_type": "markdown",
   "id": "2f36deef",
   "metadata": {},
   "source": [
    "### Normality Assumption"
   ]
  },
  {
   "cell_type": "code",
   "execution_count": null,
   "id": "220f4975",
   "metadata": {},
   "outputs": [],
   "source": [
    "# Normality\n",
    "result_two = stats.normaltest(two_half_rev_cln)\n",
    "print(result_two)\n",
    "# Is the p-value less than 0.05?\n",
    "result_two.pvalue < .05"
   ]
  },
  {
   "cell_type": "code",
   "execution_count": null,
   "id": "6f81f3dd",
   "metadata": {},
   "outputs": [],
   "source": [
    "# Normality\n",
    "result_one = stats.normaltest(one_half_rev_cln)\n",
    "print(result_one)\n",
    "# Is the p-value less than 0.05?\n",
    "result_one.pvalue < .05"
   ]
  },
  {
   "cell_type": "code",
   "execution_count": null,
   "id": "fc5e0647",
   "metadata": {},
   "outputs": [],
   "source": [
    "display(len(one_half_rev_cln), len(two_half_rev_cln))"
   ]
  },
  {
   "cell_type": "markdown",
   "id": "3309383a",
   "metadata": {},
   "source": [
    "- The samples distribution is not normal as our p-value is less than alpha, so we reject the null hypothesis.\n",
    "- Since we have more than 20 in each sample we will continue with our last assumption."
   ]
  },
  {
   "cell_type": "markdown",
   "id": "427cafbc",
   "metadata": {},
   "source": [
    "### Equal Variance Assumption"
   ]
  },
  {
   "cell_type": "code",
   "execution_count": null,
   "id": "f64ae19f",
   "metadata": {},
   "outputs": [],
   "source": [
    "# Equal Variance\n",
    "result = stats.levene(one_half_rev_cln, two_half_rev_cln)\n",
    "print(result)\n",
    "# is the p-value less than 0.05?\n",
    "result.pvalue < .05"
   ]
  },
  {
   "cell_type": "markdown",
   "id": "2b8777f2",
   "metadata": {},
   "source": [
    "- P-value is less than alpha which indicates we do not have Equal Variance in our samples. Therefore, we reject the null hypothesis and we can proceed by using the Welch's T-Test."
   ]
  },
  {
   "cell_type": "markdown",
   "id": "6662d70f",
   "metadata": {},
   "source": [
    "### Test"
   ]
  },
  {
   "cell_type": "code",
   "execution_count": null,
   "id": "32844493",
   "metadata": {},
   "outputs": [],
   "source": [
    "# Welch's T-test\n",
    "# Independent t-test with equal_var set to False\n",
    "\n",
    "result = stats.ttest_ind(one_half_rev_cln, two_half_rev_cln, equal_var = False)\n",
    "print(result)\n",
    "# is the p-value less than 0.05?\n",
    "result.pvalue < .05"
   ]
  },
  {
   "cell_type": "markdown",
   "id": "afc873d7",
   "metadata": {},
   "source": [
    "# HELP: dont know how i can plot  my samples"
   ]
  },
  {
   "cell_type": "code",
   "execution_count": null,
   "id": "7786aa8f",
   "metadata": {},
   "outputs": [],
   "source": [
    "plot_df = pd.concat([has_discount, no_discount])"
   ]
  },
  {
   "cell_type": "code",
   "execution_count": null,
   "id": "36b684e4",
   "metadata": {},
   "outputs": [],
   "source": [
    "sns.barplot(data=plot_df, y='Quantity', x='has_discount', palette = \"muted\", alpha=.7);"
   ]
  },
  {
   "cell_type": "code",
   "execution_count": null,
   "id": "332134e8",
   "metadata": {},
   "outputs": [],
   "source": [
    "# Plot \n",
    "ax = sns.barplot(x= , y = df['revenue'])\n",
    "ax.set_title('Runtime by Revenue')\n",
    "ax.yaxis.set_major_formatter('${x:,.0f}');"
   ]
  },
  {
   "cell_type": "markdown",
   "id": "6b894672",
   "metadata": {},
   "source": [
    "### Conclusion\n",
    "\n",
    "- Welch's T-Test gave the p-value of less than alpha, therefore we reject the null hypothesis and support the alternative hypothesis.\n",
    "- There is a significant difference of revenue for movies with a runtime of >=2.5 hours and <=1.5 hours.\n",
    "- With our plot we can see the there is a greater earned revenue with movies...."
   ]
  },
  {
   "cell_type": "markdown",
   "id": "c4a2c449",
   "metadata": {},
   "source": [
    "## Question Three: (ANOVA)\n",
    "Do some movie genres earn more revenue than others?"
   ]
  },
  {
   "cell_type": "markdown",
   "id": "0c3b44ec",
   "metadata": {},
   "source": [
    "Hypothesis Testing Statements:\n",
    "\n",
    "- Null Hypothesis: Movie genres do not have a significant difference in revenue earned.\n",
    "\n",
    "- Alternative Hypothesis: There is a significant difference in revenue earned for movie genres.\n",
    "\n",
    "Hypothesis Test:\n",
    "\n",
    "- alpha = 0.05\n",
    "- ANOVA test because the are more than two genres and the revenue we are testing is numeric.\n",
    "    - To see which samples hold significance, we will use; statsmodels.stats.multicomp.pairwise_tukeyhsd\n",
    "- Assumptions: No Outliers, Normality and Equal Variance\n",
    "    - If assumptions fail: use kruskal test; stats.kruskal()"
   ]
  },
  {
   "cell_type": "code",
   "execution_count": null,
   "id": "091eeaa5",
   "metadata": {},
   "outputs": [],
   "source": [
    "df.head(2)"
   ]
  },
  {
   "cell_type": "code",
   "execution_count": null,
   "id": "d617f1d5",
   "metadata": {},
   "outputs": [],
   "source": [
    "each_genre= df['genres_list'].unique()\n",
    "each_genre"
   ]
  },
  {
   "cell_type": "code",
   "execution_count": null,
   "id": "b8e2ce32",
   "metadata": {},
   "outputs": [],
   "source": [
    "genres_groups = {}\n",
    "\n",
    "## Loop through all unique categories\n",
    "for genres in each_genre:\n",
    "    ## Get series for group and rename\n",
    "    data = df.loc[df['genres_list']==genres,'revenue']\n",
    "    \n",
    "       # save into the dictionary\n",
    "    genres_groups[genres] = data\n",
    "genres_groups.keys()"
   ]
  },
  {
   "cell_type": "markdown",
   "id": "8103d315",
   "metadata": {},
   "source": [
    "### No Outliers Assumption"
   ]
  },
  {
   "cell_type": "code",
   "execution_count": null,
   "id": "d0ea679a",
   "metadata": {},
   "outputs": [],
   "source": [
    "# Outliers\n",
    "\n",
    "cln_genres = {}\n",
    "\n",
    "for each_genre, genre_data in genres_groups.items():\n",
    "    idx_outliers = np.abs(stats.zscore(genre_data))\n",
    "    print(f'There were {idx_outliers.sum():.2f} outliers in {each_genre}')\n",
    "    \n",
    "    genre_data_cln = genre_data[idx_outliers == False]\n",
    "    \n",
    "    cln_genres[each_genre] = genre_data_cln"
   ]
  },
  {
   "cell_type": "markdown",
   "id": "28229794",
   "metadata": {},
   "source": [
    "### Normality Assumption"
   ]
  },
  {
   "cell_type": "code",
   "execution_count": null,
   "id": "789fd09e",
   "metadata": {},
   "outputs": [],
   "source": [
    "# Normality \n",
    "\n",
    "norm_results = [['rating', 'n', 'pval', 'sig']]\n",
    "\n",
    "for each_genre, genre_data in cln_genres.items():\n",
    "    result = stats.normaltest(genre_data)\n",
    "    norm_results.append([each_genre, len(genre_data), result.pvalue, \n",
    "                       result.pval <.05])\n",
    "norm_results\n",
    "\n"
   ]
  },
  {
   "cell_type": "code",
   "execution_count": null,
   "id": "2502dc77",
   "metadata": {},
   "outputs": [],
   "source": [
    "# normality \n",
    "## Running normal test on each group and confirming there are >20 in each group\n",
    "norm_results = {}\n",
    "for i, data in cln_genres.items():\n",
    "    stat, p = stats.normaltest(data)\n",
    "    ## save the p val, test statistic, and the size of the group\n",
    "    norm_results[i] = {'n': len(data),\n",
    "                             'p':p,\n",
    "                             'test stat':stat,}\n",
    "## convert to a dataframe\n",
    "norm_results_df = pd.DataFrame(norm_results).T\n",
    "norm_results_df"
   ]
  },
  {
   "cell_type": "code",
   "execution_count": null,
   "id": "4cc7bd70",
   "metadata": {},
   "outputs": [],
   "source": [
    "### checking sig with pandas \n",
    "norm_results_df['sig'] = norm_results_df['p'] < .05 \n",
    "norm_results_df"
   ]
  },
  {
   "cell_type": "markdown",
   "id": "f83acf1a",
   "metadata": {},
   "source": [
    "### Equal Variance Assumption"
   ]
  },
  {
   "cell_type": "code",
   "execution_count": null,
   "id": "4910e0b0",
   "metadata": {},
   "outputs": [],
   "source": [
    "# Equal Variance\n",
    "result =stats.levene(*cln_genres.values())\n",
    "print(result)\n",
    "# is the p-value less than 0.05?\n",
    "result.pvalue < .05"
   ]
  },
  {
   "cell_type": "markdown",
   "id": "31957eb9",
   "metadata": {},
   "source": [
    "### Test"
   ]
  },
  {
   "cell_type": "code",
   "execution_count": null,
   "id": "ef4909e7",
   "metadata": {},
   "outputs": [],
   "source": [
    "# non- Parametric test, no longer the ANOVA test because equal variance test did not pass.\n",
    "result = stats.kruskal(*cln_genres.values())"
   ]
  },
  {
   "cell_type": "markdown",
   "id": "484942ed",
   "metadata": {},
   "source": [
    "# HELP/question: is the plot the only way to determine the variance or is there a tukey muliple comparison for kruskal?"
   ]
  },
  {
   "cell_type": "code",
   "execution_count": null,
   "id": "0d7ee0d7",
   "metadata": {},
   "outputs": [],
   "source": [
    "# ANOVA Test\n",
    "result = stats.f_oneway( *cln_genres.values())\n",
    "print(result)\n",
    "# is the p-value less than 0.05?\n",
    "result.pvalue < .05"
   ]
  },
  {
   "cell_type": "code",
   "execution_count": null,
   "id": "619eaa34",
   "metadata": {},
   "outputs": [],
   "source": [
    "# Lables for Tukey's Pairwise Multiple Comparisons Test\n",
    "values = df['revenue']\n",
    "labels = df['genres_list']"
   ]
  },
  {
   "cell_type": "code",
   "execution_count": null,
   "id": "8cb04084",
   "metadata": {},
   "outputs": [],
   "source": [
    "## perform tukey's multiple comparison test and display the summary\n",
    "tukeys_results = pairwise_tukeyhsd(values,labels)\n",
    "tukeys_results.summary()"
   ]
  },
  {
   "cell_type": "code",
   "execution_count": null,
   "id": "189f9263",
   "metadata": {
    "scrolled": true
   },
   "outputs": [],
   "source": [
    "# Plot \n",
    "ax = sns.barplot(x=df['genres_list'], y = df['revenue'])\n",
    "ax.set_title('Movie Genres by Renvenue')\n",
    "ax.set_xticklabels(ax.get_xticklabels(), rotation=75);\n",
    "ax.yaxis.set_major_formatter('${x:,.0f}');"
   ]
  },
  {
   "cell_type": "markdown",
   "id": "23f88055",
   "metadata": {},
   "source": [
    "### Conclusion"
   ]
  },
  {
   "cell_type": "markdown",
   "id": "5760e36b",
   "metadata": {},
   "source": [
    "Answer: "
   ]
  },
  {
   "cell_type": "code",
   "execution_count": null,
   "id": "b76a2067",
   "metadata": {},
   "outputs": [],
   "source": []
  }
 ],
 "metadata": {
  "kernelspec": {
   "display_name": "Python (dojo-env)",
   "language": "python",
   "name": "dojo-env"
  },
  "language_info": {
   "codemirror_mode": {
    "name": "ipython",
    "version": 3
   },
   "file_extension": ".py",
   "mimetype": "text/x-python",
   "name": "python",
   "nbconvert_exporter": "python",
   "pygments_lexer": "ipython3",
   "version": "3.9.15"
  },
  "toc": {
   "base_numbering": 1,
   "nav_menu": {},
   "number_sections": true,
   "sideBar": true,
   "skip_h1_title": false,
   "title_cell": "Table of Contents",
   "title_sidebar": "Contents",
   "toc_cell": false,
   "toc_position": {
    "height": "calc(100% - 180px)",
    "left": "10px",
    "top": "150px",
    "width": "281.69px"
   },
   "toc_section_display": true,
   "toc_window_display": true
  }
 },
 "nbformat": 4,
 "nbformat_minor": 5
}
